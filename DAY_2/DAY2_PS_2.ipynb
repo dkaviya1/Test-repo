{
  "nbformat": 4,
  "nbformat_minor": 0,
  "metadata": {
    "colab": {
      "provenance": []
    },
    "kernelspec": {
      "name": "python3",
      "display_name": "Python 3"
    },
    "language_info": {
      "name": "python"
    }
  },
  "cells": [
    {
      "cell_type": "markdown",
      "source": [
        "2.EVEN AND ODD NUMBERS"
      ],
      "metadata": {
        "id": "BMyuyICv9QKe"
      }
    },
    {
      "cell_type": "code",
      "source": [
        "a= list(map(int, input(\"Enter numbers: \").split()))\n",
        "\n",
        "even_count =0\n",
        "odd_count = 0\n",
        "for num in a:\n",
        "    if num % 2 == 0:\n",
        "\n",
        "\n",
        "      even_count += 1\n",
        "\n",
        "    else:\n",
        "        odd_count += 1\n",
        "\n",
        "print(\"Even numbers in a: \", even_count)\n",
        "print(\"Odd numbers in a: \", odd_count)"
      ],
      "metadata": {
        "colab": {
          "base_uri": "https://localhost:8080/"
        },
        "id": "YNQUigeW9SL-",
        "outputId": "66ef4590-f458-4c03-9baf-9716ff90c6fd"
      },
      "execution_count": 11,
      "outputs": [
        {
          "output_type": "stream",
          "name": "stdout",
          "text": [
            "Enter numbers: 19 6 9 20 13 9 6 1\n",
            "Even numbers in a:  3\n",
            "Odd numbers in a:  5\n"
          ]
        }
      ]
    }
  ]
}