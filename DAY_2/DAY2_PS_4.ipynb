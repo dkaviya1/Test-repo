{
  "nbformat": 4,
  "nbformat_minor": 0,
  "metadata": {
    "colab": {
      "provenance": []
    },
    "kernelspec": {
      "name": "python3",
      "display_name": "Python 3"
    },
    "language_info": {
      "name": "python"
    }
  },
  "cells": [
    {
      "cell_type": "markdown",
      "source": [
        "4.Write a Python program to compute the sum of all the multiples of 3 or 5 below 500."
      ],
      "metadata": {
        "id": "0SHMzJEeaW-0"
      }
    },
    {
      "cell_type": "code",
      "source": [
        "tot_sum = 0\n",
        "for num in range(1, 500):\n",
        "   if num % 3 == 0 or num % 5 == 0:\n",
        "       tot_sum += num\n",
        "print( tot_sum)"
      ],
      "metadata": {
        "colab": {
          "base_uri": "https://localhost:8080/"
        },
        "id": "iHAZibIPaiBu",
        "outputId": "24bbc115-9411-4c9a-ed08-461b77e11e48"
      },
      "execution_count": 5,
      "outputs": [
        {
          "output_type": "stream",
          "name": "stdout",
          "text": [
            "57918\n"
          ]
        }
      ]
    }
  ]
}