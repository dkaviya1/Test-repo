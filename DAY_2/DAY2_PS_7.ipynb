{
  "nbformat": 4,
  "nbformat_minor": 0,
  "metadata": {
    "colab": {
      "provenance": []
    },
    "kernelspec": {
      "name": "python3",
      "display_name": "Python 3"
    },
    "language_info": {
      "name": "python"
    }
  },
  "cells": [
    {
      "cell_type": "markdown",
      "source": [
        "7.TO COUNT THE NUMBER OF VOWELS IN A STRING"
      ],
      "metadata": {
        "id": "X6KZVS9sg_6J"
      }
    },
    {
      "cell_type": "code",
      "source": [
        "string = \"KNOLEDGE IS POWER\"\n",
        "vowels = \"aeiouAEIOU\"\n",
        "count = sum(string.count(vowel)for vowel in vowels)\n",
        "print(count)"
      ],
      "metadata": {
        "colab": {
          "base_uri": "https://localhost:8080/"
        },
        "id": "nMZmpOgyhIA9",
        "outputId": "be3b632f-865c-4b22-e360-012d6b41e8c7"
      },
      "execution_count": 8,
      "outputs": [
        {
          "output_type": "stream",
          "name": "stdout",
          "text": [
            "6\n"
          ]
        }
      ]
    }
  ]
}