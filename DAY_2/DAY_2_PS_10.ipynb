{
  "nbformat": 4,
  "nbformat_minor": 0,
  "metadata": {
    "colab": {
      "provenance": []
    },
    "kernelspec": {
      "name": "python3",
      "display_name": "Python 3"
    },
    "language_info": {
      "name": "python"
    }
  },
  "cells": [
    {
      "cell_type": "markdown",
      "source": [
        "11.Python program to display the given integer in reverse order using the function without an in-built function"
      ],
      "metadata": {
        "id": "YXTvp5WSRcLs"
      }
    },
    {
      "cell_type": "code",
      "source": [
        "def reverse_integer(n):\n",
        "  rev_num = 0\n",
        "  while n > 0:\n",
        "      rev_num = rev_num * 10 + n % 10\n",
        "      n = 10\n",
        "  return rev_num\n",
        "\n",
        "n = int(input(\"Enter an integer: \"))\n",
        "reversed_number = reverse_integer(n)\n",
        "print(\"The reversed integer is:\", reverse_integer(n))"
      ],
      "metadata": {
        "colab": {
          "base_uri": "https://localhost:8080/"
        },
        "id": "JsG7pqmgRlcM",
        "outputId": "8b6ce7dc-ba46-4506-d844-8fb69fbc4dbd"
      },
      "execution_count": null,
      "outputs": [
        {
          "name": "stdout",
          "output_type": "stream",
          "text": [
            "Enter an integer: 20\n"
          ]
        }
      ]
    }
  ]
}