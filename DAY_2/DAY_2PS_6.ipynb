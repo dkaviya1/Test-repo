{
  "nbformat": 4,
  "nbformat_minor": 0,
  "metadata": {
    "colab": {
      "provenance": []
    },
    "kernelspec": {
      "name": "python3",
      "display_name": "Python 3"
    },
    "language_info": {
      "name": "python"
    }
  },
  "cells": [
    {
      "cell_type": "markdown",
      "source": [
        "6.TO COMPUTE MATRIX  MULTIPLICATION"
      ],
      "metadata": {
        "id": "fkoiDnMRmpwk"
      }
    },
    {
      "cell_type": "code",
      "source": [
        "X = [[1,2,3],\n",
        "    [4 ,5,6],\n",
        "    [7 ,8,9]]\n",
        "Y = [[1,2,1,3],\n",
        "    [4,7,3,0],\n",
        "    [6,5,0,1]]\n",
        "result = [[0,0,0,0],\n",
        "         [0,0,0,0],\n",
        "         [0,0,0,0]]\n",
        "for i in range(len(X)):\n",
        "   for j in range(len(Y[0])):\n",
        "       for k in range(len(Y)):\n",
        "           result[i][j] += X[i][k] * Y[k][j]\n",
        "\n",
        "for r in result:\n",
        "   print(r)\n"
      ],
      "metadata": {
        "colab": {
          "base_uri": "https://localhost:8080/"
        },
        "id": "bidzgoHRmuXK",
        "outputId": "4d77e444-9eca-442e-dc68-f93ae8b9b271"
      },
      "execution_count": 2,
      "outputs": [
        {
          "output_type": "stream",
          "name": "stdout",
          "text": [
            "[27, 31, 7, 6]\n",
            "[60, 73, 19, 18]\n",
            "[93, 115, 31, 30]\n"
          ]
        }
      ]
    }
  ]
}