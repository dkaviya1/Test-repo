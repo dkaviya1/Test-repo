{
  "nbformat": 4,
  "nbformat_minor": 0,
  "metadata": {
    "colab": {
      "provenance": []
    },
    "kernelspec": {
      "name": "python3",
      "display_name": "Python 3"
    },
    "language_info": {
      "name": "python"
    }
  },
  "cells": [
    {
      "cell_type": "markdown",
      "source": [
        "11.Write a Python Function to display all integers within the range 200-300 whose sum of digits is an even number.\n",
        "   "
      ],
      "metadata": {
        "id": "uzKBocVENqQr"
      }
    },
    {
      "cell_type": "code",
      "source": [
        "def sum_of_digits_even(num):\n",
        "        digit_sum = sum(int(digit) for digit in str(num))\n",
        "        return digit_sum % 2 == 0\n",
        "def find_integers_with_even_digit_sum(start, end):\n",
        "    result = []\n",
        "    for num in range(start, end + 1):\n",
        "        if sum_of_digits_even(num):\n",
        "             result.append(num)\n",
        "    return result\n",
        "start_range = int(input(\"enter the start range: \"))\n",
        "end_range =  int(input(\"enter the end range: \"))\n",
        "integers_with_even_digit_sum = find_integers_with_even_digit_sum(start_range, end_range)\n",
        "print(\"Integers in the range \",{start_range},\"-\",{end_range} ,\"whose sum of digits is even:\")\n",
        "print(integers_with_even_digit_sum)\n",
        ""
      ],
      "metadata": {
        "colab": {
          "base_uri": "https://localhost:8080/"
        },
        "id": "bO-NmQGKNxSM",
        "outputId": "0d93659f-fab9-40ca-ae4a-24bba246145b"
      },
      "execution_count": 4,
      "outputs": [
        {
          "output_type": "stream",
          "name": "stdout",
          "text": [
            "enter the start range: 200\n",
            "enter the end range: 300\n",
            "Integers in the range  {200} - {300} whose sum of digits is even:\n",
            "[200, 202, 204, 206, 208, 211, 213, 215, 217, 219, 220, 222, 224, 226, 228, 231, 233, 235, 237, 239, 240, 242, 244, 246, 248, 251, 253, 255, 257, 259, 260, 262, 264, 266, 268, 271, 273, 275, 277, 279, 280, 282, 284, 286, 288, 291, 293, 295, 297, 299]\n"
          ]
        }
      ]
    }
  ]
}