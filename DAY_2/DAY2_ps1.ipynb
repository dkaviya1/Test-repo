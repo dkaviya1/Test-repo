{
  "nbformat": 4,
  "nbformat_minor": 0,
  "metadata": {
    "colab": {
      "provenance": []
    },
    "kernelspec": {
      "name": "python3",
      "display_name": "Python 3"
    },
    "language_info": {
      "name": "python"
    }
  },
  "cells": [
    {
      "cell_type": "markdown",
      "source": [
        "1.WRITE A PYTHON FUNCTION TO PRINT EVEN AND ODD NUMBERS IN A LIST"
      ],
      "metadata": {
        "id": "dSI0EqDUbG6r"
      }
    },
    {
      "cell_type": "code",
      "source": [
        "List = [1,2,3,4,5,6,7,8,9]\n",
        "\n",
        "even = []\n",
        "odd = []\n",
        "\n",
        "for i in List:\n",
        "    if(i % 2 == 0):\n",
        "        even.append(i)\n",
        "    else:\n",
        "        odd.append(i)\n",
        "\n",
        "print(\"Even number: \",even)\n",
        "print(\"Odd number: \",odd)"
      ],
      "metadata": {
        "colab": {
          "base_uri": "https://localhost:8080/"
        },
        "id": "hSjAVrGEbWTX",
        "outputId": "8d0e15a2-820e-420d-b14e-e0f1910281a8"
      },
      "execution_count": 3,
      "outputs": [
        {
          "output_type": "stream",
          "name": "stdout",
          "text": [
            "Even number:  [2, 4, 6, 8]\n",
            "Odd number:  [1, 3, 5, 7, 9]\n"
          ]
        }
      ]
    }
  ]
}