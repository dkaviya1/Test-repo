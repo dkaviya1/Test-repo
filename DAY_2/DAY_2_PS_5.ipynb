{
  "nbformat": 4,
  "nbformat_minor": 0,
  "metadata": {
    "colab": {
      "provenance": []
    },
    "kernelspec": {
      "name": "python3",
      "display_name": "Python 3"
    },
    "language_info": {
      "name": "python"
    }
  },
  "cells": [
    {
      "cell_type": "markdown",
      "source": [
        "5.To write a Python program to find first 'n' prime numbers from a list of given numbers."
      ],
      "metadata": {
        "id": "JycRm_fabkOu"
      }
    },
    {
      "cell_type": "code",
      "source": [
        "def prime(n):\n",
        "    if n <= 1:\n",
        "       return False\n",
        "    for i in range(2, int(n ** 0.5) + 1):\n",
        "        if n % i == 0:\n",
        "          return False\n",
        "    return True\n",
        "def find_primes(n, nums):\n",
        "    primes = []\n",
        "    for i, num in enumerate(nums):\n",
        "        if prime(num):\n",
        "                primes.append(num)\n",
        "                if len(primes) == n:\n",
        "                   break\n",
        "        return primes\n",
        "\n",
        "nums = [2, 3, 5, 7, 1]\n",
        "print(find_primes(6, nums))"
      ],
      "metadata": {
        "colab": {
          "base_uri": "https://localhost:8080/"
        },
        "id": "Y80tjySCbskm",
        "outputId": "8ec2ff46-c3ab-4d8d-9cf9-dc615442ee15"
      },
      "execution_count": 7,
      "outputs": [
        {
          "output_type": "stream",
          "name": "stdout",
          "text": [
            "[2]\n"
          ]
        }
      ]
    }
  ]
}