{
  "nbformat": 4,
  "nbformat_minor": 0,
  "metadata": {
    "colab": {
      "provenance": []
    },
    "kernelspec": {
      "name": "python3",
      "display_name": "Python 3"
    },
    "language_info": {
      "name": "python"
    }
  },
  "cells": [
    {
      "cell_type": "markdown",
      "source": [
        "13.Write functions called is sorted that takes a list as a parameter and returns True if the list is sorted I in ascending order and False otherwise and has duplicates that takes a list and returns True if there is any element that appears more than once. It should not modify the original list."
      ],
      "metadata": {
        "id": "41Y4d7s7Knds"
      }
    },
    {
      "cell_type": "code",
      "source": [
        "def is_sorted(input_list):\n",
        "    return all(input_list[i] <= input_list[i+1] for i in range(len(input_list)-1))\n",
        "def has_duplicates(input_list):\n",
        "    seen = set()\n",
        "    for item in input_list:\n",
        "        if item in seen:\n",
        "           return True\n",
        "    seen.add(item)\n",
        "    return False\n",
        "sorted_list = [1, 2, 3, 4, 5]\n",
        "unsorted_list = [5, 2, 7, 1, 4]\n",
        "list_with_duplicates = [1, 2, 3, 2, 4]\n",
        "print(\\\"Is sorted (ascending order):\\\")\n",
        "print(is_sorted(sorted_list))\n",
        "print(is_sorted(unsorted_list))\n",
        "print(\\\"\\\\nHas duplicates:\\\")\n",
        "print(has_duplicates(sorted_list))\n",
        "print(has_duplicates(list_with_duplicates))\n"
      ],
      "metadata": {
        "colab": {
          "base_uri": "https://localhost:8080/",
          "height": 140
        },
        "id": "meySSOAzKybO",
        "outputId": "fa747aec-de5a-4ded-c5e3-568a6597c777"
      },
      "execution_count": 7,
      "outputs": [
        {
          "output_type": "error",
          "ename": "SyntaxError",
          "evalue": "ignored",
          "traceback": [
            "\u001b[0;36m  File \u001b[0;32m\"<ipython-input-7-768ef52fd1cb>\"\u001b[0;36m, line \u001b[0;32m13\u001b[0m\n\u001b[0;31m    print(\"Is sorted (ascending order):\\\")\u001b[0m\n\u001b[0m          ^\u001b[0m\n\u001b[0;31mSyntaxError\u001b[0m\u001b[0;31m:\u001b[0m unterminated string literal (detected at line 13)\n"
          ]
        }
      ]
    }
  ]
}