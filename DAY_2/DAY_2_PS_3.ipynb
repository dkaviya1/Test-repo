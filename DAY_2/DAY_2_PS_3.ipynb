{
  "nbformat": 4,
  "nbformat_minor": 0,
  "metadata": {
    "colab": {
      "provenance": []
    },
    "kernelspec": {
      "name": "python3",
      "display_name": "Python 3"
    },
    "language_info": {
      "name": "python"
    }
  },
  "cells": [
    {
      "cell_type": "markdown",
      "source": [
        "3. Write a Python program where you take any positive integer n, if n is even, divide it by 2 to get n / 2. If n is odd, multiply it by 3 and add 1 to obtain 3n+ 1. Repeat the process until you reach 1."
      ],
      "metadata": {
        "id": "UlUIdqxMXSfO"
      }
    },
    {
      "cell_type": "code",
      "source": [
        "def coll_seque(n):\n",
        "    while n != 1:\n",
        "        print(n, end=' ')\n",
        "        if n % 2 == 0:\n",
        "               n = n // 2\n",
        "        else:\n",
        "             n = 3 * n + 1\n",
        "    print(1)\n",
        "try:\n",
        "       n = int(input(\"Enter a positive integer: \"))\n",
        "       if n <= 0:\n",
        "           print(\"Please enter a positive integer.\")\n",
        "       else:\n",
        "            print(\"Collatz sequence:\")\n",
        "            coll_seque(n)\n",
        "except ValueError:\n",
        "    print(\"Invalid input. Please enter a positive integer.\")"
      ],
      "metadata": {
        "colab": {
          "base_uri": "https://localhost:8080/"
        },
        "id": "nkaqar1jYViU",
        "outputId": "7886ecbe-c4ad-44c2-d93e-afcd20ae5aa0"
      },
      "execution_count": 5,
      "outputs": [
        {
          "output_type": "stream",
          "name": "stdout",
          "text": [
            "Enter a positive integer: 56\n",
            "Collatz sequence:\n",
            "56 28 14 7 22 11 34 17 52 26 13 40 20 10 5 16 8 4 2 1\n"
          ]
        }
      ]
    }
  ]
}