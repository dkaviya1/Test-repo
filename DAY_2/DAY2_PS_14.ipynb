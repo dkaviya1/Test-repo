{
  "nbformat": 4,
  "nbformat_minor": 0,
  "metadata": {
    "colab": {
      "provenance": []
    },
    "kernelspec": {
      "name": "python3",
      "display_name": "Python 3"
    },
    "language_info": {
      "name": "python"
    }
  },
  "cells": [
    {
      "cell_type": "markdown",
      "source": [],
      "metadata": {
        "id": "KssFyRvgHFI5"
      }
    },
    {
      "cell_type": "code",
      "source": [
        "\n",
        "def nested_sum(nested_list):\n",
        "    total = 0\n",
        "    for sublist in nested_list:\n",
        "        total += sum(sublist)\n",
        "    return total\n",
        "def cumsum(input_list):\n",
        "    cumulative_sum = []\n",
        "    current_sum = 0\n",
        "    for num in input_list:\n",
        "        current_sum += num\n",
        "        cumulative_sum.append(current_sum)\n",
        "    return cumulative_sum\n",
        "nested_numbers = [[1, 2], [3,4, 5], [6, 7, 8]]\n",
        "result_nested = nested_sum(nested_numbers)\n",
        "print(\"Nested Sum:\", result_nested)\n",
        "\n",
        "numbers = [1, 2, 3, 4, 5]\n",
        "result_cumsum = cumsum(numbers)\n",
        "print(\"Cumulative Sum:\", result_cumsum)\n",
        ""
      ],
      "metadata": {
        "colab": {
          "base_uri": "https://localhost:8080/"
        },
        "id": "e5C6-nJbHG6h",
        "outputId": "2b4c47d3-592b-421b-9be6-22a2959eb789"
      },
      "execution_count": 15,
      "outputs": [
        {
          "output_type": "stream",
          "name": "stdout",
          "text": [
            "Nested Sum: 36\n",
            "Cumulative Sum: [1, 3, 6, 10, 15]\n"
          ]
        }
      ]
    }
  ]
}