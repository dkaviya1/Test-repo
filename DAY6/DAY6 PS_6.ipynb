{
 "cells": [
  {
   "cell_type": "markdown",
   "id": "43f66bf4",
   "metadata": {},
   "source": [
    "# OnlineShopping Cart, You are tasked with designing a class hierarchy for an online shopping cart system. The system should handle products, shopping carts, and orders. Consider various OOP principles while designing this system."
   ]
  },
  {
   "cell_type": "code",
   "execution_count": 3,
   "id": "9d32978b",
   "metadata": {},
   "outputs": [
    {
     "ename": "TypeError",
     "evalue": "'ShoppingCart' object is not iterable",
     "output_type": "error",
     "traceback": [
      "\u001b[1;31m---------------------------------------------------------------------------\u001b[0m",
      "\u001b[1;31mTypeError\u001b[0m                                 Traceback (most recent call last)",
      "Cell \u001b[1;32mIn[3], line 65\u001b[0m\n\u001b[0;32m     63\u001b[0m cart\u001b[38;5;241m.\u001b[39madd_item(phone)\n\u001b[0;32m     64\u001b[0m cart\u001b[38;5;241m.\u001b[39madd_item(t_shirt)\n\u001b[1;32m---> 65\u001b[0m \u001b[38;5;28;01mfor\u001b[39;00m item \u001b[38;5;129;01min\u001b[39;00m cart:\n\u001b[0;32m     66\u001b[0m     \u001b[38;5;28mprint\u001b[39m(item\u001b[38;5;241m.\u001b[39mdisplay())\n\u001b[0;32m     67\u001b[0m     total_cost \u001b[38;5;241m=\u001b[39m cart\u001b[38;5;241m.\u001b[39mcalculate_total_cost()\n",
      "\u001b[1;31mTypeError\u001b[0m: 'ShoppingCart' object is not iterable"
     ]
    }
   ],
   "source": [
    "class Product:\n",
    "    def __init__(self, name, price):\n",
    "        self.__name = name  \n",
    "        self.__price = price  \n",
    "\n",
    "    def get_name(self):\n",
    "        return self.__name\n",
    "\n",
    "    def get_price(self):\n",
    "        return self.__price\n",
    "\n",
    "    def display(self):\n",
    "        return f\"{self.__name}: {self.__price}\"\n",
    "\n",
    "class Electronics(Product):\n",
    "    def __init__(self, name, price, brand):\n",
    "        super().__init__(name, price)\n",
    "        self.__brand = brand\n",
    "\n",
    "    def get_brand(self):\n",
    "        return self.__brand\n",
    "\n",
    "    def display(self):\n",
    "        return f\"{self.get_name()} ({self.__brand}): {self.get_price()}\"\n",
    "\n",
    "class Clothing(Product):\n",
    "    def __init__(self, name, price, size):\n",
    "        super().__init__(name, price)\n",
    "        self.__size = size\n",
    "\n",
    "    def get_size(self):\n",
    "        return self.__size\n",
    "\n",
    "    def display(self):\n",
    "        return f\"{self.get_name()} (Size {self.__size}): {self.get_price()}\"\n",
    "\n",
    "class ShoppingCart:\n",
    "    def __init__(self):\n",
    "        self.__items = []\n",
    "\n",
    "    def add_item(self, item):\n",
    "        self.__items.append(item)\n",
    "\n",
    "    def remove_item(self, item):\n",
    "        if item in self.__items:\n",
    "            self.__items.remove(item)\n",
    "\n",
    "    def calculate_total_cost(self):\n",
    "        total_cost = sum(item.get_price() for item in self.__items)\n",
    "        return total_cost\n",
    "\n",
    "class Order:\n",
    "    def __init__(self, items):\n",
    "        self.__items = items\n",
    "\n",
    "    def place_order(self):\n",
    "        pass\n",
    "if __name__ == \"__main__\":\n",
    "    phone = Electronics(\"Android\", 500, \"Samsung\")\n",
    "    t_shirt = Clothing(\"T-Shirt\", 100, \"M\")\n",
    "\n",
    "    cart = ShoppingCart()\n",
    "    cart.add_item(phone)\n",
    "    cart.add_item(t_shirt)\n",
    "    for item in cart:\n",
    "        print(item.display())\n",
    "        total_cost = cart.calculate_total_cost()\n",
    "    print(f\"Total cost of items in the cart: {total_cost}\")\n",
    "    order = Order(cart)\n",
    "    order.place_order()\n"
   ]
  },
  {
   "cell_type": "code",
   "execution_count": null,
   "id": "e15e03ad",
   "metadata": {},
   "outputs": [],
   "source": []
  }
 ],
 "metadata": {
  "kernelspec": {
   "display_name": "Python 3 (ipykernel)",
   "language": "python",
   "name": "python3"
  },
  "language_info": {
   "codemirror_mode": {
    "name": "ipython",
    "version": 3
   },
   "file_extension": ".py",
   "mimetype": "text/x-python",
   "name": "python",
   "nbconvert_exporter": "python",
   "pygments_lexer": "ipython3",
   "version": "3.11.4"
  }
 },
 "nbformat": 4,
 "nbformat_minor": 5
}
