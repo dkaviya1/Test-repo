{
 "cells": [
  {
   "cell_type": "markdown",
   "id": "da861316",
   "metadata": {},
   "source": [
    "# Library Management System-Scenario: You are developing a library management system where you need to handle books, patrons, and library transactions."
   ]
  },
  {
   "cell_type": "code",
   "execution_count": 6,
   "id": "c9c4398f",
   "metadata": {},
   "outputs": [
    {
     "name": "stdout",
     "output_type": "stream",
     "text": [
      "john checked out The Alchemist\n"
     ]
    }
   ],
   "source": [
    "class Book:\n",
    "    def __init__(self, title, author, isbn):\n",
    "        self.__title = title\n",
    "        self.__author = author\n",
    "        self.__isbn = isbn\n",
    "        self.__checked_out=False \n",
    "\n",
    "    def get_title(self):\n",
    "        return self.__title\n",
    "\n",
    "    def get_author(self):\n",
    "        return self.__author\n",
    "\n",
    "    def get_isbn(self):\n",
    "        return self.__isbn\n",
    "\n",
    "    def is_checked_out(self):\n",
    "        return self.__checked_out\n",
    "\n",
    "    def check_out(self):\n",
    "        if not self.__checked_out:\n",
    "            self.__checked_out = True\n",
    "            return True\n",
    "        return False\n",
    "\n",
    "    def return_book(self):\n",
    "        if self.__checked_out:\n",
    "            self.__checked_out = False\n",
    "            return True\n",
    "        return False\n",
    "\n",
    "class FictionBook(Book):\n",
    "    def __init__(self, title, author, isbn, musicbook):\n",
    "        super().__init__(title, author, isbn)\n",
    "        self.__musicbook = musicbook\n",
    "\n",
    "    def get_musicbook(self):\n",
    "        return self.__musicbook\n",
    "\n",
    "class Patron:\n",
    "    def __init__(self, name, librarycard):\n",
    "        self.__name = name\n",
    "        self.__librarycard = librarycard\n",
    "\n",
    "    def get_name(self):\n",
    "        return self.__name\n",
    "\n",
    "    def get_librarycard(self):\n",
    "        return self.__librarycard\n",
    "\n",
    "class Transaction:\n",
    "    def __init__(self, book, patron, check_out_date, due_date):\n",
    "        self.__book = book\n",
    "        self.__patron = patron\n",
    "        self.__check_out_date = check_out_date\n",
    "        self.__due_date = due_date\n",
    "\n",
    "    def get_book(self):\n",
    "        return self.__book\n",
    "\n",
    "    def get_patron(self):\n",
    "        return self.__patron\n",
    "\n",
    "    def get_check_out_date(self):\n",
    "        return self.__check_out_date\n",
    "\n",
    "    def get_due_date(self):\n",
    "        return self.__due_date\n",
    "\n",
    "    def is_overdue(self):\n",
    "        \n",
    "        return False \n",
    "if __name__ == \"__main__\":\n",
    "    fiction_book = FictionBook(\"The Alchemist\", \"Paulo\", \"123-0547876822\", \"Fantasy\")\n",
    "    patron = Patron(\"john\", \"12345\")\n",
    "    transaction = Transaction(fiction_book, patron, \"2023-09-02\", \"2023-09-10\")\n",
    "    success = fiction_book.check_out()\n",
    "    if success:\n",
    "        print(f\"{patron.get_name()} checked out {fiction_book.get_title()}\")\n",
    "    else:\n",
    "        print(f\"{fiction_book.get_title()} is already checked out\")\n",
    "    if transaction.is_overdue():\n",
    "        print(f\"{fiction_book.get_title()} is overdue. Please return it.\")\n"
   ]
  },
  {
   "cell_type": "code",
   "execution_count": null,
   "id": "b4ff955d",
   "metadata": {},
   "outputs": [],
   "source": []
  }
 ],
 "metadata": {
  "kernelspec": {
   "display_name": "Python 3 (ipykernel)",
   "language": "python",
   "name": "python3"
  },
  "language_info": {
   "codemirror_mode": {
    "name": "ipython",
    "version": 3
   },
   "file_extension": ".py",
   "mimetype": "text/x-python",
   "name": "python",
   "nbconvert_exporter": "python",
   "pygments_lexer": "ipython3",
   "version": "3.11.4"
  }
 },
 "nbformat": 4,
 "nbformat_minor": 5
}
