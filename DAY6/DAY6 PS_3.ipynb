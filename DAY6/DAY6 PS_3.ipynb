{
 "cells": [
  {
   "cell_type": "markdown",
   "id": "05891607",
   "metadata": {},
   "source": [
    "# You are tasked with designing a Python class hierarchy for a simple banking system. The system should be able to handle different types of accounts, such as Savings Accounts and Checking Accounts. Both account types should have common attributes like an account number, account holder's name, and balance. However, Savings Accounts should have an additional attribute for interest rate, while Checking Accounts should have an attribute for overdraft limit."
   ]
  },
  {
   "cell_type": "code",
   "execution_count": 8,
   "id": "8c60caf0",
   "metadata": {},
   "outputs": [
    {
     "name": "stdout",
     "output_type": "stream",
     "text": [
      "Deposited amount 500. New balance: 3000\n",
      "Interest: 3150.0\n",
      "Deposited amount 200. New balance: 1200\n",
      "Withdrew  700. New balance:  500\n"
     ]
    }
   ],
   "source": [
    "class BankAccount:\n",
    "    def __init__(self, acc_num, acc_holder_name, balance):\n",
    "        self.acc_num = acc_num\n",
    "        self.acc_holder_name = acc_holder_name\n",
    "        self.balance = balance\n",
    "\n",
    "    def deposit(self, amount):\n",
    "        if amount > 0:\n",
    "            self.balance += amount\n",
    "            print(f\"Deposited amount {amount}. New balance: {self.balance}\")\n",
    "        else:\n",
    "            print(\"Invalid deposit amount.\")\n",
    "\n",
    "    def withdraw(self, amount):\n",
    "        if amount > 0 and self.balance >= amount:\n",
    "            self.balance = amount\n",
    "            print(f\"Withdrew amount {amount}. New balance: {self.balance}\")\n",
    "        else:\n",
    "            print(\"Invalid withdrawal amount.\")\n",
    "\n",
    "class SavingsAccount(BankAccount):\n",
    "    def __init__(self, acc_num, acc_holder_name, balance, interest_rate):\n",
    "        super().__init__(acc_num, acc_holder_name, balance)\n",
    "        self.interest_rate = interest_rate\n",
    "\n",
    "    def calculate_interest(self):\n",
    "        interest = (self.balance * self.interest_rate) / 100\n",
    "        self.balance += interest\n",
    "        print(f\"Interest: {self.balance}\")\n",
    "\n",
    "class CheckingAccount(BankAccount):\n",
    "    def __init__(self, acc_num, acc_holder_name, balance, overdraft_limit):\n",
    "        super().__init__(acc_num, acc_holder_name, balance)\n",
    "        self.overdraft_limit = overdraft_limit\n",
    "\n",
    "    def withdraw(self, amount):\n",
    "        if amount > 0 and (self.balance + self.overdraft_limit) >= amount:\n",
    "            self.balance -= amount\n",
    "            print(f\"Withdrew  {amount}. New balance:  {self.balance}\")\n",
    "        else:\n",
    "            print(\"Invalid withdrawal amount\")\n",
    "if __name__ == \"__main__\":\n",
    "    savings_account = SavingsAccount(\"ab123\", \"john\", 2500, 5.0)  \n",
    "    checking_account = CheckingAccount(\"CA456\", \"pari\",1000, 200)    \n",
    "    savings_account.deposit(500)\n",
    "    savings_account.calculate_interest()\n",
    "\n",
    "    checking_account.deposit(200)\n",
    "    checking_account.withdraw(700)  \n"
   ]
  },
  {
   "cell_type": "code",
   "execution_count": null,
   "id": "e7ff725c",
   "metadata": {},
   "outputs": [],
   "source": []
  }
 ],
 "metadata": {
  "kernelspec": {
   "display_name": "Python 3 (ipykernel)",
   "language": "python",
   "name": "python3"
  },
  "language_info": {
   "codemirror_mode": {
    "name": "ipython",
    "version": 3
   },
   "file_extension": ".py",
   "mimetype": "text/x-python",
   "name": "python",
   "nbconvert_exporter": "python",
   "pygments_lexer": "ipython3",
   "version": "3.11.4"
  }
 },
 "nbformat": 4,
 "nbformat_minor": 5
}
