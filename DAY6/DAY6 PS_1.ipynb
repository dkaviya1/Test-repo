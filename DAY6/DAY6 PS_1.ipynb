{
 "cells": [
  {
   "cell_type": "markdown",
   "id": "71a5da65",
   "metadata": {},
   "source": [
    "# 1. Write a python program to create a base class \"Shape\" with methods to calculate area and perimeter. Then, create derived classes \"Circle\" and \"Rectangle\" that inherit from the base class and calculate their respective areas and perimeters. Demonstrate their usage in a program."
   ]
  },
  {
   "cell_type": "code",
   "execution_count": 9,
   "id": "483e1f74",
   "metadata": {},
   "outputs": [
    {
     "name": "stdout",
     "output_type": "stream",
     "text": [
      "Circle - Area: 28.274333882308138, Perimeter: 18.84955592153876\n",
      "Rectangle - Area: 2, Perimeter: 6\n",
      "Your score: 1/2\n"
     ]
    }
   ],
   "source": [
    "import math\n",
    "\n",
    "class Shape:\n",
    "    def calculate_area(self):\n",
    "        pass\n",
    "    \n",
    "    def calculate_perimeter(self):\n",
    "        pass\n",
    "\n",
    "class Circle(Shape):\n",
    "    def __init__(self, radius):\n",
    "        self.radius = radius\n",
    "    \n",
    "    def calculate_area(self):\n",
    "        return math.pi * self.radius ** 2\n",
    "    \n",
    "    def calculate_perimeter(self):\n",
    "        return 2 * math.pi * self.radius\n",
    "\n",
    "class Rectangle(Shape):\n",
    "    def __init__(self, length, width):\n",
    "        self.length = length\n",
    "        self.width = width\n",
    "    \n",
    "    def calculate_area(self):\n",
    "        return self.length * self.width\n",
    "    \n",
    "    def calculate_perimeter(self):\n",
    "        return 2 * (self.length + self.width)\n",
    "if __name__ == \"__main__\":\n",
    "    circle = Circle(3)\n",
    "    rectangle = Rectangle(1,2)\n",
    "    \n",
    "    print(f\"Circle - Area: {circle.calculate_area()}, Perimeter: {circle.calculate_perimeter()}\")\n",
    "    print(f\"Rectangle - Area: {rectangle.calculate_area()}, Perimeter: {rectangle.calculate_perimeter()}\")\n",
    "\n",
    "class Question:\n",
    "    def __init__(self, question_text, options, correct_option):\n",
    "        self.question_text = question_text\n",
    "        self.options = options\n",
    "        self.correct_option = correct_option\n",
    "\n",
    "class Quiz:\n",
    "    def __init__(self, quiz_name):\n",
    "        self.quiz_name = quiz_name\n",
    "        self.questions = []\n",
    "    \n",
    "    def add_question(self, question):\n",
    "        self.questions.append(question)\n",
    "    \n",
    "    def calculate_score(self, user_answers):\n",
    "        score = 0\n",
    "        for i, question in enumerate(self.questions):\n",
    "            if user_answers[i] == question.correct_option:\n",
    "                score += 1\n",
    "        return score\n",
    "if __name__ == \"__main__\":\n",
    "    q1 = Question(\"What is 3+ 4?\", [\"1\", \"2\", \"3\", \"4\"], 3)\n",
    "    q2 = Question(\"What is 5+3?\", [\"8\", \"9\", \"10\", \"1\"], 1)\n",
    "    \n",
    "    quiz = Quiz(\"Math Quiz\")\n",
    "    quiz.add_question(q1)\n",
    "    quiz.add_question(q2)\n",
    "    \n",
    "    user_answers = [3, 3]  \n",
    "    \n",
    "    score = quiz.calculate_score(user_answers)\n",
    "    print(f\"Your score: {score}/{len(quiz.questions)}\")\n"
   ]
  },
  {
   "cell_type": "code",
   "execution_count": null,
   "id": "7d5767fb",
   "metadata": {},
   "outputs": [],
   "source": []
  }
 ],
 "metadata": {
  "kernelspec": {
   "display_name": "Python 3 (ipykernel)",
   "language": "python",
   "name": "python3"
  },
  "language_info": {
   "codemirror_mode": {
    "name": "ipython",
    "version": 3
   },
   "file_extension": ".py",
   "mimetype": "text/x-python",
   "name": "python",
   "nbconvert_exporter": "python",
   "pygments_lexer": "ipython3",
   "version": "3.11.4"
  }
 },
 "nbformat": 4,
 "nbformat_minor": 5
}
