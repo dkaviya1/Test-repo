{
 "cells": [
  {
   "cell_type": "markdown",
   "id": "1734d5dd",
   "metadata": {},
   "source": [
    "# You are developing an employee management system for a company. Ensure that the system utilizes encapsulation and polymorphism to handle different types of employees. such as full-time and part-time employees"
   ]
  },
  {
   "cell_type": "code",
   "execution_count": 7,
   "id": "4e5c6257",
   "metadata": {},
   "outputs": [
    {
     "name": "stdout",
     "output_type": "stream",
     "text": [
      "john's monthly salary:5833.333333333333\n"
     ]
    },
    {
     "ename": "AttributeError",
     "evalue": "'PartTimeEmployee' object has no attribute '__hours_worked'",
     "output_type": "error",
     "traceback": [
      "\u001b[1;31m---------------------------------------------------------------------------\u001b[0m",
      "\u001b[1;31mAttributeError\u001b[0m                            Traceback (most recent call last)",
      "Cell \u001b[1;32mIn[7], line 41\u001b[0m\n\u001b[0;32m     39\u001b[0m part_time_employee \u001b[38;5;241m=\u001b[39m PartTimeEmployee(\u001b[38;5;124m\"\u001b[39m\u001b[38;5;124mpari\u001b[39m\u001b[38;5;124m\"\u001b[39m, \u001b[38;5;124m\"\u001b[39m\u001b[38;5;124mcd123\u001b[39m\u001b[38;5;124m\"\u001b[39m, \u001b[38;5;241m160\u001b[39m , \u001b[38;5;241m12\u001b[39m)\n\u001b[0;32m     40\u001b[0m \u001b[38;5;28mprint\u001b[39m(\u001b[38;5;124mf\u001b[39m\u001b[38;5;124m\"\u001b[39m\u001b[38;5;132;01m{\u001b[39;00mfull_time_employee\u001b[38;5;241m.\u001b[39mget_name()\u001b[38;5;132;01m}\u001b[39;00m\u001b[38;5;124m'\u001b[39m\u001b[38;5;124ms monthly salary:\u001b[39m\u001b[38;5;132;01m{\u001b[39;00mfull_time_employee\u001b[38;5;241m.\u001b[39mcalculate_salary()\u001b[38;5;132;01m}\u001b[39;00m\u001b[38;5;124m\"\u001b[39m)\n\u001b[1;32m---> 41\u001b[0m \u001b[38;5;28mprint\u001b[39m(\u001b[38;5;124mf\u001b[39m\u001b[38;5;124m\"\u001b[39m\u001b[38;5;132;01m{\u001b[39;00mpart_time_employee\u001b[38;5;241m.\u001b[39mget_name()\u001b[38;5;132;01m}\u001b[39;00m\u001b[38;5;124m'\u001b[39m\u001b[38;5;124ms salary for : \u001b[39m\u001b[38;5;132;01m{\u001b[39;00mpart_time_employee\u001b[38;5;241m.\u001b[39m__hours_worked\u001b[38;5;132;01m}\u001b[39;00m\u001b[38;5;124mhours:\u001b[39m\u001b[38;5;132;01m{\u001b[39;00mpart_time_employee\u001b[38;5;241m.\u001b[39mcalculate_salary()\u001b[38;5;132;01m}\u001b[39;00m\u001b[38;5;124m\"\u001b[39m)\n",
      "\u001b[1;31mAttributeError\u001b[0m: 'PartTimeEmployee' object has no attribute '__hours_worked'"
     ]
    }
   ],
   "source": [
    "class Employee:\n",
    "    def __init__(self, name, employee_id, salary):\n",
    "        self.__name = name  \n",
    "        self.__employee_id = employee_id  \n",
    "        self.__salary = salary  \n",
    "    def get_name(self):\n",
    "        return self.__name\n",
    "    \n",
    "    def get_employee_id(self):\n",
    "        return self.__employee_id\n",
    "    \n",
    "    def get_salary(self):\n",
    "        return self.__salary\n",
    "    def set_name(self, name):\n",
    "        self.__name = name\n",
    "    \n",
    "    def set_employee_id(self, employee_id):\n",
    "        self.__employee_id = employee_id\n",
    "    \n",
    "    def set_salary(self, salary):\n",
    "        self.__salary = salary\n",
    "    def calculate_salary(self):\n",
    "        pass\n",
    "class FullTimeEmployee(Employee):\n",
    "    def __init__(self, name, employee_id, annual_salary):\n",
    "        super().__init__(name, employee_id, annual_salary)\n",
    "    def calculate_salary(self):\n",
    "        return self.get_salary() / 12  \n",
    "\n",
    "class PartTimeEmployee(Employee):\n",
    "    def __init__(self, name, employee_id, hours_worked, hourly_rate):\n",
    "        super().__init__(name, employee_id, None)  \n",
    "        self.__hours_worked = hours_worked\n",
    "        self.__hourly_rate = hourly_rate\n",
    "    def calculate_salary(self):\n",
    "        return self.__hours_worked * self.__hourly_rate\n",
    "if __name__ == \"__main__\":\n",
    "    full_time_employee = FullTimeEmployee(\"john\", \"ab123\",70000)\n",
    "    part_time_employee = PartTimeEmployee(\"pari\", \"cd123\", 160 , 12)\n",
    "    print(f\"{full_time_employee.get_name()}'s monthly salary:{full_time_employee.calculate_salary()}\")\n",
    "    print(f\"{part_time_employee.get_name()}'s salary for : {part_time_employee.__hours_worked}hours:{part_time_employee.calculate_salary()}\")\n"
   ]
  },
  {
   "cell_type": "code",
   "execution_count": null,
   "id": "b328809b",
   "metadata": {},
   "outputs": [],
   "source": []
  }
 ],
 "metadata": {
  "kernelspec": {
   "display_name": "Python 3 (ipykernel)",
   "language": "python",
   "name": "python3"
  },
  "language_info": {
   "codemirror_mode": {
    "name": "ipython",
    "version": 3
   },
   "file_extension": ".py",
   "mimetype": "text/x-python",
   "name": "python",
   "nbconvert_exporter": "python",
   "pygments_lexer": "ipython3",
   "version": "3.11.4"
  }
 },
 "nbformat": 4,
 "nbformat_minor": 5
}
