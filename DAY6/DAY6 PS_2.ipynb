{
 "cells": [
  {
   "cell_type": "markdown",
   "id": "cec8ca59",
   "metadata": {},
   "source": [
    "# Write a python script to create a class \"Person\" with private attributes for age and name. Implement a method to calculate a person's eligibility for voting based on their age. Ensure that age cannot be accessed directly but only through a getter method."
   ]
  },
  {
   "cell_type": "code",
   "execution_count": 4,
   "id": "59ed87e0",
   "metadata": {},
   "outputs": [
    {
     "name": "stdout",
     "output_type": "stream",
     "text": [
      "john is eligible to vote: True\n",
      "pari is eligible to vote: False\n"
     ]
    }
   ],
   "source": [
    "class Person:\n",
    "    def __init__(self, name, age):\n",
    "        self.__name = name  \n",
    "        self.__age = age    \n",
    "    \n",
    "    def get_name(self):\n",
    "        return self.__name\n",
    "    \n",
    "    def get_age(self):\n",
    "        return self.__age\n",
    "    \n",
    "    def is_eligible_to_vote(self):\n",
    "        if self.__age >= 18:\n",
    "            return True\n",
    "        else:\n",
    "            return False\n",
    "if __name__ == \"__main__\":\n",
    "    a= Person(\"john\",24)\n",
    "    b= Person(\"pari\",15)\n",
    "    \n",
    "    print(f\"{a.get_name()} is eligible to vote: {a.is_eligible_to_vote()}\")\n",
    "    print(f\"{b.get_name()} is eligible to vote: {b.is_eligible_to_vote()}\")\n"
   ]
  },
  {
   "cell_type": "code",
   "execution_count": null,
   "id": "c66e9c05",
   "metadata": {},
   "outputs": [],
   "source": []
  }
 ],
 "metadata": {
  "kernelspec": {
   "display_name": "Python 3 (ipykernel)",
   "language": "python",
   "name": "python3"
  },
  "language_info": {
   "codemirror_mode": {
    "name": "ipython",
    "version": 3
   },
   "file_extension": ".py",
   "mimetype": "text/x-python",
   "name": "python",
   "nbconvert_exporter": "python",
   "pygments_lexer": "ipython3",
   "version": "3.11.4"
  }
 },
 "nbformat": 4,
 "nbformat_minor": 5
}
