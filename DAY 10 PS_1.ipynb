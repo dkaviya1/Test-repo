{
 "cells": [
  {
   "cell_type": "code",
   "execution_count": 17,
   "id": "d2c9ff1b",
   "metadata": {},
   "outputs": [
    {
     "data": {
      "text/html": [
       "<div>\n",
       "<style scoped>\n",
       "    .dataframe tbody tr th:only-of-type {\n",
       "        vertical-align: middle;\n",
       "    }\n",
       "\n",
       "    .dataframe tbody tr th {\n",
       "        vertical-align: top;\n",
       "    }\n",
       "\n",
       "    .dataframe thead th {\n",
       "        text-align: right;\n",
       "    }\n",
       "</style>\n",
       "<table border=\"1\" class=\"dataframe\">\n",
       "  <thead>\n",
       "    <tr style=\"text-align: right;\">\n",
       "      <th></th>\n",
       "      <th>title</th>\n",
       "      <th>year</th>\n",
       "    </tr>\n",
       "  </thead>\n",
       "  <tbody>\n",
       "    <tr>\n",
       "      <th>0</th>\n",
       "      <td>Tasveer Mere Sanam</td>\n",
       "      <td>1996</td>\n",
       "    </tr>\n",
       "    <tr>\n",
       "      <th>1</th>\n",
       "      <td>Only You</td>\n",
       "      <td>1994</td>\n",
       "    </tr>\n",
       "    <tr>\n",
       "      <th>2</th>\n",
       "      <td>El pueblo del terror</td>\n",
       "      <td>1970</td>\n",
       "    </tr>\n",
       "    <tr>\n",
       "      <th>3</th>\n",
       "      <td>Machine</td>\n",
       "      <td>2007</td>\n",
       "    </tr>\n",
       "    <tr>\n",
       "      <th>4</th>\n",
       "      <td>MARy</td>\n",
       "      <td>2008</td>\n",
       "    </tr>\n",
       "    <tr>\n",
       "      <th>...</th>\n",
       "      <td>...</td>\n",
       "      <td>...</td>\n",
       "    </tr>\n",
       "    <tr>\n",
       "      <th>244909</th>\n",
       "      <td>Black Butterfly in a Colorful World</td>\n",
       "      <td>2018</td>\n",
       "    </tr>\n",
       "    <tr>\n",
       "      <th>244910</th>\n",
       "      <td>Hua fei hua wu chun man cheng</td>\n",
       "      <td>1980</td>\n",
       "    </tr>\n",
       "    <tr>\n",
       "      <th>244911</th>\n",
       "      <td>Nippon dabi katsukyu</td>\n",
       "      <td>1970</td>\n",
       "    </tr>\n",
       "    <tr>\n",
       "      <th>244912</th>\n",
       "      <td>Under Siege 2: Dark Territory</td>\n",
       "      <td>1995</td>\n",
       "    </tr>\n",
       "    <tr>\n",
       "      <th>244913</th>\n",
       "      <td>She Must Be Seeing Things</td>\n",
       "      <td>1987</td>\n",
       "    </tr>\n",
       "  </tbody>\n",
       "</table>\n",
       "<p>244914 rows × 2 columns</p>\n",
       "</div>"
      ],
      "text/plain": [
       "                                      title  year\n",
       "0                        Tasveer Mere Sanam  1996\n",
       "1                                  Only You  1994\n",
       "2                      El pueblo del terror  1970\n",
       "3                                   Machine  2007\n",
       "4                                      MARy  2008\n",
       "...                                     ...   ...\n",
       "244909  Black Butterfly in a Colorful World  2018\n",
       "244910        Hua fei hua wu chun man cheng  1980\n",
       "244911                 Nippon dabi katsukyu  1970\n",
       "244912        Under Siege 2: Dark Territory  1995\n",
       "244913            She Must Be Seeing Things  1987\n",
       "\n",
       "[244914 rows x 2 columns]"
      ]
     },
     "execution_count": 17,
     "metadata": {},
     "output_type": "execute_result"
    }
   ],
   "source": [
    "import pandas as pd\n",
    "df=pd.read_csv(\"titles.csv\")\n",
    "df\n",
    "\n"
   ]
  },
  {
   "cell_type": "code",
   "execution_count": 25,
   "id": "7b4bbf63",
   "metadata": {},
   "outputs": [
    {
     "data": {
      "text/html": [
       "<div>\n",
       "<style scoped>\n",
       "    .dataframe tbody tr th:only-of-type {\n",
       "        vertical-align: middle;\n",
       "    }\n",
       "\n",
       "    .dataframe tbody tr th {\n",
       "        vertical-align: top;\n",
       "    }\n",
       "\n",
       "    .dataframe thead th {\n",
       "        text-align: right;\n",
       "    }\n",
       "</style>\n",
       "<table border=\"1\" class=\"dataframe\">\n",
       "  <thead>\n",
       "    <tr style=\"text-align: right;\">\n",
       "      <th></th>\n",
       "      <th>title</th>\n",
       "      <th>year</th>\n",
       "    </tr>\n",
       "  </thead>\n",
       "  <tbody>\n",
       "    <tr>\n",
       "      <th>0</th>\n",
       "      <td>Tasveer Mere Sanam</td>\n",
       "      <td>1996</td>\n",
       "    </tr>\n",
       "    <tr>\n",
       "      <th>1</th>\n",
       "      <td>Only You</td>\n",
       "      <td>1994</td>\n",
       "    </tr>\n",
       "    <tr>\n",
       "      <th>2</th>\n",
       "      <td>El pueblo del terror</td>\n",
       "      <td>1970</td>\n",
       "    </tr>\n",
       "    <tr>\n",
       "      <th>3</th>\n",
       "      <td>Machine</td>\n",
       "      <td>2007</td>\n",
       "    </tr>\n",
       "    <tr>\n",
       "      <th>4</th>\n",
       "      <td>MARy</td>\n",
       "      <td>2008</td>\n",
       "    </tr>\n",
       "    <tr>\n",
       "      <th>...</th>\n",
       "      <td>...</td>\n",
       "      <td>...</td>\n",
       "    </tr>\n",
       "    <tr>\n",
       "      <th>244909</th>\n",
       "      <td>Black Butterfly in a Colorful World</td>\n",
       "      <td>2018</td>\n",
       "    </tr>\n",
       "    <tr>\n",
       "      <th>244910</th>\n",
       "      <td>Hua fei hua wu chun man cheng</td>\n",
       "      <td>1980</td>\n",
       "    </tr>\n",
       "    <tr>\n",
       "      <th>244911</th>\n",
       "      <td>Nippon dabi katsukyu</td>\n",
       "      <td>1970</td>\n",
       "    </tr>\n",
       "    <tr>\n",
       "      <th>244912</th>\n",
       "      <td>Under Siege 2: Dark Territory</td>\n",
       "      <td>1995</td>\n",
       "    </tr>\n",
       "    <tr>\n",
       "      <th>244913</th>\n",
       "      <td>She Must Be Seeing Things</td>\n",
       "      <td>1987</td>\n",
       "    </tr>\n",
       "  </tbody>\n",
       "</table>\n",
       "<p>244914 rows × 2 columns</p>\n",
       "</div>"
      ],
      "text/plain": [
       "                                      title  year\n",
       "0                        Tasveer Mere Sanam  1996\n",
       "1                                  Only You  1994\n",
       "2                      El pueblo del terror  1970\n",
       "3                                   Machine  2007\n",
       "4                                      MARy  2008\n",
       "...                                     ...   ...\n",
       "244909  Black Butterfly in a Colorful World  2018\n",
       "244910        Hua fei hua wu chun man cheng  1980\n",
       "244911                 Nippon dabi katsukyu  1970\n",
       "244912        Under Siege 2: Dark Territory  1995\n",
       "244913            She Must Be Seeing Things  1987\n",
       "\n",
       "[244914 rows x 2 columns]"
      ]
     },
     "execution_count": 25,
     "metadata": {},
     "output_type": "execute_result"
    }
   ],
   "source": [
    "titles= pd.read_csv('titles.csv')\n",
    "titles\n",
    "\n",
    "\n",
    "#import pandas as pd\n",
    "#titles = pd.read_csv(\"C:\\Users\\DELL\\Downloads\")\n",
    "#num_movies = titles.shape[0]\n",
    "#print(\"number of movies listed:\" , num_movies)\n"
   ]
  },
  {
   "cell_type": "markdown",
   "id": "6ca8144c",
   "metadata": {},
   "source": [
    "# what are the earliest two films listed in titles dataframe?"
   ]
  },
  {
   "cell_type": "code",
   "execution_count": 3,
   "id": "88406aec",
   "metadata": {},
   "outputs": [
    {
     "name": "stdout",
     "output_type": "stream",
     "text": [
      "The earliest two films listed:\n",
      "                     title  year\n",
      "193222          Miss Jerry  1894\n",
      "51388   The Startled Lover  1898\n"
     ]
    }
   ],
   "source": [
    "import pandas as pd\n",
    "df=pd.read_csv(\"titles.csv\")\n",
    "\n",
    "titles= pd.read_csv('titles.csv')\n",
    "titles_sorted = titles.sort_values(by='year')\n",
    "earliest_films = titles_sorted.head(2)\n",
    "print(\"The earliest two films listed:\")\n",
    "print(earliest_films)"
   ]
  },
  {
   "cell_type": "markdown",
   "id": "e701df37",
   "metadata": {},
   "source": [
    "# how many movies have the title'hamlet'"
   ]
  },
  {
   "cell_type": "code",
   "execution_count": 4,
   "id": "ba4eba7d",
   "metadata": {},
   "outputs": [
    {
     "name": "stdout",
     "output_type": "stream",
     "text": [
      "Number of movies with the title 'Hamlet': 20\n"
     ]
    }
   ],
   "source": [
    "hamlet = titles[titles['title'] == 'Hamlet']\n",
    "num_hamlet = len(hamlet)\n",
    "print(\"Number of movies with the title 'Hamlet':\", num_hamlet)"
   ]
  },
  {
   "cell_type": "markdown",
   "id": "47da5a3a",
   "metadata": {},
   "source": [
    "# how many movies are titled 'north by northwest'"
   ]
  },
  {
   "cell_type": "code",
   "execution_count": 5,
   "id": "ce727946",
   "metadata": {},
   "outputs": [
    {
     "name": "stdout",
     "output_type": "stream",
     "text": [
      "Number of movies with the title 'North by Northwest': 1\n"
     ]
    }
   ],
   "source": [
    "north_by_northwest = titles[titles['title'] == 'North by Northwest']\n",
    "num_north_by_northwest = len(north_by_northwest)\n",
    "print(\"Number of movies with the title 'North by Northwest':\", num_north_by_northwest)"
   ]
  },
  {
   "cell_type": "markdown",
   "id": "6f76d051",
   "metadata": {},
   "source": [
    "# when was the first movie titled hamlet made"
   ]
  },
  {
   "cell_type": "code",
   "execution_count": 6,
   "id": "347686d9",
   "metadata": {},
   "outputs": [
    {
     "name": "stdout",
     "output_type": "stream",
     "text": [
      "The first movie titled 'Hamlet' was made in the year: 1910\n"
     ]
    }
   ],
   "source": [
    "hamlet = titles[titles['title'] == 'Hamlet']\n",
    "hamlet_sorted = hamlet.sort_values(by='year')\n",
    "first_hamlet = hamlet_sorted.iloc[0]\n",
    "release_year = first_hamlet['year']\n",
    "print(\"The first movie titled 'Hamlet' was made in the year:\", release_year)\n"
   ]
  },
  {
   "cell_type": "markdown",
   "id": "0547bede",
   "metadata": {},
   "source": [
    "# list all of the treasure island from the earliest to most recent"
   ]
  },
  {
   "cell_type": "code",
   "execution_count": 7,
   "id": "93ea0f07",
   "metadata": {},
   "outputs": [
    {
     "name": "stdout",
     "output_type": "stream",
     "text": [
      "List of 'Treasure Island' movies from earliest to most recent:\n",
      "                  title  year\n",
      "55686   Treasure Island  1918\n",
      "196514  Treasure Island  1920\n",
      "141822  Treasure Island  1934\n",
      "77354   Treasure Island  1950\n",
      "65051   Treasure Island  1972\n",
      "37238   Treasure Island  1973\n",
      "173051  Treasure Island  1985\n",
      "27076   Treasure Island  1999\n"
     ]
    }
   ],
   "source": [
    "treasure_island = titles[titles['title'] == 'Treasure Island']\n",
    "treasure_island_sorted = treasure_island.sort_values(by='year')\n",
    "print(\"List of 'Treasure Island' movies from earliest to most recent:\")\n",
    "print(treasure_island_sorted)\n",
    "\n"
   ]
  },
  {
   "cell_type": "markdown",
   "id": "b8f0b915",
   "metadata": {},
   "source": [
    "# how many movies were made in the year 1950?"
   ]
  },
  {
   "cell_type": "code",
   "execution_count": 8,
   "id": "069ed698",
   "metadata": {},
   "outputs": [
    {
     "name": "stdout",
     "output_type": "stream",
     "text": [
      "Number of movies made in the year 1950: 1113\n"
     ]
    }
   ],
   "source": [
    "movies_1950 = titles[titles['year'] == 1950]\n",
    "num_movies_1950 = len(movies_1950)\n",
    "print(\"Number of movies made in the year 1950:\", num_movies_1950)\n"
   ]
  },
  {
   "cell_type": "markdown",
   "id": "828170a8",
   "metadata": {},
   "source": [
    "# how many movies were made in the year 1960?"
   ]
  },
  {
   "cell_type": "code",
   "execution_count": 9,
   "id": "79c83a4d",
   "metadata": {},
   "outputs": [
    {
     "name": "stdout",
     "output_type": "stream",
     "text": [
      "Number of movies made in the year 1960: 1549\n"
     ]
    }
   ],
   "source": [
    "movies_1960 = titles[titles['year'] == 1960]\n",
    "num_movies_1960 = len(movies_1960)\n",
    "print(\"Number of movies made in the year 1960:\", num_movies_1960)"
   ]
  },
  {
   "cell_type": "markdown",
   "id": "86a2c60a",
   "metadata": {},
   "source": [
    "# how many movies were made from 1950 through 1959?"
   ]
  },
  {
   "cell_type": "code",
   "execution_count": 10,
   "id": "31a0f813",
   "metadata": {},
   "outputs": [
    {
     "name": "stdout",
     "output_type": "stream",
     "text": [
      "Number of movies made from 1950 through 1959: 12934\n"
     ]
    }
   ],
   "source": [
    "movies_1950s = titles[(titles['year'] >= 1950) & (titles['year'] <= 1959)]\n",
    "num_movies_1950s = len(movies_1950s)\n",
    "print(\"Number of movies made from 1950 through 1959:\", num_movies_1950s)\n"
   ]
  },
  {
   "cell_type": "markdown",
   "id": "9a39168e",
   "metadata": {},
   "source": [
    "# in what years has a movie titled 'batman' been released"
   ]
  },
  {
   "cell_type": "code",
   "execution_count": 11,
   "id": "181b2528",
   "metadata": {},
   "outputs": [
    {
     "name": "stdout",
     "output_type": "stream",
     "text": [
      "Years in which movies titled 'Batman' have been released: [1943 1989]\n"
     ]
    }
   ],
   "source": [
    "batman_movies = titles[titles['title'] == 'Batman']\n",
    "release_years = batman_movies['year'].unique()\n",
    "print(\"Years in which movies titled 'Batman' have been released:\", release_years)\n"
   ]
  },
  {
   "cell_type": "markdown",
   "id": "2c6f38ba",
   "metadata": {},
   "source": [
    "# how many roles were there in movie 'inception'"
   ]
  },
  {
   "cell_type": "code",
   "execution_count": 14,
   "id": "faea07b1",
   "metadata": {},
   "outputs": [
    {
     "name": "stdout",
     "output_type": "stream",
     "text": [
      "Number of roles in the movie 'Inception': 56\n"
     ]
    }
   ],
   "source": [
    "import pandas as pd\n",
    "cast = pd.read_csv(\"cast.csv\") \n",
    "\n",
    "inception_cast = cast[cast['title'] == 'Inception']\n",
    "unique_roles = inception_cast['character'].nunique()\n",
    "print(\"Number of roles in the movie 'Inception':\", unique_roles)"
   ]
  },
  {
   "cell_type": "markdown",
   "id": "9db03f63",
   "metadata": {},
   "source": [
    "# how many rules in the movie 'inception' are not ranked by an  n value"
   ]
  },
  {
   "cell_type": "code",
   "execution_count": 15,
   "id": "39df5c78",
   "metadata": {},
   "outputs": [
    {
     "name": "stdout",
     "output_type": "stream",
     "text": [
      "Number of roles in the movie 'Inception' not ranked by 'n' value: 27\n"
     ]
    }
   ],
   "source": [
    "inception_cast = cast[(cast['title'] == 'Inception') & (cast['n'].isna())]\n",
    "roles_without_rank = len(inception_cast)\n",
    "print(\"Number of roles in the movie 'Inception' not ranked by 'n' value:\", roles_without_rank)"
   ]
  },
  {
   "cell_type": "markdown",
   "id": "400e63b4",
   "metadata": {},
   "source": [
    "# but how many roles in the movie 'inception' did receive an 'n' value"
   ]
  },
  {
   "cell_type": "code",
   "execution_count": 16,
   "id": "d2e65ebc",
   "metadata": {},
   "outputs": [
    {
     "name": "stdout",
     "output_type": "stream",
     "text": [
      "Number of roles in the movie 'Inception' that received an 'n' value: 27\n"
     ]
    }
   ],
   "source": [
    "inception_cast_with_rank = cast[(cast['title'] == 'Inception') & (cast['n'].isna())]\n",
    "roles_with_rank = len(inception_cast_with_rank)\n",
    "print(\"Number of roles in the movie 'Inception' that received an 'n' value:\", roles_with_rank)"
   ]
  },
  {
   "cell_type": "markdown",
   "id": "65736270",
   "metadata": {},
   "source": [
    "# Display the cast of \"North by Northwest\" in their correct \"n\"-value order, ignoring roles that did not earn a numeric \"n\" value."
   ]
  },
  {
   "cell_type": "code",
   "execution_count": 17,
   "id": "0b3329b0",
   "metadata": {},
   "outputs": [
    {
     "name": "stdout",
     "output_type": "stream",
     "text": [
      "            n                  name\n",
      "871426    1.0            Cary Grant\n",
      "3518333   2.0       Eva Marie Saint\n",
      "1457165   3.0           James Mason\n",
      "3157232   4.0   Jessie Royce Landis\n",
      "356707    5.0        Leo G. Carroll\n",
      "3048272   6.0  Josephine Hutchinson\n",
      "1695173   7.0           Philip Ober\n",
      "1275337   8.0         Martin Landau\n",
      "2447081   9.0         Adam Williams\n",
      "1811387  10.0          Edward Platt\n",
      "665768   11.0     Robert Ellenstein\n",
      "2295714  12.0          Les Tremayne\n",
      "464736   13.0       Philip Coolidge\n",
      "1508344  14.0         Patrick McVey\n",
      "206471   15.0          Edward Binns\n",
      "1384780  16.0             Ken Lynch\n"
     ]
    }
   ],
   "source": [
    "north_by_northwest_cast = cast[(cast['title'] == 'North by Northwest') & (cast['n'].notna())]\n",
    "north_by_northwest_cast_sorted = north_by_northwest_cast.sort_values(by='n')\n",
    "print(north_by_northwest_cast_sorted[['n', 'name']])"
   ]
  },
  {
   "cell_type": "markdown",
   "id": "777f14c8",
   "metadata": {},
   "source": [
    "# Display the entire cast, in \"n\"-order, of the 1972 film \"Sleuth\"."
   ]
  },
  {
   "cell_type": "code",
   "execution_count": 18,
   "id": "112b12f3",
   "metadata": {},
   "outputs": [
    {
     "name": "stdout",
     "output_type": "stream",
     "text": [
      "           n                name\n",
      "1705394  1.0    Laurence Olivier\n",
      "326773   2.0       Michael Caine\n",
      "373876   3.0      Alec Cawthorne\n",
      "1465483  4.0  John (II) Matthews\n",
      "2724553  5.0  Eve (III) Channing\n",
      "1448690  6.0        Teddy Martin\n"
     ]
    }
   ],
   "source": [
    "sleuth_1972_cast = cast[(cast['title'] == 'Sleuth') & (cast['year'] == 1972) & (cast['n'].notna())]\n",
    "sleuth_1972_cast_sorted = sleuth_1972_cast.sort_values(by='n')\n",
    "print(sleuth_1972_cast_sorted[['n', 'name']])\n"
   ]
  },
  {
   "cell_type": "markdown",
   "id": "17fe4fc6",
   "metadata": {},
   "source": [
    "# Now display the entire cast, in \"n\"-order, of the 2007 version of \"sleuth\""
   ]
  },
  {
   "cell_type": "code",
   "execution_count": 20,
   "id": "74a735f5",
   "metadata": {},
   "outputs": [
    {
     "name": "stdout",
     "output_type": "stream",
     "text": [
      "           n           name\n",
      "326774   1.0  Michael Caine\n",
      "1293634  2.0       Jude Law\n",
      "1805907  3.0  Harold Pinter\n"
     ]
    }
   ],
   "source": [
    "sleuth_2007_cast = cast[(cast['title'] == 'Sleuth') & (cast['year'] == 2007) & (cast['n'].notna())]\n",
    "sleuth_2007_cast_sorted = sleuth_2007_cast.sort_values(by='n')\n",
    "print(sleuth_2007_cast_sorted[['n', 'name']])\n"
   ]
  },
  {
   "cell_type": "markdown",
   "id": "30949a8d",
   "metadata": {},
   "source": [
    "# How many roles were credited in the silent 1921 version of Hamlet?"
   ]
  },
  {
   "cell_type": "code",
   "execution_count": 21,
   "id": "ab203db3",
   "metadata": {},
   "outputs": [
    {
     "name": "stdout",
     "output_type": "stream",
     "text": [
      "Number of credited roles in the silent 1921 version of 'Hamlet': 9\n"
     ]
    }
   ],
   "source": [
    "hamlet_1921_cast = cast[(cast['title'] == 'Hamlet') & (cast['year'] == 1921)]\n",
    "num_roles_1921_hamlet = hamlet_1921_cast['character'].nunique()\n",
    "print(\"Number of credited roles in the silent 1921 version of 'Hamlet':\", num_roles_1921_hamlet)\n",
    "\n"
   ]
  },
  {
   "cell_type": "markdown",
   "id": "0856542e",
   "metadata": {},
   "source": [
    "# How many roles were credited in Branagh's 1998 Hamlet?"
   ]
  },
  {
   "cell_type": "code",
   "execution_count": 24,
   "id": "3624fef0",
   "metadata": {},
   "outputs": [
    {
     "name": "stdout",
     "output_type": "stream",
     "text": [
      "Number of credited roles in Kenneth Branagh's 1996 version of 'Hamlet': 0\n"
     ]
    }
   ],
   "source": [
    "branagh_hamlet_cast = cast[(cast['title'] == 'Hamlet') & (cast['year'] == 1998)]\n",
    "num_roles_branagh_hamlet = branagh_hamlet_cast['character'].nunique()\n",
    "print(\"Number of credited roles in Kenneth Branagh's 1996 version of 'Hamlet':\", num_roles_branagh_hamlet)\n"
   ]
  },
  {
   "cell_type": "markdown",
   "id": "efd1e084",
   "metadata": {},
   "source": [
    "# How many \"Hamlet\" roles have been Rated in all film credits through history?"
   ]
  },
  {
   "cell_type": "code",
   "execution_count": 4,
   "id": "70796f05",
   "metadata": {},
   "outputs": [
    {
     "name": "stdout",
     "output_type": "stream",
     "text": [
      "Number of 'Hamlet' roles with an 'n' value through history: 249\n"
     ]
    }
   ],
   "source": [
    "import pandas as pd\n",
    "inception_cast = pd.read_csv('cast.csv')\n",
    "hamlet_roles = len(inception_cast[(inception_cast['title'] == 'Hamlet') & inception_cast['n'].notna()])\n",
    "print(\"Number of 'Hamlet' roles with an 'n' value through history:\", hamlet_roles)"
   ]
  },
  {
   "cell_type": "markdown",
   "id": "fff9280d",
   "metadata": {},
   "source": [
    "# How many people have played an \"Ophelia\"?"
   ]
  },
  {
   "cell_type": "code",
   "execution_count": 5,
   "id": "64d36be3",
   "metadata": {},
   "outputs": [
    {
     "name": "stdout",
     "output_type": "stream",
     "text": [
      "Number of roles as 'Ophelia': 117\n",
      "Number of unique actors who played 'Ophelia': 115\n"
     ]
    }
   ],
   "source": [
    "ophelia_roles = len(inception_cast[(inception_cast['character'] == 'Ophelia')])\n",
    "unique_ophelia_actors = len(inception_cast[(inception_cast['character'] == 'Ophelia')]['name'].unique())\n",
    "print(\"Number of roles as 'Ophelia':\", ophelia_roles)\n",
    "print(\"Number of unique actors who played 'Ophelia':\", unique_ophelia_actors)"
   ]
  },
  {
   "cell_type": "markdown",
   "id": "83ac3f23",
   "metadata": {},
   "source": [
    "# How many people have played a role called \"The Dude\"?"
   ]
  },
  {
   "cell_type": "code",
   "execution_count": 7,
   "id": "2ed7f585",
   "metadata": {},
   "outputs": [
    {
     "name": "stdout",
     "output_type": "stream",
     "text": [
      "Number of people who have played a role called 'The Dude': 19\n"
     ]
    }
   ],
   "source": [
    "import pandas as pd\n",
    "cast = pd.read_csv('cast.csv')\n",
    "dude_roles = cast[cast['character'] == 'The Dude']\n",
    "num_dude_actors = len(dude_roles['name'].unique())\n",
    "print(\"Number of people who have played a role called 'The Dude':\", num_dude_actors)"
   ]
  },
  {
   "cell_type": "markdown",
   "id": "e993daf5",
   "metadata": {},
   "source": [
    "# How many people have played a role called \"The Stranger\"?"
   ]
  },
  {
   "cell_type": "code",
   "execution_count": 8,
   "id": "938e638b",
   "metadata": {},
   "outputs": [
    {
     "name": "stdout",
     "output_type": "stream",
     "text": [
      "Number of people who have played a role called 'The Stranger': 202\n"
     ]
    }
   ],
   "source": [
    "stranger_roles = cast[cast['character'] == 'The Stranger']\n",
    "num_stranger_actors = len(stranger_roles['name'].unique())\n",
    "print(\"Number of people who have played a role called 'The Stranger':\", num_stranger_actors)"
   ]
  },
  {
   "cell_type": "markdown",
   "id": "b72d791d",
   "metadata": {},
   "source": [
    "# How many roles has Sidney Poitier played throughout his career?"
   ]
  },
  {
   "cell_type": "code",
   "execution_count": 9,
   "id": "ccc8ce00",
   "metadata": {},
   "outputs": [
    {
     "name": "stdout",
     "output_type": "stream",
     "text": [
      "Number of roles Sidney Poitier has played throughout his career: 43\n"
     ]
    }
   ],
   "source": [
    "sidney_poitier_roles = len(cast[cast['name'] == 'Sidney Poitier'])\n",
    "print(\"Number of roles Sidney Poitier has played throughout his career:\", sidney_poitier_roles)"
   ]
  },
  {
   "cell_type": "markdown",
   "id": "d478173b",
   "metadata": {},
   "source": [
    "# How many roles has Judi Dench played?"
   ]
  },
  {
   "cell_type": "code",
   "execution_count": 10,
   "id": "6f807578",
   "metadata": {},
   "outputs": [
    {
     "name": "stdout",
     "output_type": "stream",
     "text": [
      "Number of roles Judi Dench has played: 55\n"
     ]
    }
   ],
   "source": [
    "judi_dench_roles = len(cast[cast['name'] == 'Judi Dench'])\n",
    "print(\"Number of roles Judi Dench has played:\", judi_dench_roles)"
   ]
  },
  {
   "cell_type": "markdown",
   "id": "d721ea21",
   "metadata": {},
   "source": [
    "# List the supporting roles (having n=2) played by Cary Grant in the 1940s, in order by year."
   ]
  },
  {
   "cell_type": "code",
   "execution_count": 11,
   "id": "4c7f82e6",
   "metadata": {},
   "outputs": [
    {
     "name": "stdout",
     "output_type": "stream",
     "text": [
      "Supporting roles played by Cary Grant in the 1940s, in order by year:\n",
      "          character  year\n",
      "871423   Nick Arden  1940\n",
      "871433  Roger Adams  1941\n"
     ]
    }
   ],
   "source": [
    "cary_grant_supporting_1940s = cast[(cast['name'] == 'Cary Grant') & (cast['n'] == 2) & (cast['year'] // 10 == 194)]\n",
    "supporting_roles_by_year = cary_grant_supporting_1940s.sort_values('year')\n",
    "print(\"Supporting roles played by Cary Grant in the 1940s, in order by year:\")\n",
    "print(supporting_roles_by_year[['character', 'year']])\n"
   ]
  },
  {
   "cell_type": "markdown",
   "id": "6a1e964f",
   "metadata": {},
   "source": [
    "# List the leading roles that Cary Grant played in the 1940s in order by year."
   ]
  },
  {
   "cell_type": "code",
   "execution_count": 12,
   "id": "de86d59f",
   "metadata": {},
   "outputs": [
    {
     "name": "stdout",
     "output_type": "stream",
     "text": [
      "Leading roles played by Cary Grant in the 1940s, in order by year:\n",
      "                                   character  year\n",
      "871448                           Matt Howard  1940\n",
      "871407                          Walter Burns  1940\n",
      "871450                    C. K. Dexter Haven  1940\n",
      "871438                      Johnnie Aysgarth  1941\n",
      "871452                          Leopold Dilg  1942\n",
      "871429                 Patrick 'Pat' O'Toole  1942\n",
      "871398                         Capt. Cassidy  1943\n",
      "871422  Joe Adams -posing as Joe Bascopolous  1943\n",
      "871430                           Jerry Flynn  1944\n",
      "871390                     Mortimer Brewster  1944\n",
      "871425                            Ernie Mott  1944\n",
      "871424                           Cole Porter  1946\n",
      "871427                                Devlin  1946\n",
      "871444                           Dick Nugent  1947\n",
      "871445                                Dudley  1947\n",
      "871421                         Jim Blandings  1948\n",
      "871402                     Dr. Madison Brown  1948\n",
      "871411                 Captain Henri Rochard  1949\n"
     ]
    }
   ],
   "source": [
    "cary_grant_leading_1940s = cast[(cast['name'] == 'Cary Grant') & (cast['n'] == 1) & (cast['year'] // 10 == 194)]\n",
    "leading_roles_by_year = cary_grant_leading_1940s.sort_values('year')\n",
    "print(\"Leading roles played by Cary Grant in the 1940s, in order by year:\")\n",
    "print(leading_roles_by_year[['character', 'year']])"
   ]
  },
  {
   "cell_type": "markdown",
   "id": "51a8127b",
   "metadata": {},
   "source": [
    "# How many roles were available for actors in the 1950s?"
   ]
  },
  {
   "cell_type": "code",
   "execution_count": 13,
   "id": "d25d028a",
   "metadata": {},
   "outputs": [
    {
     "name": "stdout",
     "output_type": "stream",
     "text": [
      "Number of roles available for actors in the 1950s: 0\n"
     ]
    }
   ],
   "source": [
    "roles_1950s_actors = len(cast[(cast['year'] // 10 == 1950) & (cast['type'] == 'actor')])\n",
    "print(\"Number of roles available for actors in the 1950s:\", roles_1950s_actors)"
   ]
  },
  {
   "cell_type": "markdown",
   "id": "ce377d5f",
   "metadata": {},
   "source": [
    "# How many roles were available for actresses in the 1950s?"
   ]
  },
  {
   "cell_type": "code",
   "execution_count": 14,
   "id": "a8a318ca",
   "metadata": {},
   "outputs": [
    {
     "name": "stdout",
     "output_type": "stream",
     "text": [
      "Number of roles available for actresses in the 1950s: 0\n"
     ]
    }
   ],
   "source": [
    "roles_1950s_actresses = len(cast[(cast['year'] // 10 == 1950) & (cast['type'] == 'actress')])\n",
    "print(\"Number of roles available for actresses in the 1950s:\", roles_1950s_actresses)"
   ]
  },
  {
   "cell_type": "markdown",
   "id": "99616dc3",
   "metadata": {},
   "source": [
    "# How many leading roles (n=1) were available from the beginning of film history through 1980?"
   ]
  },
  {
   "cell_type": "code",
   "execution_count": 15,
   "id": "d35044ba",
   "metadata": {},
   "outputs": [
    {
     "name": "stdout",
     "output_type": "stream",
     "text": [
      "Number of leading roles (n=1) available through 1980: 65140\n"
     ]
    }
   ],
   "source": [
    "leading_roles_through_1980 = len(cast[(cast['n'] == 1) & (cast['year'] <= 1980)])\n",
    "print(\"Number of leading roles (n=1) available through 1980:\", leading_roles_through_1980)"
   ]
  },
  {
   "cell_type": "markdown",
   "id": "2551d1e8",
   "metadata": {},
   "source": [
    "# How many non-leading roles were available from the beginning of film history through 1980?"
   ]
  },
  {
   "cell_type": "code",
   "execution_count": 16,
   "id": "158d3e10",
   "metadata": {},
   "outputs": [
    {
     "name": "stdout",
     "output_type": "stream",
     "text": [
      "Number of non-leading roles available through 1980: 1117667\n"
     ]
    }
   ],
   "source": [
    "non_leading_roles_through_1980 = len(cast[(cast['n'] != 1) & (cast['year'] <= 1980)])\n",
    "print(\"Number of non-leading roles available through 1980:\", non_leading_roles_through_1980)"
   ]
  },
  {
   "cell_type": "markdown",
   "id": "fd08e956",
   "metadata": {},
   "source": [
    "# How many roles through 1980 were minor enough that they did not warrant a numeric \"n\" rank?"
   ]
  },
  {
   "cell_type": "code",
   "execution_count": 17,
   "id": "0b9b7120",
   "metadata": {},
   "outputs": [
    {
     "name": "stdout",
     "output_type": "stream",
     "text": [
      "Number of roles through 1980 without a numeric 'n' rank: 448347\n"
     ]
    }
   ],
   "source": [
    "roles_without_n_rank_through_1980 = len(cast[(cast['n'].isna()) & (cast['year'] <= 1980)])\n",
    "print(\"Number of roles through 1980 without a numeric 'n' rank:\", roles_without_n_rank_through_1980)"
   ]
  },
  {
   "cell_type": "code",
   "execution_count": null,
   "id": "5aadce8c",
   "metadata": {},
   "outputs": [],
   "source": []
  }
 ],
 "metadata": {
  "kernelspec": {
   "display_name": "Python 3 (ipykernel)",
   "language": "python",
   "name": "python3"
  },
  "language_info": {
   "codemirror_mode": {
    "name": "ipython",
    "version": 3
   },
   "file_extension": ".py",
   "mimetype": "text/x-python",
   "name": "python",
   "nbconvert_exporter": "python",
   "pygments_lexer": "ipython3",
   "version": "3.11.4"
  }
 },
 "nbformat": 4,
 "nbformat_minor": 5
}
