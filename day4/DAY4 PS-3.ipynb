{
 "cells": [
  {
   "cell_type": "markdown",
   "id": "ea6503a1",
   "metadata": {},
   "source": [
    "# WRITE A PYTHON PROGRAM WITH EXCEPTION HANDLING TO INPUT THE WEEK NUMBER AND PRINT THE WEEK DAY"
   ]
  },
  {
   "cell_type": "code",
   "execution_count": 3,
   "id": "61e4718a",
   "metadata": {},
   "outputs": [
    {
     "name": "stdout",
     "output_type": "stream",
     "text": [
      "Enter a week number (1-7): 8\n",
      "Error: Week number must be between 1 and 7\n"
     ]
    }
   ],
   "source": [
    "try:\n",
    "    week_number = int(input(\"Enter a week number (1-7): \"))\n",
    "    \n",
    "    if week_number < 1 or week_number > 7:\n",
    "        raise ValueError(\"Week number must be between 1 and 7\")\n",
    "    \n",
    "    weekdays = [\"Monday\", \"Tuesday\", \"Wednesday\", \"Thursday\", \"Friday\", \"Saturday\", \"Sunday\"]\n",
    "    \n",
    "    print(f\"Weekday for week {week_number} is {weekdays[week_number-1]}\")\n",
    "except ValueError as e:\n",
    "    print(f\"Error: {e}\")\n",
    "except Exception as e:\n",
    "    print(f\"An unexpected error occurred: {e}\")"
   ]
  },
  {
   "cell_type": "code",
   "execution_count": null,
   "id": "3433eee5",
   "metadata": {},
   "outputs": [],
   "source": []
  },
  {
   "cell_type": "code",
   "execution_count": null,
   "id": "4f8b55e9",
   "metadata": {},
   "outputs": [],
   "source": []
  }
 ],
 "metadata": {
  "kernelspec": {
   "display_name": "Python 3 (ipykernel)",
   "language": "python",
   "name": "python3"
  },
  "language_info": {
   "codemirror_mode": {
    "name": "ipython",
    "version": 3
   },
   "file_extension": ".py",
   "mimetype": "text/x-python",
   "name": "python",
   "nbconvert_exporter": "python",
   "pygments_lexer": "ipython3",
   "version": "3.11.4"
  }
 },
 "nbformat": 4,
 "nbformat_minor": 5
}
