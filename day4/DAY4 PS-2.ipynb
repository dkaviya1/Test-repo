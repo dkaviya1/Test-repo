{
 "cells": [
  {
   "cell_type": "markdown",
   "id": "d25e4e35",
   "metadata": {},
   "source": [
    "# WRITE A PYTHON PROGRAM WITH EXCEPTION HANDLING TO INPUT ELECTRICITY UNIT CHARGES AND CALCULATE THE TOTAL ELECTRICITY BILL ACCORDING TO THE GIVEN CONDITION"
   ]
  },
  {
   "cell_type": "markdown",
   "id": "d0f1fad9",
   "metadata": {},
   "source": [
    "# 1.FOR THE FIRST 50 UNITS RS 0.50/UNIT"
   ]
  },
  {
   "cell_type": "markdown",
   "id": "f7de6d83",
   "metadata": {},
   "source": [
    "# 2.for the next 100 units rs 0.75/unit"
   ]
  },
  {
   "cell_type": "markdown",
   "id": "bac23ee6",
   "metadata": {},
   "source": [
    "# 3.for the next 100 units rs 1.20/unit"
   ]
  },
  {
   "cell_type": "markdown",
   "id": "af633b28",
   "metadata": {},
   "source": [
    "# 4.for the units above 250 rs 1.50/unit"
   ]
  },
  {
   "cell_type": "markdown",
   "id": "e66bcdc6",
   "metadata": {},
   "source": [
    "# 5.an additional surcharge of 20% is added to the bill"
   ]
  },
  {
   "cell_type": "code",
   "execution_count": 1,
   "id": "af3ca8c6",
   "metadata": {},
   "outputs": [
    {
     "name": "stdout",
     "output_type": "stream",
     "text": [
      "Enter the electricity units consumed: 1000\n",
      "Total electricity bill: Rs. 1614.00\n"
     ]
    }
   ],
   "source": [
    "try:\n",
    "    units = float(input(\"Enter the electricity units consumed: \"))\n",
    "    if units < 0:\n",
    "        raise ValueError(\"Units consumed cannot be negative.\")\n",
    "    total_bill = 0.0\n",
    "    if units <= 50:\n",
    "        total_bill = units * 0.50\n",
    "    elif units <= 150:\n",
    "        total_bill = 50 * 0.50 + (units - 50) * 0.75\n",
    "    elif units <= 250:\n",
    "        total_bill = 50 * 0.50 + 100 * 0.75 + (units - 150) * 1.20\n",
    "    else:\n",
    "        total_bill = 50 * 0.50 + 100 * 0.75 + 100 * 1.20 + (units - 250) * 1.50\n",
    "    total_bill += 0.20 * total_bill\n",
    "    print(f\"Total electricity bill: Rs. {total_bill:.2f}\")\n",
    "except ValueError as e:\n",
    "    print(f\"Error: {e}\")\n",
    "except Exception as e:\n",
    "    print(f\"An error occurred: {e}\")\n"
   ]
  },
  {
   "cell_type": "code",
   "execution_count": null,
   "id": "5afe2a40",
   "metadata": {},
   "outputs": [],
   "source": []
  }
 ],
 "metadata": {
  "kernelspec": {
   "display_name": "Python 3 (ipykernel)",
   "language": "python",
   "name": "python3"
  },
  "language_info": {
   "codemirror_mode": {
    "name": "ipython",
    "version": 3
   },
   "file_extension": ".py",
   "mimetype": "text/x-python",
   "name": "python",
   "nbconvert_exporter": "python",
   "pygments_lexer": "ipython3",
   "version": "3.11.4"
  }
 },
 "nbformat": 4,
 "nbformat_minor": 5
}
