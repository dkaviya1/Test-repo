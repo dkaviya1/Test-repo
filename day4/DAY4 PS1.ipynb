{
 "cells": [
  {
   "cell_type": "markdown",
   "id": "d6c0bfb8",
   "metadata": {},
   "source": [
    "# WRITE A PYTHON PROGRAM WITH EXCEPTION HANDLING TO INPUT MARKS FOR FIVE SUBJECTS PHYSICS,CHEMISTRY,BIOLOGY,MATHEMATICS AND COMPUTER.CALCULATE THE PERCENTAGE AND GRADE ACCORDING TO THE FOLLOWING."
   ]
  },
  {
   "cell_type": "code",
   "execution_count": 1,
   "id": "0076e8c6",
   "metadata": {},
   "outputs": [
    {
     "name": "stdout",
     "output_type": "stream",
     "text": [
      "Enter Physics marks: 90\n",
      "Enter Chemistry marks: 85\n",
      "Enter Biology marks: 83\n",
      "Enter Mathematics marks: 80\n",
      "Enter Computer marks: 80\n",
      "Percentage: 83.6%\n",
      "Grade: B\n"
     ]
    }
   ],
   "source": [
    "try:\n",
    "    physics = float(input(\"Enter Physics marks: \"))\n",
    "    chemistry = float(input(\"Enter Chemistry marks: \"))\n",
    "    biology = float(input(\"Enter Biology marks: \"))\n",
    "    mathematics = float(input(\"Enter Mathematics marks: \"))\n",
    "    computer = float(input(\"Enter Computer marks: \"))\n",
    "    total_marks = physics + chemistry + biology + mathematics + computer\n",
    "    percentage = (total_marks / 500) *100\n",
    "    if percentage >= 90:\n",
    "        grade = \"A\"\n",
    "    elif percentage >= 80:\n",
    "        grade = \"B\"\n",
    "    elif percentage >= 70:\n",
    "        grade = \"C\"\n",
    "    elif percentage >= 60:\n",
    "        grade = \"D\"\n",
    "    elif percentage >= 40:\n",
    "        grade = \"E\"\n",
    "    else:\n",
    "        grade = \"F\"\n",
    "    print(f\"Percentage: {percentage}%\")\n",
    "    print(f\"Grade: {grade}\")\n",
    "\n",
    "except ValueError:\n",
    "    print(\"Invalid input! Please enter numeric marks for each subject.\")\n",
    "except Exception as e:\n",
    "    print(f\"An error occurred: {e}\")\n"
   ]
  },
  {
   "cell_type": "code",
   "execution_count": null,
   "id": "8a0cb56a",
   "metadata": {},
   "outputs": [],
   "source": []
  }
 ],
 "metadata": {
  "kernelspec": {
   "display_name": "Python 3 (ipykernel)",
   "language": "python",
   "name": "python3"
  },
  "language_info": {
   "codemirror_mode": {
    "name": "ipython",
    "version": 3
   },
   "file_extension": ".py",
   "mimetype": "text/x-python",
   "name": "python",
   "nbconvert_exporter": "python",
   "pygments_lexer": "ipython3",
   "version": "3.11.4"
  }
 },
 "nbformat": 4,
 "nbformat_minor": 5
}
