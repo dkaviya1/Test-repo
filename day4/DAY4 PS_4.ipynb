{
 "cells": [
  {
   "cell_type": "markdown",
   "id": "ad23095f",
   "metadata": {},
   "source": [
    "# WRITE A PYTHON PROGRAM TO IMPLEMENT WORD COUNT USING COMMAND LINE ARGUMENTS"
   ]
  },
  {
   "cell_type": "code",
   "execution_count": 1,
   "id": "045eb4c5",
   "metadata": {},
   "outputs": [
    {
     "name": "stdout",
     "output_type": "stream",
     "text": [
      "Usage: python word_count.py <apple.txt>\n"
     ]
    }
   ],
   "source": [
    "import sys\n",
    "\n",
    "def word_count(file_name):\n",
    "    try:\n",
    "        # Open the file in read mode\n",
    "        with open(file_name, 'r') as file:\n",
    "            text = file.read()\n",
    "\n",
    "            # Split the text into words using whitespace as a delimiter\n",
    "            words = text.split()\n",
    "\n",
    "            # Initialize a dictionary to store word counts\n",
    "            word_counts = {}\n",
    "\n",
    "            # Count the occurrence of each word\n",
    "            for word in words:\n",
    "                word = word.lower()  # Convert to lowercase to count words case-insensitively\n",
    "                if word in word_counts:\n",
    "                    word_counts[word] += 1\n",
    "                else:\n",
    "                    word_counts[word] = 1\n",
    "\n",
    "            return word_counts\n",
    "\n",
    "    except FileNotFoundError:\n",
    "        print(f\"Error: {file_name} not found.\")\n",
    "        return {}\n",
    "    except Exception as e:\n",
    "        print(f\"An error occurred: {e}\")\n",
    "        return {}\n",
    "\n",
    "if __name__ == \"__main__\":\n",
    "    if len(sys.argv) != 2:\n",
    "        print(\"Usage: python word_count.py <apple.txt>\")\n",
    "    else:\n",
    "        file_name = sys.argv[1]\n",
    "        word_counts = word_count(file_name)\n",
    "\n",
    "        for word, count in word_counts.items():\n",
    "            print(f\"{word}: {count}\")\n"
   ]
  },
  {
   "cell_type": "code",
   "execution_count": 2,
   "id": "77614879",
   "metadata": {},
   "outputs": [
    {
     "name": "stdout",
     "output_type": "stream",
     "text": [
      "Usage: python command.py <apple.txt>\n"
     ]
    }
   ],
   "source": [
    "import sys\n",
    "from word_count import word_count\n",
    "\n",
    "if __name__ == \"__main__\":\n",
    "    if len(sys.argv) != 2:\n",
    "        print(\"Usage: python command.py <apple.txt>\")\n",
    "    else:\n",
    "        file_name = sys.argv[1]\n",
    "        word_counts = word_count(file_name)\n",
    "\n",
    "        for word, count in word_counts.items():\n",
    "            print(f\"{word}: {count}\")\n",
    "\n",
    "\n",
    "\n"
   ]
  }
 ],
 "metadata": {
  "kernelspec": {
   "display_name": "Python 3 (ipykernel)",
   "language": "python",
   "name": "python3"
  },
  "language_info": {
   "codemirror_mode": {
    "name": "ipython",
    "version": 3
   },
   "file_extension": ".py",
   "mimetype": "text/x-python",
   "name": "python",
   "nbconvert_exporter": "python",
   "pygments_lexer": "ipython3",
   "version": "3.11.4"
  }
 },
 "nbformat": 4,
 "nbformat_minor": 5
}
