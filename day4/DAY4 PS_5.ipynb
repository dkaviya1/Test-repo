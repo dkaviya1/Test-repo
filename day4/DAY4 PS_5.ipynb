{
 "cells": [
  {
   "cell_type": "markdown",
   "id": "6c4c94f4",
   "metadata": {},
   "source": [
    "# WRITE A PYTHON PROGRAM FOR FINDING THE MOST FREQUENT WORDS IN A TEXT READ FROM THE FILE"
   ]
  },
  {
   "cell_type": "markdown",
   "id": "701dba68",
   "metadata": {},
   "source": [
    "# 1.INITIALLY OPEN THE TEXT FILE IN READ MODE"
   ]
  },
  {
   "cell_type": "markdown",
   "id": "6de75f7d",
   "metadata": {},
   "source": [
    "# 2. MAKE ALL THE LETTERS IN THE DOCUMENT INTO LOWERCASE LETTERS AND SPLIT THE WORD IN EACH LINE"
   ]
  },
  {
   "cell_type": "markdown",
   "id": "385d1497",
   "metadata": {},
   "source": [
    "# 3.GET THE WORDS IN ORDER"
   ]
  },
  {
   "cell_type": "markdown",
   "id": "833fe4a2",
   "metadata": {},
   "source": [
    "# 4. SORT THE WORDS FOR FINDING THE MOST FREQUENT WORDS IN THE FILE\n"
   ]
  },
  {
   "cell_type": "markdown",
   "id": "5c2677e0",
   "metadata": {},
   "source": [
    "# 5.PRINT THE MOST FREQUENT WORDS IN THE FILE"
   ]
  },
  {
   "cell_type": "code",
   "execution_count": 3,
   "id": "a01075c0",
   "metadata": {},
   "outputs": [
    {
     "name": "stdout",
     "output_type": "stream",
     "text": [
      "welcome: 1\n",
      "to: 1\n",
      "mphasis: 1\n",
      "this: 1\n",
      "is: 1\n",
      "my: 1\n",
      "first: 1\n",
      "project: 1\n"
     ]
    }
   ],
   "source": [
    "from collections import Counter\n",
    "with open('demo1.txt', 'r') as file:\n",
    "    words = file.read().lower().split()\n",
    "    word_count = Counter(words)\n",
    "    most_common_words = word_count.most_common()\n",
    "for word, count in most_common_words:\n",
    "    print(f'{word}: {count}')"
   ]
  },
  {
   "cell_type": "code",
   "execution_count": null,
   "id": "10a4264f",
   "metadata": {},
   "outputs": [],
   "source": []
  }
 ],
 "metadata": {
  "kernelspec": {
   "display_name": "Python 3 (ipykernel)",
   "language": "python",
   "name": "python3"
  },
  "language_info": {
   "codemirror_mode": {
    "name": "ipython",
    "version": 3
   },
   "file_extension": ".py",
   "mimetype": "text/x-python",
   "name": "python",
   "nbconvert_exporter": "python",
   "pygments_lexer": "ipython3",
   "version": "3.11.4"
  }
 },
 "nbformat": 4,
 "nbformat_minor": 5
}
