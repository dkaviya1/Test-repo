{
 "cells": [
  {
   "cell_type": "markdown",
   "id": "b388062d",
   "metadata": {},
   "source": [
    "# 6. Write a Python script that concatenates the contents of multiple text files into a single output file. Allow the user to specify the input files and the output file"
   ]
  },
  {
   "cell_type": "code",
   "execution_count": 4,
   "id": "6b58715a",
   "metadata": {},
   "outputs": [],
   "source": [
    "def concatenate_files(input_files, output_file):\n",
    "    try:\n",
    "        with open(output_file, 'w') as output:\n",
    "             for input_file in input_files:\n",
    "                with open(input_file, 'r') as infile:\n",
    "                        output.write(infile.read())\n",
    "        \n",
    "    except FileNotFoundError:\n",
    "            print(\"Error: One or more input files not found.\")\n",
    "    except Exception as e:\n",
    "            print(f\"An error occurred: {e}\")\n",
    "    else:\n",
    "            print(\"Files concatenated successfully.\")\n",
    "    \n",
    "def get_input_files():\n",
    "    input_files = []\n",
    "    while True:\n",
    "        file_path = input(\"Enter the path of an input file (or 'done' to finish): \")\n",
    "        if file_path.lower() == 'done':\n",
    "            break\n",
    "        input_files.append(file_path)\n",
    "        return input_files\n",
    "    \n",
    "    input_files = get_input_files()\n",
    "    output_file = input(\"Enter the path of the output file: \")\n",
    "    \n",
    "    concatenate_files(input_files, output_file)"
   ]
  },
  {
   "cell_type": "code",
   "execution_count": null,
   "id": "a6de2c91",
   "metadata": {},
   "outputs": [],
   "source": []
  },
  {
   "cell_type": "code",
   "execution_count": null,
   "id": "8fed752f",
   "metadata": {},
   "outputs": [],
   "source": []
  }
 ],
 "metadata": {
  "kernelspec": {
   "display_name": "Python 3 (ipykernel)",
   "language": "python",
   "name": "python3"
  },
  "language_info": {
   "codemirror_mode": {
    "name": "ipython",
    "version": 3
   },
   "file_extension": ".py",
   "mimetype": "text/x-python",
   "name": "python",
   "nbconvert_exporter": "python",
   "pygments_lexer": "ipython3",
   "version": "3.11.4"
  }
 },
 "nbformat": 4,
 "nbformat_minor": 5
}
