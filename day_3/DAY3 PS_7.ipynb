{
 "cells": [
  {
   "cell_type": "markdown",
   "id": "c23ce97c",
   "metadata": {},
   "source": [
    "# 7. You are given a text file named input.txt containing a list of words, one word per line. Your task is to create a Python program that reads the contents of input.txt, processes the words, and writes the result to an output file named output.txt."
   ]
  },
  {
   "cell_type": "markdown",
   "id": "acc3d5cd",
   "metadata": {},
   "source": [
    "# i. Read the words from input.txt"
   ]
  },
  {
   "cell_type": "markdown",
   "id": "e1715818",
   "metadata": {},
   "source": [
    "# ii. For each word in the input file, calculate the length of the word and store it in a dictionary where the word is the key, and the length is the value."
   ]
  },
  {
   "cell_type": "markdown",
   "id": "701232c4",
   "metadata": {},
   "source": [
    "# iii. Write the word-length dictionary to output.txt in the following format"
   ]
  },
  {
   "cell_type": "markdown",
   "id": "cd8f2759",
   "metadata": {},
   "source": [
    "# iv. Close both input and output files properly."
   ]
  },
  {
   "cell_type": "markdown",
   "id": "12c8e1c4",
   "metadata": {},
   "source": [
    "# v. Write Python code to accomplish this task. Ensure proper error handling for file operations."
   ]
  },
  {
   "cell_type": "code",
   "execution_count": 2,
   "id": "99bb580f",
   "metadata": {},
   "outputs": [
    {
     "name": "stdout",
     "output_type": "stream",
     "text": [
      "Words from 'demo1.txt':\n",
      "this\n",
      "is\n",
      "my\n",
      "first\n",
      "project\n"
     ]
    }
   ],
   "source": [
    "def read_words_from_file(file_path):\n",
    "    try:\n",
    "        with open(file_path, 'r') as file:\n",
    "            words = file.read().split()\n",
    "        return words\n",
    "    except FileNotFoundError:\n",
    "        print(f\"Error: File '{file_path}' not found.\")\n",
    "        return []\n",
    "    except Exception as e:\n",
    "        print(f\"An error occurred: {e}\")\n",
    "        return []\n",
    "    \n",
    "file_path = 'demo1.txt'\n",
    "words_list = read_words_from_file(file_path)\n",
    "print(\"Words from 'demo1.txt':\")\n",
    "for word in words_list:\n",
    "    print(word)"
   ]
  },
  {
   "cell_type": "code",
   "execution_count": 12,
   "id": "80adb2bc",
   "metadata": {},
   "outputs": [
    {
     "ename": "SyntaxError",
     "evalue": "unterminated string literal (detected at line 7) (1250541352.py, line 7)",
     "output_type": "error",
     "traceback": [
      "\u001b[1;36m  Cell \u001b[1;32mIn[12], line 7\u001b[1;36m\u001b[0m\n\u001b[1;33m    word = word.strip(\".,!?()[]{}\"'\")\u001b[0m\n\u001b[1;37m                                  ^\u001b[0m\n\u001b[1;31mSyntaxError\u001b[0m\u001b[1;31m:\u001b[0m unterminated string literal (detected at line 7)\n"
     ]
    }
   ],
   "source": [
    "word_lengths = {}\n",
    "with open('demo1.txt', 'r') as file:\n",
    "    content = file.read()\n",
    "    words = content.split()\n",
    "        \n",
    "    for word in words:\n",
    "        word = word.strip(\".,!?()[]{}\"'\")\n",
    "        length = len(word)\n",
    "        word_lengths[word] = length\n",
    "    \n",
    "for word, length in word_lengths.items():\n",
    "    print(f'{word}: {length}')"
   ]
  },
  {
   "cell_type": "code",
   "execution_count": 15,
   "id": "79fe286b",
   "metadata": {},
   "outputs": [
    {
     "ename": "SyntaxError",
     "evalue": "unterminated string literal (detected at line 7) (906261125.py, line 7)",
     "output_type": "error",
     "traceback": [
      "\u001b[1;36m  Cell \u001b[1;32mIn[15], line 7\u001b[1;36m\u001b[0m\n\u001b[1;33m    word = word.strip(\".,!?()[]{}\"\")\u001b[0m\n\u001b[1;37m                                  ^\u001b[0m\n\u001b[1;31mSyntaxError\u001b[0m\u001b[1;31m:\u001b[0m unterminated string literal (detected at line 7)\n"
     ]
    }
   ],
   "source": [
    "word_lengths = {}\n",
    "with open('demo1.txt', 'r') as file:\n",
    "      \n",
    "    content = file.read()\n",
    "    words = content.split()\n",
    "    for word in words:\n",
    "        word = word.strip(\".,!?()[]{}\"\")\n",
    "        length = len(word)\n",
    "        word_lengths[word] = length\n",
    "    \n",
    "with open('demo2.txt', 'w') as output_file:\n",
    "    for word, length in word_lengths.items():\n",
    "        output_file.write(f'{word}: {length})\n",
    "    \n",
    "print(\"Word-length dictionary has been written to output.txt\")"
   ]
  },
  {
   "cell_type": "code",
   "execution_count": 16,
   "id": "7c429efe",
   "metadata": {},
   "outputs": [],
   "source": [
    "file=open(\"demo2.txt\",'r')"
   ]
  },
  {
   "cell_type": "code",
   "execution_count": 17,
   "id": "134900e8",
   "metadata": {},
   "outputs": [
    {
     "data": {
      "text/plain": [
       "'this is my first project'"
      ]
     },
     "execution_count": 17,
     "metadata": {},
     "output_type": "execute_result"
    }
   ],
   "source": [
    "file.read()"
   ]
  },
  {
   "cell_type": "code",
   "execution_count": 19,
   "id": "bf6eb07e",
   "metadata": {},
   "outputs": [
    {
     "ename": "IndentationError",
     "evalue": "expected an indented block after 'with' statement on line 2 (3202157110.py, line 3)",
     "output_type": "error",
     "traceback": [
      "\u001b[1;36m  Cell \u001b[1;32mIn[19], line 3\u001b[1;36m\u001b[0m\n\u001b[1;33m    except FileNotFoundError:\u001b[0m\n\u001b[1;37m    ^\u001b[0m\n\u001b[1;31mIndentationError\u001b[0m\u001b[1;31m:\u001b[0m expected an indented block after 'with' statement on line 2\n"
     ]
    }
   ],
   "source": [
    "try:\n",
    "    with open('demo1.txt','r') as input_file:\n",
    "    except FileNotFoundError:\n",
    "        print(\"Input\")\n",
    "        except IOError as e:\n",
    "             print(f\"error: {e}\")\n",
    "        try:\n",
    "                with open('output.txt','r') as output_file:\n",
    "                    except IOError as e:\n",
    "                         print(f\"error: {e}\")"
   ]
  },
  {
   "cell_type": "code",
   "execution_count": 20,
   "id": "73579dc3",
   "metadata": {},
   "outputs": [
    {
     "name": "stdout",
     "output_type": "stream",
     "text": [
      "File operations completed successfully.\n"
     ]
    }
   ],
   "source": [
    "try:\n",
    "    with open('demo1.txt', 'r') as input_file:\n",
    "        input_data = input_file.read()\n",
    "    \n",
    "    with open('output.txt', 'w') as output_file:\n",
    "        output_file.write(input_data)\n",
    "    print(\"File operations completed successfully.\")\n",
    "except FileNotFoundError:\n",
    "    print(\"Error: The input file was not found.\")\n",
    "except IOError as e:\n",
    "    print(f\"Error: An I/O error occurred - {e}\")\n",
    "except Exception as e:\n",
    "    print(f\"An unexpected error occurred - {e}\")"
   ]
  },
  {
   "cell_type": "code",
   "execution_count": 21,
   "id": "bf7214aa",
   "metadata": {},
   "outputs": [
    {
     "data": {
      "text/plain": [
       "[]"
      ]
     },
     "execution_count": 21,
     "metadata": {},
     "output_type": "execute_result"
    }
   ],
   "source": [
    "[]"
   ]
  },
  {
   "cell_type": "code",
   "execution_count": null,
   "id": "0698184b",
   "metadata": {},
   "outputs": [],
   "source": []
  }
 ],
 "metadata": {
  "kernelspec": {
   "display_name": "Python 3 (ipykernel)",
   "language": "python",
   "name": "python3"
  },
  "language_info": {
   "codemirror_mode": {
    "name": "ipython",
    "version": 3
   },
   "file_extension": ".py",
   "mimetype": "text/x-python",
   "name": "python",
   "nbconvert_exporter": "python",
   "pygments_lexer": "ipython3",
   "version": "3.11.4"
  }
 },
 "nbformat": 4,
 "nbformat_minor": 5
}
