{
 "cells": [
  {
   "cell_type": "markdown",
   "id": "79058d06",
   "metadata": {},
   "source": [
    "# You have a log file containing records of user activities on a website. Each line in the file represents a log entry with details like timestamp, user ID, and action performed. Your task is to analyze this log file."
   ]
  },
  {
   "cell_type": "markdown",
   "id": "34ec9f10",
   "metadata": {},
   "source": [
    "# a.Write Python code to read the log file and extract specific information, such as the number of unique users or the most common action b. How would you handle large log files efficiently without loading the entire file into memory?"
   ]
  },
  {
   "cell_type": "code",
   "execution_count": 1,
   "id": "dddd8991",
   "metadata": {},
   "outputs": [
    {
     "name": "stdout",
     "output_type": "stream",
     "text": [
      "Log file 'weblog.txt' not found.\n"
     ]
    }
   ],
   "source": [
    "from collections import Counter\n",
    "unique_users = set()\n",
    "action_count = Counter()\n",
    "log_file_path = \n",
    "try:\n",
    "    with open(log_file_path, 'r') as log_file:\n",
    "        for line in log_file:\n",
    "            parts = line.strip().split(',')\n",
    "            if len(parts) == 3:\n",
    "                timestamp, user_id, action = parts\n",
    "                unique_users.add(user_id)\n",
    "                action_count[action] += 1\n",
    "\n",
    "    print(f\"Number of unique users: {len(unique_users)}\")\n",
    "    most_common_action, most_common_count = action_count.most_common(1)[0]\n",
    "    print(f\"Most common action: {most_common_action} (count: {most_common_count})\")\n",
    "\n",
    "except FileNotFoundError:\n",
    "    print(f\"Log file '{log_file_path}' not found.\")\n",
    "except Exception as e:\n",
    "    print(f\"Error: {str(e)}\")"
   ]
  },
  {
   "cell_type": "code",
   "execution_count": null,
   "id": "38aaea0a",
   "metadata": {},
   "outputs": [],
   "source": []
  }
 ],
 "metadata": {
  "kernelspec": {
   "display_name": "Python 3 (ipykernel)",
   "language": "python",
   "name": "python3"
  },
  "language_info": {
   "codemirror_mode": {
    "name": "ipython",
    "version": 3
   },
   "file_extension": ".py",
   "mimetype": "text/x-python",
   "name": "python",
   "nbconvert_exporter": "python",
   "pygments_lexer": "ipython3",
   "version": "3.11.4"
  }
 },
 "nbformat": 4,
 "nbformat_minor": 5
}
