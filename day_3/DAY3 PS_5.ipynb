{
 "cells": [
  {
   "cell_type": "markdown",
   "id": "2dafb64a",
   "metadata": {},
   "source": [
    "# 5. Text File Search and Replace: You have a text file with a large amount of text, and you want to search for specific words or phrases and replace them with new content."
   ]
  },
  {
   "cell_type": "markdown",
   "id": "97f3043b",
   "metadata": {},
   "source": [
    "# a. Write Python code to search for and replace text within a text file."
   ]
  },
  {
   "cell_type": "markdown",
   "id": "02cf8409",
   "metadata": {},
   "source": [
    "# b. How would you handle cases where you need to perform multiple replacements in a single pass?"
   ]
  },
  {
   "cell_type": "code",
   "execution_count": 1,
   "id": "2ae90b1e",
   "metadata": {},
   "outputs": [],
   "source": [
    "file=open(\"demo1.txt\",'r')"
   ]
  },
  {
   "cell_type": "code",
   "execution_count": 2,
   "id": "2a73fee0",
   "metadata": {},
   "outputs": [
    {
     "data": {
      "text/plain": [
       "'this is my first project'"
      ]
     },
     "execution_count": 2,
     "metadata": {},
     "output_type": "execute_result"
    }
   ],
   "source": [
    "file.read()"
   ]
  },
  {
   "cell_type": "code",
   "execution_count": 12,
   "id": "832ac30f",
   "metadata": {},
   "outputs": [
    {
     "name": "stdout",
     "output_type": "stream",
     "text": [
      "Text 'This is my first project' replaced with 'john' successfully.\n"
     ]
    }
   ],
   "source": [
    "def search_and_replace(input_file, output_file, search_text, replace_text):\n",
    "        try:\n",
    "            with open(input_file, 'r') as infile, open(output_file, 'w') as outfile:\n",
    "                for line in infile:\n",
    "                    modified_line = line.replace(search_text, replace_text)\n",
    "                    outfile.write(modified_line)\n",
    "        \n",
    "        except FileNotFoundError:\n",
    "           print(f\"Error: Input file '{input_file}' not found.\")\n",
    "        except Exception as e:\n",
    "           print(f\"An error occurred: {e}\")\n",
    "        else:\n",
    "            print(f\"Text '{search_text}' replaced with '{replace_text}' successfully.\")\n",
    "    \n",
    "search_and_replace(\"demo1.txt\",\"five.txt\",\"This is my first project\",\"john\")"
   ]
  },
  {
   "cell_type": "code",
   "execution_count": 13,
   "id": "85119444",
   "metadata": {},
   "outputs": [],
   "source": [
    "file=open(\"five.txt\",'r')"
   ]
  },
  {
   "cell_type": "code",
   "execution_count": 14,
   "id": "6a32f3ac",
   "metadata": {},
   "outputs": [
    {
     "data": {
      "text/plain": [
       "'this is my first project'"
      ]
     },
     "execution_count": 14,
     "metadata": {},
     "output_type": "execute_result"
    }
   ],
   "source": [
    "file.read()"
   ]
  },
  {
   "cell_type": "code",
   "execution_count": 15,
   "id": "fc1dcd7f",
   "metadata": {},
   "outputs": [],
   "source": [
    "file=open(\"demo1.txt\",'r')"
   ]
  },
  {
   "cell_type": "code",
   "execution_count": 16,
   "id": "9256be01",
   "metadata": {},
   "outputs": [
    {
     "data": {
      "text/plain": [
       "'this is my first project'"
      ]
     },
     "execution_count": 16,
     "metadata": {},
     "output_type": "execute_result"
    }
   ],
   "source": [
    "file.read()"
   ]
  },
  {
   "cell_type": "code",
   "execution_count": 21,
   "id": "ba407065",
   "metadata": {},
   "outputs": [
    {
     "name": "stdout",
     "output_type": "stream",
     "text": [
      "Multiple replacements completed successfully.\n"
     ]
    }
   ],
   "source": [
    "def search_and_replace_multiple(input_file, output_file, replace_dict):\n",
    "    try:\n",
    "        with open(input_file, 'r') as infile, open(output_file, 'w') as outfile:\n",
    "                for line in infile:\n",
    "                    for search_text, replace_text in replace_dict.items():\n",
    "                        line = line.replace(search_text, replace_text)\n",
    "                    outfile.write(line)\n",
    "        \n",
    "    except FileNotFoundError:\n",
    "            print(f\"Error: Input file '{input_file}' not found.\")\n",
    "    except Exception as e:\n",
    "            print(f\"An error occurred: {e}\")\n",
    "    else:\n",
    "            print(\"Multiple replacements completed successfully.\")\n",
    "    \n",
    "replace_dict = {\n",
    "        \"This is my first project\": \"john\"\n",
    "        \n",
    "        }\n",
    "    \n",
    "search_and_replace_multiple(\"demo1.txt\", \"five.txt\", replace_dict)"
   ]
  },
  {
   "cell_type": "code",
   "execution_count": 22,
   "id": "fe6b77d8",
   "metadata": {},
   "outputs": [],
   "source": [
    "file=open(\"five.txt\",'r')"
   ]
  },
  {
   "cell_type": "code",
   "execution_count": 23,
   "id": "1936cc8b",
   "metadata": {},
   "outputs": [
    {
     "data": {
      "text/plain": [
       "'this is my first project'"
      ]
     },
     "execution_count": 23,
     "metadata": {},
     "output_type": "execute_result"
    }
   ],
   "source": [
    "file.read()"
   ]
  },
  {
   "cell_type": "code",
   "execution_count": 24,
   "id": "57c7ed7d",
   "metadata": {},
   "outputs": [
    {
     "data": {
      "text/plain": [
       "[]"
      ]
     },
     "execution_count": 24,
     "metadata": {},
     "output_type": "execute_result"
    }
   ],
   "source": [
    "[]"
   ]
  },
  {
   "cell_type": "code",
   "execution_count": null,
   "id": "d7e0e1de",
   "metadata": {},
   "outputs": [],
   "source": []
  }
 ],
 "metadata": {
  "kernelspec": {
   "display_name": "Python 3 (ipykernel)",
   "language": "python",
   "name": "python3"
  },
  "language_info": {
   "codemirror_mode": {
    "name": "ipython",
    "version": 3
   },
   "file_extension": ".py",
   "mimetype": "text/x-python",
   "name": "python",
   "nbconvert_exporter": "python",
   "pygments_lexer": "ipython3",
   "version": "3.11.4"
  }
 },
 "nbformat": 4,
 "nbformat_minor": 5
}
