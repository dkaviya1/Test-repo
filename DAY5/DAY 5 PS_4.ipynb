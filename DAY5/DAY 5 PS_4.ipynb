{
 "cells": [
  {
   "cell_type": "markdown",
   "id": "d6fedaec",
   "metadata": {},
   "source": [
    "# IMPLEMENT INVENTORY MANAGEMENT IN PYTHON WITH MYSQL"
   ]
  },
  {
   "cell_type": "code",
   "execution_count": 1,
   "id": "0f5ac03f",
   "metadata": {},
   "outputs": [
    {
     "name": "stdout",
     "output_type": "stream",
     "text": [
      "<mysql.connector.connection_cext.CMySQLConnection object at 0x000001D81DC97D90>\n"
     ]
    }
   ],
   "source": [
    "import mysql.connector\n",
    "conn = mysql.connector.connect(  # Your MySQL host\n",
    "    user=\"root\",  # Your MySQL username\n",
    "    password=\"Kavi#2575991@X\",  # Your MySQL password\n",
    "    database=\"mla\"\n",
    ")\n",
    "print(conn)\n"
   ]
  },
  {
   "cell_type": "code",
   "execution_count": 20,
   "id": "a580e7be",
   "metadata": {},
   "outputs": [],
   "source": [
    "curs=conn.cursor()"
   ]
  },
  {
   "cell_type": "code",
   "execution_count": 21,
   "id": "0b9a00fa",
   "metadata": {},
   "outputs": [
    {
     "data": {
      "text/plain": [
       "<mysql.connector.cursor_cext.CMySQLCursor at 0x25fd3506650>"
      ]
     },
     "execution_count": 21,
     "metadata": {},
     "output_type": "execute_result"
    }
   ],
   "source": [
    "curs"
   ]
  },
  {
   "cell_type": "code",
   "execution_count": 14,
   "id": "f4417bdc",
   "metadata": {},
   "outputs": [],
   "source": [
    "#Create the Purchases table\n",
    "curs=conn.cursor()\n",
    "curs.execute=\"\"\"\n",
    "          create table purchases (\n",
    "        purchase_id INT AUTO_INCREMENT PRIMARY KEY,\n",
    "        product_name VARCHAR(255),\n",
    "        quantity INT,\n",
    "        purchase_date DATE\n",
    "   )\n",
    "\"\"\"\n",
    "\n"
   ]
  },
  {
   "cell_type": "code",
   "execution_count": 12,
   "id": "560f23d1",
   "metadata": {},
   "outputs": [
    {
     "name": "stdout",
     "output_type": "stream",
     "text": [
      "<mysql.connector.connection_cext.CMySQLConnection object at 0x000001EF06FDD1D0>\n"
     ]
    }
   ],
   "source": [
    "import mysql.connector\n",
    "conn = mysql.connector.connect(  # Your MySQL host\n",
    "    user=\"root\",  # Your MySQL username\n",
    "    password=\"Kavi#2575991@X\",  # Your MySQL password\n",
    "    database=\"mla\"\n",
    ")\n",
    "print(conn)"
   ]
  },
  {
   "cell_type": "code",
   "execution_count": 1,
   "id": "e49ed65f",
   "metadata": {},
   "outputs": [],
   "source": [
    "#curs =conn.cursor()\n",
    "#curs.execute=('show databases')\n",
    "#r=curs.fetchall()\n",
    "#for i in r:\n",
    "   # print(i)"
   ]
  },
  {
   "cell_type": "code",
   "execution_count": 8,
   "id": "77ec9de0",
   "metadata": {},
   "outputs": [
    {
     "name": "stdout",
     "output_type": "stream",
     "text": [
      "<mysql.connector.connection_cext.CMySQLConnection object at 0x0000020AB8375AD0>\n"
     ]
    }
   ],
   "source": [
    "# Create the Sales table\n",
    "import mysql.connector\n",
    "conn = mysql.connector.connect(  # Your MySQL host\n",
    "    user=\"root\",  # Your MySQL username\n",
    "    password=\"Kavi#2575991@X\",  # Your MySQL password\n",
    "    database=\"mla\"\n",
    ")\n",
    "print(conn)\n",
    "\n",
    "curs=conn.cursor()\n",
    "curs.execute(\"\"\"\n",
    "    CREATE TABLE IF NOT EXISTS Sales (\n",
    "        id INT AUTO_INCREMENT PRIMARY KEY,\n",
    "        product_name VARCHAR(255),\n",
    "        quantity INT,\n",
    "        sale_date DATE\n",
    "    )\n",
    "\"\"\")\n",
    "# Create the Inventory table\n",
    "curs.execute(\"\"\"\n",
    "    CREATE TABLE IF NOT EXISTS Inventory (\n",
    "        id INT AUTO_INCREMENT PRIMARY KEY,\n",
    "        product_name VARCHAR(255),\n",
    "        quantity INT\n",
    "    )\n",
    "\"\"\")\n",
    "# Insert sample data into Purchases, Sales, and Inventory tables\n",
    "curs.execute(\"\"\"\n",
    "    INSERT INTO Purchases (product_name, quantity, purchase_date)\n",
    "    VALUES (%s, %s, %s)\n",
    "\"\"\", (\"Product A\", 100, \"2023-09-15\"))\n",
    "\n",
    "curs.execute(\"\"\"\n",
    "    INSERT INTO Sales (product_name, quantity, sale_date)\n",
    "    VALUES (%s, %s, %s)\n",
    "\"\"\", (\"Product A\", 50, \"2023-09-16\"))\n",
    "\n",
    "# Update the Inventory table based on purchases and sales\n",
    "curs.execute(\"\"\"\n",
    "    UPDATE Inventory\n",
    "    SET quantity = quantity + (SELECT SUM(quantity) FROM Purchases WHERE product_name = 'Product A')\n",
    "    - (SELECT SUM(quantity) FROM Sales WHERE product_name = 'Product A')\n",
    "    WHERE product_name = 'Product A'\n",
    "\"\"\")\n"
   ]
  },
  {
   "cell_type": "code",
   "execution_count": 9,
   "id": "e0c53c7c",
   "metadata": {},
   "outputs": [],
   "source": [
    "#curs =conn.cursor()\n",
    "curs.execute=('show databases')\n",
    "r=curs.fetchall()\n",
    "for i in r:\n",
    "    print(i)"
   ]
  },
  {
   "cell_type": "code",
   "execution_count": 11,
   "id": "a1bc1b4f",
   "metadata": {},
   "outputs": [],
   "source": [
    "conn.commit()\n",
    "curs.close()\n",
    "conn.close()"
   ]
  },
  {
   "cell_type": "code",
   "execution_count": null,
   "id": "c420a877",
   "metadata": {},
   "outputs": [],
   "source": []
  }
 ],
 "metadata": {
  "kernelspec": {
   "display_name": "Python 3 (ipykernel)",
   "language": "python",
   "name": "python3"
  },
  "language_info": {
   "codemirror_mode": {
    "name": "ipython",
    "version": 3
   },
   "file_extension": ".py",
   "mimetype": "text/x-python",
   "name": "python",
   "nbconvert_exporter": "python",
   "pygments_lexer": "ipython3",
   "version": "3.11.4"
  }
 },
 "nbformat": 4,
 "nbformat_minor": 5
}
