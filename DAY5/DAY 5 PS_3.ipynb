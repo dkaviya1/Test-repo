{
 "cells": [
  {
   "cell_type": "markdown",
   "id": "66a96651",
   "metadata": {},
   "source": [
    "# MODULE DEPENDENCY RESOLUTION"
   ]
  },
  {
   "cell_type": "code",
   "execution_count": 2,
   "id": "077c53aa",
   "metadata": {},
   "outputs": [
    {
     "ename": "SyntaxError",
     "evalue": "invalid syntax (4170078839.py, line 17)",
     "output_type": "error",
     "traceback": [
      "\u001b[1;36m  Cell \u001b[1;32mIn[2], line 17\u001b[1;36m\u001b[0m\n\u001b[1;33m    requests==2.26.0\u001b[0m\n\u001b[1;37m                  ^\u001b[0m\n\u001b[1;31mSyntaxError\u001b[0m\u001b[1;31m:\u001b[0m invalid syntax\n"
     ]
    }
   ],
   "source": [
    "import subprocess\n",
    "\n",
    "\n",
    "def install_dependencies():\n",
    "    try:\n",
    "        \n",
    "        subprocess.call([\"pip\", \"install\", \"-r\", \"requirements.txt\"])\n",
    "        print(\"Dependencies installed successfully.\")\n",
    "    except Exception as e:\n",
    "        print(f\"Error installing dependencies: {e}\")\n",
    "\n",
    "\n",
    "install_dependencies()\n",
    "\n",
    "\n",
    "# requirements.txt\n",
    "requests==2.26.0\n",
    "flask==2.0.1"
   ]
  },
  {
   "cell_type": "code",
   "execution_count": null,
   "id": "03cfd690",
   "metadata": {},
   "outputs": [],
   "source": []
  }
 ],
 "metadata": {
  "kernelspec": {
   "display_name": "Python 3 (ipykernel)",
   "language": "python",
   "name": "python3"
  },
  "language_info": {
   "codemirror_mode": {
    "name": "ipython",
    "version": 3
   },
   "file_extension": ".py",
   "mimetype": "text/x-python",
   "name": "python",
   "nbconvert_exporter": "python",
   "pygments_lexer": "ipython3",
   "version": "3.11.4"
  }
 },
 "nbformat": 4,
 "nbformat_minor": 5
}
