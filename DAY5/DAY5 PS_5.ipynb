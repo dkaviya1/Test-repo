{
 "cells": [
  {
   "cell_type": "markdown",
   "id": "85340f6a",
   "metadata": {},
   "source": [
    "# Customer Order Processing Scenario: You are building a customer order processing system for an e-commerce company. The system needs to interact with a MySQL database to store customer orders, products, and order details."
   ]
  },
  {
   "cell_type": "code",
   "execution_count": 59,
   "id": "c014f974",
   "metadata": {},
   "outputs": [
    {
     "name": "stdout",
     "output_type": "stream",
     "text": [
      "<mysql.connector.connection_cext.CMySQLConnection object at 0x000001EEB8628250>\n"
     ]
    }
   ],
   "source": [
    "import mysql.connector\n",
    "conn = mysql.connector.connect( \n",
    "    user=\"root\", \n",
    "    password=\"Kavi#2575991@X\", \n",
    "    host = '127.0.0.1',\n",
    "    database=\"ecommercecompany\"\n",
    ")\n",
    "print(conn)"
   ]
  },
  {
   "cell_type": "code",
   "execution_count": 5,
   "id": "1a3b3fb7",
   "metadata": {},
   "outputs": [],
   "source": [
    "curs=conn.cursor()"
   ]
  },
  {
   "cell_type": "code",
   "execution_count": 6,
   "id": "12ee039e",
   "metadata": {},
   "outputs": [
    {
     "data": {
      "text/plain": [
       "<mysql.connector.cursor_cext.CMySQLCursor at 0x1eeb664b890>"
      ]
     },
     "execution_count": 6,
     "metadata": {},
     "output_type": "execute_result"
    }
   ],
   "source": [
    "curs"
   ]
  },
  {
   "cell_type": "code",
   "execution_count": 9,
   "id": "a49d469e",
   "metadata": {},
   "outputs": [],
   "source": [
    "customer_table='''\n",
    "create table customer_table(\n",
    "             customer_id int primary key,\n",
    "             name varchar(100)\n",
    "             )\n",
    "'''\n",
    "curs.execute(customer_table)"
   ]
  },
  {
   "cell_type": "code",
   "execution_count": 10,
   "id": "b0055622",
   "metadata": {},
   "outputs": [],
   "source": [
    "product_table='''\n",
    "create table product_table(\n",
    "              product_id int primary key,\n",
    "              name varchar(100)\n",
    "          )\n",
    "'''\n",
    "curs.execute(product_table)"
   ]
  },
  {
   "cell_type": "code",
   "execution_count": 11,
   "id": "57df56bd",
   "metadata": {},
   "outputs": [],
   "source": [
    "order_table='''\n",
    "create table order_table(\n",
    "       order_id int primary key,\n",
    "       customer_id int)\n",
    "'''\n",
    "curs.execute(order_table)\n"
   ]
  },
  {
   "cell_type": "code",
   "execution_count": 12,
   "id": "ffa3b784",
   "metadata": {},
   "outputs": [],
   "source": [
    "orderdetails_tabe='''\n",
    "create table orderdetails_table(\n",
    "             order_detail_id int primary key,\n",
    "             order_id int)\n",
    "'''\n",
    "curs.execute(orderdetails_tabe)"
   ]
  },
  {
   "cell_type": "code",
   "execution_count": 13,
   "id": "b4d1cc7f",
   "metadata": {},
   "outputs": [
    {
     "name": "stdout",
     "output_type": "stream",
     "text": [
      "<mysql.connector.connection_cext.CMySQLConnection object at 0x000001EEB6C83050>\n"
     ]
    }
   ],
   "source": [
    "import mysql.connector\n",
    "conn = mysql.connector.connect( \n",
    "    user=\"root\", \n",
    "    password=\"Kavi#2575991@X\", \n",
    "    database=\"ecommercecompany\"\n",
    ")\n",
    "print(conn)"
   ]
  },
  {
   "cell_type": "code",
   "execution_count": 43,
   "id": "8b15513b",
   "metadata": {},
   "outputs": [
    {
     "name": "stdout",
     "output_type": "stream",
     "text": [
      "('book_data',)\n",
      "('ecommercecompany',)\n",
      "('employee_details',)\n",
      "('information_schema',)\n",
      "('location_kadamalai',)\n",
      "('market',)\n",
      "('mla',)\n",
      "('mysql',)\n",
      "('performance_schema',)\n",
      "('sakila',)\n",
      "('sys',)\n",
      "('world',)\n"
     ]
    }
   ],
   "source": [
    "curs=conn.cursor()\n",
    "curs.execute(\"show databases\")\n",
    "for i in curs:\n",
    "    print(i)"
   ]
  },
  {
   "cell_type": "code",
   "execution_count": 19,
   "id": "b6ba0885",
   "metadata": {},
   "outputs": [
    {
     "ename": "ProgrammingError",
     "evalue": "1050 (42S01): Table 'customer_table' already exists",
     "output_type": "error",
     "traceback": [
      "\u001b[1;31m---------------------------------------------------------------------------\u001b[0m",
      "\u001b[1;31mMySQLInterfaceError\u001b[0m                       Traceback (most recent call last)",
      "File \u001b[1;32m~\\anaconda3\\Lib\\site-packages\\mysql\\connector\\connection_cext.py:633\u001b[0m, in \u001b[0;36mCMySQLConnection.cmd_query\u001b[1;34m(self, query, raw, buffered, raw_as_string)\u001b[0m\n\u001b[0;32m    632\u001b[0m         query \u001b[38;5;241m=\u001b[39m query\u001b[38;5;241m.\u001b[39mencode(\u001b[38;5;124m\"\u001b[39m\u001b[38;5;124mutf-8\u001b[39m\u001b[38;5;124m\"\u001b[39m)\n\u001b[1;32m--> 633\u001b[0m     \u001b[38;5;28mself\u001b[39m\u001b[38;5;241m.\u001b[39m_cmysql\u001b[38;5;241m.\u001b[39mquery(\n\u001b[0;32m    634\u001b[0m         query,\n\u001b[0;32m    635\u001b[0m         raw\u001b[38;5;241m=\u001b[39mraw,\n\u001b[0;32m    636\u001b[0m         buffered\u001b[38;5;241m=\u001b[39mbuffered,\n\u001b[0;32m    637\u001b[0m         raw_as_string\u001b[38;5;241m=\u001b[39mraw_as_string,\n\u001b[0;32m    638\u001b[0m         query_attrs\u001b[38;5;241m=\u001b[39m\u001b[38;5;28mself\u001b[39m\u001b[38;5;241m.\u001b[39mquery_attrs,\n\u001b[0;32m    639\u001b[0m     )\n\u001b[0;32m    640\u001b[0m \u001b[38;5;28;01mexcept\u001b[39;00m MySQLInterfaceError \u001b[38;5;28;01mas\u001b[39;00m err:\n",
      "\u001b[1;31mMySQLInterfaceError\u001b[0m: Table 'customer_table' already exists",
      "\nThe above exception was the direct cause of the following exception:\n",
      "\u001b[1;31mProgrammingError\u001b[0m                          Traceback (most recent call last)",
      "Cell \u001b[1;32mIn[19], line 1\u001b[0m\n\u001b[1;32m----> 1\u001b[0m curs\u001b[38;5;241m.\u001b[39mexecute(\u001b[38;5;124m\"\u001b[39m\u001b[38;5;124mcreate table customer_table(customer_id int primary key,name varchar(100))\u001b[39m\u001b[38;5;124m\"\u001b[39m)\n",
      "File \u001b[1;32m~\\anaconda3\\Lib\\site-packages\\mysql\\connector\\cursor_cext.py:330\u001b[0m, in \u001b[0;36mCMySQLCursor.execute\u001b[1;34m(self, operation, params, multi)\u001b[0m\n\u001b[0;32m    325\u001b[0m             \u001b[38;5;28;01mraise\u001b[39;00m ProgrammingError(\n\u001b[0;32m    326\u001b[0m                 \u001b[38;5;124m\"\u001b[39m\u001b[38;5;124mNot all parameters were used in the SQL statement\u001b[39m\u001b[38;5;124m\"\u001b[39m\n\u001b[0;32m    327\u001b[0m             )\n\u001b[0;32m    329\u001b[0m \u001b[38;5;28;01mtry\u001b[39;00m:\n\u001b[1;32m--> 330\u001b[0m     result \u001b[38;5;241m=\u001b[39m \u001b[38;5;28mself\u001b[39m\u001b[38;5;241m.\u001b[39m_cnx\u001b[38;5;241m.\u001b[39mcmd_query(\n\u001b[0;32m    331\u001b[0m         stmt,\n\u001b[0;32m    332\u001b[0m         raw\u001b[38;5;241m=\u001b[39m\u001b[38;5;28mself\u001b[39m\u001b[38;5;241m.\u001b[39m_raw,\n\u001b[0;32m    333\u001b[0m         buffered\u001b[38;5;241m=\u001b[39m\u001b[38;5;28mself\u001b[39m\u001b[38;5;241m.\u001b[39m_buffered,\n\u001b[0;32m    334\u001b[0m         raw_as_string\u001b[38;5;241m=\u001b[39m\u001b[38;5;28mself\u001b[39m\u001b[38;5;241m.\u001b[39m_raw_as_string,\n\u001b[0;32m    335\u001b[0m     )\n\u001b[0;32m    336\u001b[0m \u001b[38;5;28;01mexcept\u001b[39;00m MySQLInterfaceError \u001b[38;5;28;01mas\u001b[39;00m err:\n\u001b[0;32m    337\u001b[0m     \u001b[38;5;28;01mraise\u001b[39;00m get_mysql_exception(\n\u001b[0;32m    338\u001b[0m         msg\u001b[38;5;241m=\u001b[39merr\u001b[38;5;241m.\u001b[39mmsg, errno\u001b[38;5;241m=\u001b[39merr\u001b[38;5;241m.\u001b[39merrno, sqlstate\u001b[38;5;241m=\u001b[39merr\u001b[38;5;241m.\u001b[39msqlstate\n\u001b[0;32m    339\u001b[0m     ) \u001b[38;5;28;01mfrom\u001b[39;00m \u001b[38;5;21;01merr\u001b[39;00m\n",
      "File \u001b[1;32m~\\anaconda3\\Lib\\site-packages\\mysql\\connector\\opentelemetry\\context_propagation.py:77\u001b[0m, in \u001b[0;36mwith_context_propagation.<locals>.wrapper\u001b[1;34m(cnx, *args, **kwargs)\u001b[0m\n\u001b[0;32m     75\u001b[0m \u001b[38;5;250m\u001b[39m\u001b[38;5;124;03m\"\"\"Context propagation decorator.\"\"\"\u001b[39;00m\n\u001b[0;32m     76\u001b[0m \u001b[38;5;28;01mif\u001b[39;00m \u001b[38;5;129;01mnot\u001b[39;00m OTEL_ENABLED \u001b[38;5;129;01mor\u001b[39;00m \u001b[38;5;129;01mnot\u001b[39;00m cnx\u001b[38;5;241m.\u001b[39motel_context_propagation:\n\u001b[1;32m---> 77\u001b[0m     \u001b[38;5;28;01mreturn\u001b[39;00m method(cnx, \u001b[38;5;241m*\u001b[39margs, \u001b[38;5;241m*\u001b[39m\u001b[38;5;241m*\u001b[39mkwargs)\n\u001b[0;32m     79\u001b[0m current_span \u001b[38;5;241m=\u001b[39m trace\u001b[38;5;241m.\u001b[39mget_current_span()\n\u001b[0;32m     80\u001b[0m tp_header \u001b[38;5;241m=\u001b[39m \u001b[38;5;28;01mNone\u001b[39;00m\n",
      "File \u001b[1;32m~\\anaconda3\\Lib\\site-packages\\mysql\\connector\\connection_cext.py:641\u001b[0m, in \u001b[0;36mCMySQLConnection.cmd_query\u001b[1;34m(self, query, raw, buffered, raw_as_string)\u001b[0m\n\u001b[0;32m    633\u001b[0m     \u001b[38;5;28mself\u001b[39m\u001b[38;5;241m.\u001b[39m_cmysql\u001b[38;5;241m.\u001b[39mquery(\n\u001b[0;32m    634\u001b[0m         query,\n\u001b[0;32m    635\u001b[0m         raw\u001b[38;5;241m=\u001b[39mraw,\n\u001b[1;32m   (...)\u001b[0m\n\u001b[0;32m    638\u001b[0m         query_attrs\u001b[38;5;241m=\u001b[39m\u001b[38;5;28mself\u001b[39m\u001b[38;5;241m.\u001b[39mquery_attrs,\n\u001b[0;32m    639\u001b[0m     )\n\u001b[0;32m    640\u001b[0m \u001b[38;5;28;01mexcept\u001b[39;00m MySQLInterfaceError \u001b[38;5;28;01mas\u001b[39;00m err:\n\u001b[1;32m--> 641\u001b[0m     \u001b[38;5;28;01mraise\u001b[39;00m get_mysql_exception(\n\u001b[0;32m    642\u001b[0m         err\u001b[38;5;241m.\u001b[39merrno, msg\u001b[38;5;241m=\u001b[39merr\u001b[38;5;241m.\u001b[39mmsg, sqlstate\u001b[38;5;241m=\u001b[39merr\u001b[38;5;241m.\u001b[39msqlstate\n\u001b[0;32m    643\u001b[0m     ) \u001b[38;5;28;01mfrom\u001b[39;00m \u001b[38;5;21;01merr\u001b[39;00m\n\u001b[0;32m    644\u001b[0m \u001b[38;5;28;01mexcept\u001b[39;00m \u001b[38;5;167;01mAttributeError\u001b[39;00m \u001b[38;5;28;01mas\u001b[39;00m err:\n\u001b[0;32m    645\u001b[0m     addr \u001b[38;5;241m=\u001b[39m (\n\u001b[0;32m    646\u001b[0m         \u001b[38;5;28mself\u001b[39m\u001b[38;5;241m.\u001b[39m_unix_socket \u001b[38;5;28;01mif\u001b[39;00m \u001b[38;5;28mself\u001b[39m\u001b[38;5;241m.\u001b[39m_unix_socket \u001b[38;5;28;01melse\u001b[39;00m \u001b[38;5;124mf\u001b[39m\u001b[38;5;124m\"\u001b[39m\u001b[38;5;132;01m{\u001b[39;00m\u001b[38;5;28mself\u001b[39m\u001b[38;5;241m.\u001b[39m_host\u001b[38;5;132;01m}\u001b[39;00m\u001b[38;5;124m:\u001b[39m\u001b[38;5;132;01m{\u001b[39;00m\u001b[38;5;28mself\u001b[39m\u001b[38;5;241m.\u001b[39m_port\u001b[38;5;132;01m}\u001b[39;00m\u001b[38;5;124m\"\u001b[39m\n\u001b[0;32m    647\u001b[0m     )\n",
      "\u001b[1;31mProgrammingError\u001b[0m: 1050 (42S01): Table 'customer_table' already exists"
     ]
    }
   ],
   "source": [
    "curs.execute(\"create table customer_table(customer_id int primary key,name varchar(100))\")"
   ]
  },
  {
   "cell_type": "code",
   "execution_count": 20,
   "id": "e6760ebc",
   "metadata": {},
   "outputs": [
    {
     "name": "stdout",
     "output_type": "stream",
     "text": [
      "('customer_table',)\n",
      "('order_table',)\n",
      "('orderdetails_table',)\n",
      "('product_table',)\n"
     ]
    }
   ],
   "source": [
    "curs.execute(\"show tables\")\n",
    "for i in curs:\n",
    "    print(i)"
   ]
  },
  {
   "cell_type": "code",
   "execution_count": 42,
   "id": "ae21c764",
   "metadata": {},
   "outputs": [
    {
     "name": "stdout",
     "output_type": "stream",
     "text": [
      "-1 is inserted now\n"
     ]
    }
   ],
   "source": [
    "customer_table_insert=\"insert into ecommercecompany.customer_table(customer_id,name) values (%d,%s)\"\n",
    "customer_table_val=(2,\"john\")\n",
    "#product_table_insert=\"insert into product_table(product_id,name)values(%d,%s)\"\n",
    "#product_table_val=[('001','soap'),('002','shampoo')]\n",
    "#order_table_insert=\"insert into order_table(order_id,customer_id)values(%d,%d)\"\n",
    "#order_table_val=[('201','01'),('202','02')]\n",
    "#orderdetails_tabe_insert=\"insert into orderdetails_tabe(order_detail_id,order_id )values(%d,%d)\"\n",
    "#orderdetails_tabe_val=[('301','201'),('302','202')]\n",
    "curs.execute=(customer_table_insert,customer_table_val)\n",
    "#curs.executemany(product_table_insert,product_table_val,order_table_insert,order_table_val,orderdetails_tabe_insert,orderdetails_tabe_val)\n",
    "conn.commit()\n",
    "print(curs.rowcount,'is inserted now')\n"
   ]
  },
  {
   "cell_type": "code",
   "execution_count": 38,
   "id": "69df5b29",
   "metadata": {},
   "outputs": [],
   "source": [
    "curs.execute=(\"select * from ecommercecompany.customer_table\")\n",
    "result=curs.fetchall()\n",
    "for i in result:\n",
    "    print(i)"
   ]
  },
  {
   "cell_type": "code",
   "execution_count": 45,
   "id": "2475806c",
   "metadata": {},
   "outputs": [
    {
     "name": "stdout",
     "output_type": "stream",
     "text": [
      "('customer_table',)\n",
      "('order_table',)\n",
      "('orderdetails_table',)\n",
      "('product_table',)\n"
     ]
    }
   ],
   "source": [
    "curs=conn.cursor()\n",
    "curs.execute(\"show tables\")\n",
    "for i in curs:\n",
    "    print(i)"
   ]
  },
  {
   "cell_type": "code",
   "execution_count": 46,
   "id": "7b6a9085",
   "metadata": {},
   "outputs": [
    {
     "name": "stdout",
     "output_type": "stream",
     "text": [
      "(1, 'Sanashree')\n"
     ]
    }
   ],
   "source": [
    "curs.execute (\"select * from ecommercecompany.customer_table\")\n",
    "result=curs.fetchall()\n",
    "for i in result:\n",
    "    print(i)"
   ]
  },
  {
   "cell_type": "code",
   "execution_count": 128,
   "id": "b2cec1b1",
   "metadata": {},
   "outputs": [
    {
     "ename": "InternalError",
     "evalue": "Unread result found",
     "output_type": "error",
     "traceback": [
      "\u001b[1;31m---------------------------------------------------------------------------\u001b[0m",
      "\u001b[1;31mInternalError\u001b[0m                             Traceback (most recent call last)",
      "Cell \u001b[1;32mIn[128], line 11\u001b[0m\n\u001b[0;32m      9\u001b[0m curs\u001b[38;5;241m.\u001b[39mexecute\u001b[38;5;241m=\u001b[39m(customer_table_insert,customer_table_val)\n\u001b[0;32m     10\u001b[0m \u001b[38;5;66;03m#curs.executemany(product_table_insert,product_table_val,order_table_insert,order_table_val,orderdetails_tabe_insert,orderdetails_tabe_val)\u001b[39;00m\n\u001b[1;32m---> 11\u001b[0m conn\u001b[38;5;241m.\u001b[39mcommit()\n\u001b[0;32m     12\u001b[0m \u001b[38;5;28mprint\u001b[39m(curs\u001b[38;5;241m.\u001b[39mrowcount,\u001b[38;5;124m'\u001b[39m\u001b[38;5;124mis inserted now\u001b[39m\u001b[38;5;124m'\u001b[39m)\n",
      "File \u001b[1;32m~\\anaconda3\\Lib\\site-packages\\mysql\\connector\\connection_cext.py:510\u001b[0m, in \u001b[0;36mCMySQLConnection.commit\u001b[1;34m(self)\u001b[0m\n\u001b[0;32m    508\u001b[0m \u001b[38;5;250m\u001b[39m\u001b[38;5;124;03m\"\"\"Commit current transaction\"\"\"\u001b[39;00m\n\u001b[0;32m    509\u001b[0m \u001b[38;5;28;01mif\u001b[39;00m \u001b[38;5;28mself\u001b[39m\u001b[38;5;241m.\u001b[39m_cmysql:\n\u001b[1;32m--> 510\u001b[0m     \u001b[38;5;28mself\u001b[39m\u001b[38;5;241m.\u001b[39mhandle_unread_result()\n\u001b[0;32m    511\u001b[0m     \u001b[38;5;28mself\u001b[39m\u001b[38;5;241m.\u001b[39m_cmysql\u001b[38;5;241m.\u001b[39mcommit()\n",
      "File \u001b[1;32m~\\anaconda3\\Lib\\site-packages\\mysql\\connector\\connection_cext.py:955\u001b[0m, in \u001b[0;36mCMySQLConnection.handle_unread_result\u001b[1;34m(self, prepared)\u001b[0m\n\u001b[0;32m    953\u001b[0m     \u001b[38;5;28mself\u001b[39m\u001b[38;5;241m.\u001b[39mconsume_results()\n\u001b[0;32m    954\u001b[0m \u001b[38;5;28;01melif\u001b[39;00m unread_result:\n\u001b[1;32m--> 955\u001b[0m     \u001b[38;5;28;01mraise\u001b[39;00m InternalError(\u001b[38;5;124m\"\u001b[39m\u001b[38;5;124mUnread result found\u001b[39m\u001b[38;5;124m\"\u001b[39m)\n",
      "\u001b[1;31mInternalError\u001b[0m: Unread result found"
     ]
    }
   ],
   "source": [
    "customer_table_insert = \"insert into ecommercecompany.customer_table(customer_id, name) values (%s, %s)\"\n",
    "customer_table_val = (\"2\",\"john\")\n",
    "#product_table_insert=\"insert into product_table(product_id,name)values(%d,%s)\"\n",
    "#product_table_val=[('001','soap'),('002','shampoo')]\n",
    "#order_table_insert=\"insert into order_table(order_id,customer_id)values(%d,%d)\"\n",
    "#order_table_val=[('201','01'),('202','02')]\n",
    "#orderdetails_tabe_insert=\"insert into orderdetails_tabe(order_detail_id,order_id )values(%d,%d)\"\n",
    "#orderdetails_tabe_val=[('301','201'),('302','202')]\n",
    "curs.execute=(customer_table_insert,customer_table_val)\n",
    "#curs.executemany(product_table_insert,product_table_val,order_table_insert,order_table_val,orderdetails_tabe_insert,orderdetails_tabe_val)\n",
    "conn.commit()\n",
    "print(curs.rowcount,'is inserted now')"
   ]
  },
  {
   "cell_type": "code",
   "execution_count": 129,
   "id": "bc9f4878",
   "metadata": {},
   "outputs": [
    {
     "name": "stdout",
     "output_type": "stream",
     "text": [
      "(1, 'Sanashree')\n",
      "(2, 'john')\n",
      "(3, 'Peter')\n",
      "(4, 'Peter')\n",
      "(5, 'JohnP')\n",
      "(6, 'Peter power')\n",
      "(7, 'John Power')\n"
     ]
    }
   ],
   "source": [
    "curs.execute = (\"select * from ecommercecompany.customer_table\")\n",
    "result = curs.fetchall()\n",
    "for j in result:\n",
    "    print(j)"
   ]
  },
  {
   "cell_type": "code",
   "execution_count": 101,
   "id": "9d15b25b",
   "metadata": {},
   "outputs": [
    {
     "name": "stdout",
     "output_type": "stream",
     "text": [
      "('customer_table',)\n",
      "('order_table',)\n",
      "('orderdetails_table',)\n",
      "('product_table',)\n"
     ]
    }
   ],
   "source": [
    "curs=conn.cursor()\n",
    "curs.execute(\"show tables\")\n",
    "for i in curs:\n",
    "    print(i)"
   ]
  },
  {
   "cell_type": "code",
   "execution_count": 102,
   "id": "9d79cba4",
   "metadata": {},
   "outputs": [],
   "source": [
    "#curs=conn.cursor()\n",
    "curs.execute (\"select * from ecommercecompany.customer_table\")\n",
    "result=curs.fetchall()\n",
    "for i in result:\n",
    "    print(i)"
   ]
  },
  {
   "cell_type": "code",
   "execution_count": 126,
   "id": "525b9385",
   "metadata": {},
   "outputs": [
    {
     "ename": "InternalError",
     "evalue": "Unread result found",
     "output_type": "error",
     "traceback": [
      "\u001b[1;31m---------------------------------------------------------------------------\u001b[0m",
      "\u001b[1;31mInternalError\u001b[0m                             Traceback (most recent call last)",
      "Cell \u001b[1;32mIn[126], line 1\u001b[0m\n\u001b[1;32m----> 1\u001b[0m curs\u001b[38;5;241m=\u001b[39mconn\u001b[38;5;241m.\u001b[39mcursor()\n\u001b[0;32m      2\u001b[0m customer_table_insert \u001b[38;5;241m=\u001b[39m \u001b[38;5;124m\"\u001b[39m\u001b[38;5;124minsert into ecommercecompany.customer_table(customer_id, name) values (\u001b[39m\u001b[38;5;132;01m%s\u001b[39;00m\u001b[38;5;124m, \u001b[39m\u001b[38;5;132;01m%s\u001b[39;00m\u001b[38;5;124m)\u001b[39m\u001b[38;5;124m\"\u001b[39m\n\u001b[0;32m      3\u001b[0m customer_table_val \u001b[38;5;241m=\u001b[39m [(\u001b[38;5;124m\"\u001b[39m\u001b[38;5;124m6\u001b[39m\u001b[38;5;124m\"\u001b[39m,\u001b[38;5;124m\"\u001b[39m\u001b[38;5;124mPeter power\u001b[39m\u001b[38;5;124m\"\u001b[39m),(\u001b[38;5;124m\"\u001b[39m\u001b[38;5;124m7\u001b[39m\u001b[38;5;124m\"\u001b[39m,\u001b[38;5;124m\"\u001b[39m\u001b[38;5;124mJohn Power\u001b[39m\u001b[38;5;124m\"\u001b[39m)]\n",
      "File \u001b[1;32m~\\anaconda3\\Lib\\site-packages\\mysql\\connector\\connection_cext.py:698\u001b[0m, in \u001b[0;36mCMySQLConnection.cursor\u001b[1;34m(self, buffered, raw, prepared, cursor_class, dictionary, named_tuple)\u001b[0m\n\u001b[0;32m    661\u001b[0m \u001b[38;5;28;01mdef\u001b[39;00m \u001b[38;5;21mcursor\u001b[39m(\n\u001b[0;32m    662\u001b[0m     \u001b[38;5;28mself\u001b[39m,\n\u001b[0;32m    663\u001b[0m     buffered: Optional[\u001b[38;5;28mbool\u001b[39m] \u001b[38;5;241m=\u001b[39m \u001b[38;5;28;01mNone\u001b[39;00m,\n\u001b[1;32m   (...)\u001b[0m\n\u001b[0;32m    668\u001b[0m     named_tuple: Optional[\u001b[38;5;28mbool\u001b[39m] \u001b[38;5;241m=\u001b[39m \u001b[38;5;28;01mNone\u001b[39;00m,\n\u001b[0;32m    669\u001b[0m ) \u001b[38;5;241m-\u001b[39m\u001b[38;5;241m>\u001b[39m CMySQLCursor:\n\u001b[0;32m    670\u001b[0m \u001b[38;5;250m    \u001b[39m\u001b[38;5;124;03m\"\"\"Instantiates and returns a cursor using C Extension\u001b[39;00m\n\u001b[0;32m    671\u001b[0m \n\u001b[0;32m    672\u001b[0m \u001b[38;5;124;03m    By default, CMySQLCursor is returned. Depending on the options\u001b[39;00m\n\u001b[1;32m   (...)\u001b[0m\n\u001b[0;32m    696\u001b[0m \u001b[38;5;124;03m    :rtype: CMySQLCursor or subclass\u001b[39;00m\n\u001b[0;32m    697\u001b[0m \u001b[38;5;124;03m    \"\"\"\u001b[39;00m\n\u001b[1;32m--> 698\u001b[0m     \u001b[38;5;28mself\u001b[39m\u001b[38;5;241m.\u001b[39mhandle_unread_result(prepared)\n\u001b[0;32m    699\u001b[0m     \u001b[38;5;28;01mif\u001b[39;00m \u001b[38;5;129;01mnot\u001b[39;00m \u001b[38;5;28mself\u001b[39m\u001b[38;5;241m.\u001b[39mis_connected():\n\u001b[0;32m    700\u001b[0m         \u001b[38;5;28;01mraise\u001b[39;00m OperationalError(\u001b[38;5;124m\"\u001b[39m\u001b[38;5;124mMySQL Connection not available.\u001b[39m\u001b[38;5;124m\"\u001b[39m)\n",
      "File \u001b[1;32m~\\anaconda3\\Lib\\site-packages\\mysql\\connector\\connection_cext.py:955\u001b[0m, in \u001b[0;36mCMySQLConnection.handle_unread_result\u001b[1;34m(self, prepared)\u001b[0m\n\u001b[0;32m    953\u001b[0m     \u001b[38;5;28mself\u001b[39m\u001b[38;5;241m.\u001b[39mconsume_results()\n\u001b[0;32m    954\u001b[0m \u001b[38;5;28;01melif\u001b[39;00m unread_result:\n\u001b[1;32m--> 955\u001b[0m     \u001b[38;5;28;01mraise\u001b[39;00m InternalError(\u001b[38;5;124m\"\u001b[39m\u001b[38;5;124mUnread result found\u001b[39m\u001b[38;5;124m\"\u001b[39m)\n",
      "\u001b[1;31mInternalError\u001b[0m: Unread result found"
     ]
    }
   ],
   "source": [
    "curs=conn.cursor()\n",
    "customer_table_insert = \"insert into ecommercecompany.customer_table(customer_id, name) values (%s, %s)\"\n",
    "customer_table_val = [(\"6\",\"Peter power\"),(\"7\",\"John Power\")]\n",
    "#product_table_insert=\"insert into ecommercecompany.product_table(product_id,name)values(%s,%s)\"\n",
    "#product_table_val = [(\"001\",\"soap\"),('002',\"shampoo\")]\n",
    "#order_table_insert=\"insert into ecommercecompany.order_table(order_id,customer_id)values(%s,%s)\"\n",
    "#order_table_val=[(\"201\",\"01\"),(\"202\",\"02\")]\n",
    "#orderdetails_tabe_insert=\"insert into ecommercecompany.orderdetails_tabe(order_detail_id,order_id )values(%s,%s)\"\n",
    "#orderdetails_tabe_val=[(\"301\",\"201\"),(\"302\",\"202\")]\n",
    "curs.executemany(customer_table_insert,customer_table_val)\n",
    "#curs.executemany(product_table_insert,product_table_val)\n",
    "#curs.executemany(order_table_insert,order_table_val)\n",
    "#curs.executemany(orderdetails_tabe_insert,orderdetails_tabe_val)\n",
    "conn.commit()\n",
    "print(curs.rowcount,'is inserted now')\n"
   ]
  },
  {
   "cell_type": "code",
   "execution_count": 127,
   "id": "f07e98e0",
   "metadata": {
    "scrolled": true
   },
   "outputs": [
    {
     "ename": "InternalError",
     "evalue": "Unread result found",
     "output_type": "error",
     "traceback": [
      "\u001b[1;31m---------------------------------------------------------------------------\u001b[0m",
      "\u001b[1;31mInternalError\u001b[0m                             Traceback (most recent call last)",
      "Cell \u001b[1;32mIn[127], line 2\u001b[0m\n\u001b[0;32m      1\u001b[0m \u001b[38;5;66;03m#curs=conn.cursor()\u001b[39;00m\n\u001b[1;32m----> 2\u001b[0m curs\u001b[38;5;241m.\u001b[39mexecute (\u001b[38;5;124m\"\u001b[39m\u001b[38;5;124mselect * from ecommercecompany.customer_table\u001b[39m\u001b[38;5;124m\"\u001b[39m)\n\u001b[0;32m      3\u001b[0m \u001b[38;5;66;03m#curs.execute (\"select * from ecommercecompany.product_table\")\u001b[39;00m\n\u001b[0;32m      4\u001b[0m \u001b[38;5;66;03m#curs.execute (\"select * from ecommercecompany.order_table\")\u001b[39;00m\n\u001b[0;32m      5\u001b[0m \u001b[38;5;66;03m#curs.execute (\"select * from ecommercecompany.orderdetails_table\")\u001b[39;00m\n\u001b[0;32m      6\u001b[0m result \u001b[38;5;241m=\u001b[39m curs\u001b[38;5;241m.\u001b[39mfetchall()\n",
      "File \u001b[1;32m~\\anaconda3\\Lib\\site-packages\\mysql\\connector\\cursor_cext.py:303\u001b[0m, in \u001b[0;36mCMySQLCursor.execute\u001b[1;34m(self, operation, params, multi)\u001b[0m\n\u001b[0;32m    301\u001b[0m \u001b[38;5;28;01mexcept\u001b[39;00m (ProgrammingError, \u001b[38;5;167;01mReferenceError\u001b[39;00m) \u001b[38;5;28;01mas\u001b[39;00m err:\n\u001b[0;32m    302\u001b[0m     \u001b[38;5;28;01mraise\u001b[39;00m ProgrammingError(\u001b[38;5;124m\"\u001b[39m\u001b[38;5;124mCursor is not connected\u001b[39m\u001b[38;5;124m\"\u001b[39m, \u001b[38;5;241m2055\u001b[39m) \u001b[38;5;28;01mfrom\u001b[39;00m \u001b[38;5;21;01merr\u001b[39;00m\n\u001b[1;32m--> 303\u001b[0m \u001b[38;5;28mself\u001b[39m\u001b[38;5;241m.\u001b[39m_cnx\u001b[38;5;241m.\u001b[39mhandle_unread_result()\n\u001b[0;32m    305\u001b[0m stmt \u001b[38;5;241m=\u001b[39m \u001b[38;5;124m\"\u001b[39m\u001b[38;5;124m\"\u001b[39m\n\u001b[0;32m    306\u001b[0m \u001b[38;5;28mself\u001b[39m\u001b[38;5;241m.\u001b[39mreset()\n",
      "File \u001b[1;32m~\\anaconda3\\Lib\\site-packages\\mysql\\connector\\connection_cext.py:955\u001b[0m, in \u001b[0;36mCMySQLConnection.handle_unread_result\u001b[1;34m(self, prepared)\u001b[0m\n\u001b[0;32m    953\u001b[0m     \u001b[38;5;28mself\u001b[39m\u001b[38;5;241m.\u001b[39mconsume_results()\n\u001b[0;32m    954\u001b[0m \u001b[38;5;28;01melif\u001b[39;00m unread_result:\n\u001b[1;32m--> 955\u001b[0m     \u001b[38;5;28;01mraise\u001b[39;00m InternalError(\u001b[38;5;124m\"\u001b[39m\u001b[38;5;124mUnread result found\u001b[39m\u001b[38;5;124m\"\u001b[39m)\n",
      "\u001b[1;31mInternalError\u001b[0m: Unread result found"
     ]
    }
   ],
   "source": [
    "#curs=conn.cursor()\n",
    "curs.execute (\"select * from ecommercecompany.customer_table\")\n",
    "#curs.execute (\"select * from ecommercecompany.product_table\")\n",
    "#curs.execute (\"select * from ecommercecompany.order_table\")\n",
    "#curs.execute (\"select * from ecommercecompany.orderdetails_table\")\n",
    "result = curs.fetchall()\n",
    "for i in result:\n",
    "    print(i)"
   ]
  },
  {
   "cell_type": "code",
   "execution_count": null,
   "id": "8dfd30c6",
   "metadata": {},
   "outputs": [],
   "source": []
  }
 ],
 "metadata": {
  "kernelspec": {
   "display_name": "Python 3 (ipykernel)",
   "language": "python",
   "name": "python3"
  },
  "language_info": {
   "codemirror_mode": {
    "name": "ipython",
    "version": 3
   },
   "file_extension": ".py",
   "mimetype": "text/x-python",
   "name": "python",
   "nbconvert_exporter": "python",
   "pygments_lexer": "ipython3",
   "version": "3.11.4"
  }
 },
 "nbformat": 4,
 "nbformat_minor": 5
}
