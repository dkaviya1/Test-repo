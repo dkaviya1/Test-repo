{
 "cells": [
  {
   "cell_type": "markdown",
   "id": "b6453a5d",
   "metadata": {},
   "source": [
    "# YOU ARE DEVELOPING AN EMPLOYEE MANAGEMENT SYSTEM FOR A COMPANY.THE DATABASE SHOULD STORE EMPLOYEE INFORMATION,INCLUDING NAME SALARY,DEPARTMENT AND HIRE DATE.\n"
   ]
  },
  {
   "cell_type": "code",
   "execution_count": 7,
   "id": "c9f36f77",
   "metadata": {},
   "outputs": [
    {
     "name": "stdout",
     "output_type": "stream",
     "text": [
      "<mysql.connector.connection_cext.CMySQLConnection object at 0x00000211F0C4BF90>\n"
     ]
    }
   ],
   "source": [
    "import mysql.connector\n",
    "conn = mysql.connector.connect( \n",
    "    user=\"root\", \n",
    "    password=\"Kavi#2575991@X\", \n",
    "    host = '127.0.0.1',\n",
    "    database=\"employeemanagementsystem\"\n",
    ")\n",
    "print(conn)"
   ]
  },
  {
   "cell_type": "code",
   "execution_count": 8,
   "id": "dd12a3ea",
   "metadata": {},
   "outputs": [],
   "source": [
    "curs=conn.cursor()"
   ]
  },
  {
   "cell_type": "code",
   "execution_count": 9,
   "id": "948d546f",
   "metadata": {},
   "outputs": [
    {
     "data": {
      "text/plain": [
       "<mysql.connector.cursor_cext.CMySQLCursor at 0x211f22bd910>"
      ]
     },
     "execution_count": 9,
     "metadata": {},
     "output_type": "execute_result"
    }
   ],
   "source": [
    "curs"
   ]
  },
  {
   "cell_type": "code",
   "execution_count": 10,
   "id": "daa2bed6",
   "metadata": {},
   "outputs": [],
   "source": [
    "employee_table='''\n",
    "create table employee_table(\n",
    "             name varchar(100),\n",
    "             salary float,\n",
    "             dep varchar(100),\n",
    "             hiredate DATE\n",
    "             )\n",
    "'''\n",
    "curs.execute(employee_table)"
   ]
  },
  {
   "cell_type": "code",
   "execution_count": 11,
   "id": "a2ca13a7",
   "metadata": {},
   "outputs": [
    {
     "name": "stdout",
     "output_type": "stream",
     "text": [
      "('book_data',)\n",
      "('ecommercecompany',)\n",
      "('employee_details',)\n",
      "('employeemanagementsystem',)\n",
      "('information_schema',)\n",
      "('location_kadamalai',)\n",
      "('market',)\n",
      "('mla',)\n",
      "('mysql',)\n",
      "('performance_schema',)\n",
      "('sakila',)\n",
      "('sys',)\n",
      "('world',)\n"
     ]
    }
   ],
   "source": [
    "curs=conn.cursor()\n",
    "curs.execute(\"show databases\")\n",
    "for i in curs:\n",
    "    print(i)"
   ]
  },
  {
   "cell_type": "code",
   "execution_count": 12,
   "id": "0d8db998",
   "metadata": {},
   "outputs": [
    {
     "name": "stdout",
     "output_type": "stream",
     "text": [
      "('employee_table',)\n"
     ]
    }
   ],
   "source": [
    "curs.execute(\"show tables\")\n",
    "for i in curs:\n",
    "    print(i)"
   ]
  },
  {
   "cell_type": "code",
   "execution_count": 14,
   "id": "d409b4c6",
   "metadata": {},
   "outputs": [
    {
     "name": "stdout",
     "output_type": "stream",
     "text": [
      "1 is inserted now\n"
     ]
    }
   ],
   "source": [
    "employee_table_insert=\"insert into employeemanagementsystem.employee_table(name,salary,dep,hiredate) values (%s,%s,%s,%s)\"\n",
    "employee_table_val=(\"john\",\"10000\",\"developer\",\"12.12.2014\")\n",
    "curs.execute=(employee_table_insert,employee_table_val)\n",
    "conn.commit()\n",
    "print(curs.rowcount,'is inserted now')"
   ]
  },
  {
   "cell_type": "code",
   "execution_count": 15,
   "id": "0fb04853",
   "metadata": {},
   "outputs": [],
   "source": [
    "curs.execute=(\"select * from employeemanagementsystem.empolyee_table\")\n",
    "result=curs.fetchall()\n",
    "for i in result:\n",
    "    print(i)"
   ]
  },
  {
   "cell_type": "code",
   "execution_count": null,
   "id": "c0d61786",
   "metadata": {},
   "outputs": [],
   "source": []
  }
 ],
 "metadata": {
  "kernelspec": {
   "display_name": "Python 3 (ipykernel)",
   "language": "python",
   "name": "python3"
  },
  "language_info": {
   "codemirror_mode": {
    "name": "ipython",
    "version": 3
   },
   "file_extension": ".py",
   "mimetype": "text/x-python",
   "name": "python",
   "nbconvert_exporter": "python",
   "pygments_lexer": "ipython3",
   "version": "3.11.4"
  }
 },
 "nbformat": 4,
 "nbformat_minor": 5
}
