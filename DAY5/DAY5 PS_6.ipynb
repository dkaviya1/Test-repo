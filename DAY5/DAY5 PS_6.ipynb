{
 "cells": [
  {
   "cell_type": "markdown",
   "id": "ff73d87f",
   "metadata": {},
   "source": [
    "# You are tasked with developing a Python program that connects to a MySQL database, retrieves data from a table, performs some operations on the data, and updates the database with the modified data. Please write Python code to accomplish this task."
   ]
  },
  {
   "cell_type": "code",
   "execution_count": 1,
   "id": "27da845b",
   "metadata": {},
   "outputs": [
    {
     "name": "stdout",
     "output_type": "stream",
     "text": [
      "<mysql.connector.connection_cext.CMySQLConnection object at 0x00000146844005D0>\n"
     ]
    }
   ],
   "source": [
    "import mysql.connector\n",
    "conn = mysql.connector.connect( \n",
    "    user=\"root\", \n",
    "    password=\"Kavi#2575991@X\", \n",
    "    host = '127.0.0.1',\n",
    "    database=\"book_data\"\n",
    ")\n",
    "print(conn)"
   ]
  },
  {
   "cell_type": "code",
   "execution_count": 2,
   "id": "7b9453bd",
   "metadata": {},
   "outputs": [],
   "source": [
    "curs=conn.cursor()"
   ]
  },
  {
   "cell_type": "code",
   "execution_count": 3,
   "id": "7d9b52f6",
   "metadata": {},
   "outputs": [
    {
     "data": {
      "text/plain": [
       "<mysql.connector.cursor_cext.CMySQLCursor at 0x146844ab110>"
      ]
     },
     "execution_count": 3,
     "metadata": {},
     "output_type": "execute_result"
    }
   ],
   "source": [
    "curs\n"
   ]
  },
  {
   "cell_type": "code",
   "execution_count": 5,
   "id": "65a769cc",
   "metadata": {},
   "outputs": [],
   "source": [
    "book_table='''\n",
    "create table book_table(\n",
    "             book_id int primary key,\n",
    "             author_fname varchar(100),\n",
    "             quantity int\n",
    "             \n",
    "             )\n",
    "'''\n",
    "curs.execute(book_table)"
   ]
  },
  {
   "cell_type": "code",
   "execution_count": 6,
   "id": "20a0bac6",
   "metadata": {},
   "outputs": [
    {
     "name": "stdout",
     "output_type": "stream",
     "text": [
      "('book_data',)\n",
      "('ecommercecompany',)\n",
      "('employee_details',)\n",
      "('information_schema',)\n",
      "('location_kadamalai',)\n",
      "('market',)\n",
      "('mla',)\n",
      "('mysql',)\n",
      "('performance_schema',)\n",
      "('sakila',)\n",
      "('sys',)\n",
      "('world',)\n"
     ]
    }
   ],
   "source": [
    "curs=conn.cursor()\n",
    "curs.execute(\"show databases\")\n",
    "for i in curs:\n",
    "    print(i)"
   ]
  },
  {
   "cell_type": "code",
   "execution_count": 7,
   "id": "dcfc5f79",
   "metadata": {},
   "outputs": [
    {
     "name": "stdout",
     "output_type": "stream",
     "text": [
      "('book_table',)\n",
      "('books',)\n"
     ]
    }
   ],
   "source": [
    "curs.execute(\"show tables\")\n",
    "for i in curs:\n",
    "    print(i)\n"
   ]
  },
  {
   "cell_type": "code",
   "execution_count": 10,
   "id": "870fcea9",
   "metadata": {},
   "outputs": [
    {
     "name": "stdout",
     "output_type": "stream",
     "text": [
      "2 is inserted now\n"
     ]
    }
   ],
   "source": [
    "book_table_insert=\"insert into book_data.book_table(book_id,name,quantity) values (%s,%s,%s)\"\n",
    "book_table_val=(\"1\",\"john\",\"35\")\n",
    "curs.execute=(book_table_insert,book_table_val)\n",
    "conn.commit()\n",
    "print(curs.rowcount,'is inserted now')"
   ]
  },
  {
   "cell_type": "code",
   "execution_count": 9,
   "id": "b7301973",
   "metadata": {},
   "outputs": [],
   "source": [
    "curs.execute=(\"select * from book_data.book_table\")\n",
    "result=curs.fetchall()\n",
    "for i in result:\n",
    "    print(i)"
   ]
  },
  {
   "cell_type": "code",
   "execution_count": null,
   "id": "02259cbe",
   "metadata": {},
   "outputs": [],
   "source": []
  }
 ],
 "metadata": {
  "kernelspec": {
   "display_name": "Python 3 (ipykernel)",
   "language": "python",
   "name": "python3"
  },
  "language_info": {
   "codemirror_mode": {
    "name": "ipython",
    "version": 3
   },
   "file_extension": ".py",
   "mimetype": "text/x-python",
   "name": "python",
   "nbconvert_exporter": "python",
   "pygments_lexer": "ipython3",
   "version": "3.11.4"
  }
 },
 "nbformat": 4,
 "nbformat_minor": 5
}
