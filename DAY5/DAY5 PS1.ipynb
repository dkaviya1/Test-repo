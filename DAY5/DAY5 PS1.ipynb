{
 "cells": [
  {
   "cell_type": "code",
   "execution_count": 13,
   "id": "3f28aa2b",
   "metadata": {},
   "outputs": [
    {
     "name": "stdout",
     "output_type": "stream",
     "text": [
      "module 1\n",
      "module 2\n",
      "custom hi\n"
     ]
    }
   ],
   "source": [
    "def welcome():\n",
    "    print (\"module 1\")\n",
    "def hello():\n",
    "    print (\"module 2\")\n",
    "def custom():\n",
    "    print (\"custom hi\")\n",
    "import module1\n",
    "import module2\n",
    "import custom as cm\n",
    "try:\n",
    "    module1.welcome()\n",
    "    module2.hello()\n",
    "    cm.custom()\n",
    "except ImportError as e:\n",
    "    print(f\"Import error: {e}\")\n",
    "except AttributeError as e:\n",
    "    print(f\"Attribute error: {e}\")\n",
    "except Exception as e:\n",
    "    print(f\"An unexpected error occurred:{e}\")\n",
    "    \n",
    "    "
   ]
  },
  {
   "cell_type": "code",
   "execution_count": null,
   "id": "6b23be84",
   "metadata": {},
   "outputs": [],
   "source": []
  }
 ],
 "metadata": {
  "kernelspec": {
   "display_name": "Python 3 (ipykernel)",
   "language": "python",
   "name": "python3"
  },
  "language_info": {
   "codemirror_mode": {
    "name": "ipython",
    "version": 3
   },
   "file_extension": ".py",
   "mimetype": "text/x-python",
   "name": "python",
   "nbconvert_exporter": "python",
   "pygments_lexer": "ipython3",
   "version": "3.11.4"
  }
 },
 "nbformat": 4,
 "nbformat_minor": 5
}
