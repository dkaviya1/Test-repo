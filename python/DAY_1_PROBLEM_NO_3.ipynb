{
  "nbformat": 4,
  "nbformat_minor": 0,
  "metadata": {
    "colab": {
      "provenance": []
    },
    "kernelspec": {
      "name": "python3",
      "display_name": "Python 3"
    },
    "language_info": {
      "name": "python"
    }
  },
  "cells": [
    {
      "cell_type": "markdown",
      "source": [],
      "metadata": {
        "id": "0jnezR5lCtqb"
      }
    },
    {
      "cell_type": "markdown",
      "source": [
        "3.WRITE A PYTHON PROGRAM TO IMPLEMENT THE FOLLOWING USING LIST\n",
        "\n",
        "1.Create a list with integers (minimum 10 numbers)"
      ],
      "metadata": {
        "id": "yJzqvlILCwoL"
      }
    },
    {
      "cell_type": "code",
      "source": [
        "tup =[-5,-4,-3,-2,-1,0,1,2,3,4,5]\n",
        "tup"
      ],
      "metadata": {
        "colab": {
          "base_uri": "https://localhost:8080/"
        },
        "id": "63gr1AocFQn6",
        "outputId": "036f4c2f-19d1-4446-8d37-d3a8cd5dcbc6"
      },
      "execution_count": 2,
      "outputs": [
        {
          "output_type": "execute_result",
          "data": {
            "text/plain": [
              "[-5, -4, -3, -2, -1, 0, 1, 2, 3, 4, 5]"
            ]
          },
          "metadata": {},
          "execution_count": 2
        }
      ]
    },
    {
      "cell_type": "markdown",
      "source": [
        "2.How to display the last number in the list."
      ],
      "metadata": {
        "id": "V65ydxqCFbFF"
      }
    },
    {
      "cell_type": "code",
      "source": [
        "S = [-5,-4,-3,-2,-1,0,1,2,3,4,5]\n",
        "S[10:]"
      ],
      "metadata": {
        "colab": {
          "base_uri": "https://localhost:8080/"
        },
        "id": "q4hCUiP0FiKn",
        "outputId": "3edb6f26-bf8b-4b4d-8f8a-e1a7b25adaae"
      },
      "execution_count": 3,
      "outputs": [
        {
          "output_type": "execute_result",
          "data": {
            "text/plain": [
              "[5]"
            ]
          },
          "metadata": {},
          "execution_count": 3
        }
      ]
    },
    {
      "cell_type": "markdown",
      "source": [
        "3.Command for displaying the values from the list[0:4]"
      ],
      "metadata": {
        "id": "zfVHxy8FF5lH"
      }
    },
    {
      "cell_type": "code",
      "source": [
        "S = [-5,-4,-3,-2,-1,0,1,2,3,4,5]\n",
        "S[0:4]"
      ],
      "metadata": {
        "colab": {
          "base_uri": "https://localhost:8080/"
        },
        "id": "zaHlVcXGGEmF",
        "outputId": "41db2754-c5cb-4fec-e846-95144390585c"
      },
      "execution_count": 4,
      "outputs": [
        {
          "output_type": "execute_result",
          "data": {
            "text/plain": [
              "[-5, -4, -3, -2]"
            ]
          },
          "metadata": {},
          "execution_count": 4
        }
      ]
    },
    {
      "cell_type": "markdown",
      "source": [
        "4.Command for displaying the values from the list [2:]"
      ],
      "metadata": {
        "id": "VMayj3e6GQRv"
      }
    },
    {
      "cell_type": "code",
      "source": [
        "S = [-5,-4,-3,-2,-1,0,1,2,3,4,5]\n",
        "S[2:]"
      ],
      "metadata": {
        "colab": {
          "base_uri": "https://localhost:8080/"
        },
        "id": "MnpNfRq9GbKh",
        "outputId": "1331ac42-2230-4ec5-d676-4c9f4e2f5f60"
      },
      "execution_count": 5,
      "outputs": [
        {
          "output_type": "execute_result",
          "data": {
            "text/plain": [
              "[-3, -2, -1, 0, 1, 2, 3, 4, 5]"
            ]
          },
          "metadata": {},
          "execution_count": 5
        }
      ]
    },
    {
      "cell_type": "markdown",
      "source": [
        "5.Command for displaying the values from the list [:6]"
      ],
      "metadata": {
        "id": "QOEpX21LGms0"
      }
    },
    {
      "cell_type": "code",
      "source": [
        "S = [-5,-4,-3,-2,-1,0,1,2,3,4,5]\n",
        "S[:6]"
      ],
      "metadata": {
        "colab": {
          "base_uri": "https://localhost:8080/"
        },
        "id": "caXJHwIKGxBt",
        "outputId": "37371455-6889-4798-e2b7-95f03a8a7f2b"
      },
      "execution_count": 6,
      "outputs": [
        {
          "output_type": "execute_result",
          "data": {
            "text/plain": [
              "[-5, -4, -3, -2, -1, 0]"
            ]
          },
          "metadata": {},
          "execution_count": 6
        }
      ]
    }
  ]
}