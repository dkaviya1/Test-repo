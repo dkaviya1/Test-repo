{
  "nbformat": 4,
  "nbformat_minor": 0,
  "metadata": {
    "colab": {
      "provenance": []
    },
    "kernelspec": {
      "name": "python3",
      "display_name": "Python 3"
    },
    "language_info": {
      "name": "python"
    }
  },
  "cells": [
    {
      "cell_type": "code",
      "execution_count": null,
      "metadata": {
        "id": "IZgePnB--fLU"
      },
      "outputs": [],
      "source": []
    },
    {
      "cell_type": "markdown",
      "source": [
        "2.WRITE A PYTHON PROGRAM TO DO IN TUPLES\n",
        "\n",
        "1.Manipulate using tuples"
      ],
      "metadata": {
        "id": "zFMEpkid-rz1"
      }
    },
    {
      "cell_type": "code",
      "source": [
        "tup =[1,2,3]\n",
        "tup"
      ],
      "metadata": {
        "colab": {
          "base_uri": "https://localhost:8080/"
        },
        "id": "TLncCZtn-7k1",
        "outputId": "17f75523-1de7-4632-ce1a-7303effd205f"
      },
      "execution_count": 1,
      "outputs": [
        {
          "output_type": "execute_result",
          "data": {
            "text/plain": [
              "[1, 2, 3]"
            ]
          },
          "metadata": {},
          "execution_count": 1
        }
      ]
    },
    {
      "cell_type": "markdown",
      "source": [
        "2, To add new elements to the end of tuple"
      ],
      "metadata": {
        "id": "cz3ZUvjHARaP"
      }
    },
    {
      "cell_type": "code",
      "source": [
        "tup =[1,2,3]\n",
        "tup.append(4)\n",
        "print(tup)"
      ],
      "metadata": {
        "colab": {
          "base_uri": "https://localhost:8080/"
        },
        "id": "Li-scOIpAV5Z",
        "outputId": "7ed8c2e1-d00d-4b6d-a7bf-da607512aba2"
      },
      "execution_count": 2,
      "outputs": [
        {
          "output_type": "stream",
          "name": "stdout",
          "text": [
            "[1, 2, 3, 4]\n"
          ]
        }
      ]
    },
    {
      "cell_type": "markdown",
      "source": [
        "3.To reverse elements in the list"
      ],
      "metadata": {
        "id": "TaKJxACiAwZI"
      }
    },
    {
      "cell_type": "code",
      "source": [
        "tup =[1,2,3]\n",
        "tup.reverse()\n",
        "print(tup)"
      ],
      "metadata": {
        "colab": {
          "base_uri": "https://localhost:8080/"
        },
        "id": "yOJTEKxeA2nB",
        "outputId": "eb363be8-f220-4c26-e9c6-22c8de707eca"
      },
      "execution_count": 3,
      "outputs": [
        {
          "output_type": "stream",
          "name": "stdout",
          "text": [
            "[3, 2, 1]\n"
          ]
        }
      ]
    },
    {
      "cell_type": "markdown",
      "source": [
        "4.To display the elements of the same tuple multiple times"
      ],
      "metadata": {
        "id": "oRXaHDMrBClH"
      }
    },
    {
      "cell_type": "code",
      "source": [
        "tup =[1,2,3]\n",
        "tup = 3*tup\n",
        "print(tup)"
      ],
      "metadata": {
        "colab": {
          "base_uri": "https://localhost:8080/"
        },
        "id": "V6pQusicBN8y",
        "outputId": "dac7f807-0bc9-40e6-9e09-c006ea067a3b"
      },
      "execution_count": 4,
      "outputs": [
        {
          "output_type": "stream",
          "name": "stdout",
          "text": [
            "[1, 2, 3, 1, 2, 3, 1, 2, 3]\n"
          ]
        }
      ]
    },
    {
      "cell_type": "markdown",
      "source": [
        "5.To concatenate two tuples"
      ],
      "metadata": {
        "id": "FY4csMC7BdgM"
      }
    },
    {
      "cell_type": "code",
      "source": [
        "tup1 =[1,2,3]\n",
        "tup2 = [4,5,6]\n",
        "tup = tup1 + tup2\n",
        "print(tup)"
      ],
      "metadata": {
        "colab": {
          "base_uri": "https://localhost:8080/"
        },
        "id": "M0rrE9ddBl7W",
        "outputId": "c7fa24be-c30c-4c57-f80f-f6234b0cf6eb"
      },
      "execution_count": 5,
      "outputs": [
        {
          "output_type": "stream",
          "name": "stdout",
          "text": [
            "[1, 2, 3, 4, 5, 6]\n"
          ]
        }
      ]
    },
    {
      "cell_type": "markdown",
      "source": [
        "6.To sort the elements in ascending order"
      ],
      "metadata": {
        "id": "gLjiYUdtB6Mh"
      }
    },
    {
      "cell_type": "code",
      "source": [
        "tup =[6,4,8,2,1,5]\n",
        "tup.sort()\n",
        "print(tup)"
      ],
      "metadata": {
        "colab": {
          "base_uri": "https://localhost:8080/"
        },
        "id": "w1lMhhQOB_wm",
        "outputId": "20be8343-5dff-4860-ddc5-95e04c1acc0e"
      },
      "execution_count": 6,
      "outputs": [
        {
          "output_type": "stream",
          "name": "stdout",
          "text": [
            "[1, 2, 4, 5, 6, 8]\n"
          ]
        }
      ]
    }
  ]
}