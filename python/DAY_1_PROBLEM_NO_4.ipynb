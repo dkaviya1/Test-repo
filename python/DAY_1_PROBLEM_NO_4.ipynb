{
  "nbformat": 4,
  "nbformat_minor": 0,
  "metadata": {
    "colab": {
      "provenance": []
    },
    "kernelspec": {
      "name": "python3",
      "display_name": "Python 3"
    },
    "language_info": {
      "name": "python"
    }
  },
  "cells": [
    {
      "cell_type": "markdown",
      "source": [
        "4.WRITE A PYTHON PROGRAM : tuple1=[10,50,20,40,30]\n",
        "\n",
        "1.To display the elements 10 and 50 from tuple1"
      ],
      "metadata": {
        "id": "SaeiSQRRHTJ3"
      }
    },
    {
      "cell_type": "code",
      "source": [
        "tuple1=[10,50,20,40,30]\n",
        "tuple1[:2]"
      ],
      "metadata": {
        "colab": {
          "base_uri": "https://localhost:8080/"
        },
        "id": "EF3HwzeTHuLk",
        "outputId": "9e88349d-1a6f-4490-a907-888a2a0e05cf"
      },
      "execution_count": 1,
      "outputs": [
        {
          "output_type": "execute_result",
          "data": {
            "text/plain": [
              "[10, 50]"
            ]
          },
          "metadata": {},
          "execution_count": 1
        }
      ]
    },
    {
      "cell_type": "markdown",
      "source": [
        "2.To display the length of a tuple1"
      ],
      "metadata": {
        "id": "8DJvDshkIe63"
      }
    },
    {
      "cell_type": "code",
      "source": [
        "tuple1=[10,50,20,40,30]\n",
        "len(tuple1)"
      ],
      "metadata": {
        "colab": {
          "base_uri": "https://localhost:8080/"
        },
        "id": "jZhmKQs-Im9e",
        "outputId": "5a8993e7-f25d-4e18-efcd-943a4c67b0b8"
      },
      "execution_count": 2,
      "outputs": [
        {
          "output_type": "execute_result",
          "data": {
            "text/plain": [
              "5"
            ]
          },
          "metadata": {},
          "execution_count": 2
        }
      ]
    },
    {
      "cell_type": "markdown",
      "source": [
        "3.To find the minimum element in tuple1"
      ],
      "metadata": {
        "id": "Qq4XeCcHIzm8"
      }
    },
    {
      "cell_type": "code",
      "source": [
        "tuple1=[10,50,20,40,30]\n",
        "mini = tuple1[0]\n",
        "for i in range(len(tuple1)):\n",
        "  if tuple1[i] < mini:\n",
        "    mini = tuple1(i)\n",
        "  print(mini)"
      ],
      "metadata": {
        "colab": {
          "base_uri": "https://localhost:8080/"
        },
        "id": "QTRuaa1aI-aW",
        "outputId": "6b8bab47-2869-4626-8fc6-190c224b1f13"
      },
      "execution_count": 23,
      "outputs": [
        {
          "output_type": "stream",
          "name": "stdout",
          "text": [
            "10\n",
            "10\n",
            "10\n",
            "10\n",
            "10\n"
          ]
        }
      ]
    },
    {
      "cell_type": "markdown",
      "source": [
        "4.To add all elements in tuple1"
      ],
      "metadata": {
        "id": "nNDku5ZRfEaY"
      }
    },
    {
      "cell_type": "code",
      "source": [
        "tuple1=[10,50,20,40,30]\n",
        "sum_numbers = 0\n",
        "    for x in tuple1\n",
        "        sum_numbers += x\n",
        "    return sum_numbers\n",
        "print(tuple1=(10,50,20,40,30))"
      ],
      "metadata": {
        "colab": {
          "base_uri": "https://localhost:8080/",
          "height": 140
        },
        "id": "Of9zw-hsfNGJ",
        "outputId": "b574847c-69eb-4325-8017-1538f2f9734f"
      },
      "execution_count": 43,
      "outputs": [
        {
          "output_type": "error",
          "ename": "IndentationError",
          "evalue": "ignored",
          "traceback": [
            "\u001b[0;36m  File \u001b[0;32m\"<ipython-input-43-c257c41f982e>\"\u001b[0;36m, line \u001b[0;32m3\u001b[0m\n\u001b[0;31m    for x in tuple1\u001b[0m\n\u001b[0m    ^\u001b[0m\n\u001b[0;31mIndentationError\u001b[0m\u001b[0;31m:\u001b[0m unexpected indent\n"
          ]
        }
      ]
    },
    {
      "cell_type": "markdown",
      "source": [
        "5.To display the same tuple1 multiple times"
      ],
      "metadata": {
        "id": "mkmavDeamF5w"
      }
    },
    {
      "cell_type": "code",
      "source": [
        "tuple1=[10,50,20,40,30]\n",
        "repeat_value= 3*tuple1\n",
        "print(repeat_value)"
      ],
      "metadata": {
        "colab": {
          "base_uri": "https://localhost:8080/"
        },
        "id": "eHU9arhSmQ-Z",
        "outputId": "e8cabc70-01e7-4092-b4bb-c258bb250be4"
      },
      "execution_count": 37,
      "outputs": [
        {
          "output_type": "stream",
          "name": "stdout",
          "text": [
            "[10, 50, 20, 40, 30, 10, 50, 20, 40, 30, 10, 50, 20, 40, 30]\n"
          ]
        }
      ]
    }
  ]
}