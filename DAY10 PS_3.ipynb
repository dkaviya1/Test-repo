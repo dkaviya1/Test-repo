{
 "cells": [
  {
   "cell_type": "code",
   "execution_count": 1,
   "id": "090c6cc8",
   "metadata": {},
   "outputs": [
    {
     "data": {
      "text/html": [
       "<div>\n",
       "<style scoped>\n",
       "    .dataframe tbody tr th:only-of-type {\n",
       "        vertical-align: middle;\n",
       "    }\n",
       "\n",
       "    .dataframe tbody tr th {\n",
       "        vertical-align: top;\n",
       "    }\n",
       "\n",
       "    .dataframe thead th {\n",
       "        text-align: right;\n",
       "    }\n",
       "</style>\n",
       "<table border=\"1\" class=\"dataframe\">\n",
       "  <thead>\n",
       "    <tr style=\"text-align: right;\">\n",
       "      <th></th>\n",
       "      <th>title</th>\n",
       "      <th>year</th>\n",
       "      <th>name</th>\n",
       "      <th>type</th>\n",
       "      <th>character</th>\n",
       "      <th>n</th>\n",
       "    </tr>\n",
       "  </thead>\n",
       "  <tbody>\n",
       "    <tr>\n",
       "      <th>0</th>\n",
       "      <td>Closet Monster</td>\n",
       "      <td>2015</td>\n",
       "      <td>Buffy #1</td>\n",
       "      <td>actor</td>\n",
       "      <td>Buffy 4</td>\n",
       "      <td>31.0</td>\n",
       "    </tr>\n",
       "    <tr>\n",
       "      <th>1</th>\n",
       "      <td>Suuri illusioni</td>\n",
       "      <td>1985</td>\n",
       "      <td>Homo $</td>\n",
       "      <td>actor</td>\n",
       "      <td>Guests</td>\n",
       "      <td>22.0</td>\n",
       "    </tr>\n",
       "    <tr>\n",
       "      <th>2</th>\n",
       "      <td>Battle of the Sexes</td>\n",
       "      <td>2017</td>\n",
       "      <td>$hutter</td>\n",
       "      <td>actor</td>\n",
       "      <td>Bobby Riggs Fan</td>\n",
       "      <td>10.0</td>\n",
       "    </tr>\n",
       "    <tr>\n",
       "      <th>3</th>\n",
       "      <td>Secret in Their Eyes</td>\n",
       "      <td>2015</td>\n",
       "      <td>$hutter</td>\n",
       "      <td>actor</td>\n",
       "      <td>2002 Dodger Fan</td>\n",
       "      <td>NaN</td>\n",
       "    </tr>\n",
       "    <tr>\n",
       "      <th>4</th>\n",
       "      <td>Steve Jobs</td>\n",
       "      <td>2015</td>\n",
       "      <td>$hutter</td>\n",
       "      <td>actor</td>\n",
       "      <td>1988 Opera House Patron</td>\n",
       "      <td>NaN</td>\n",
       "    </tr>\n",
       "    <tr>\n",
       "      <th>...</th>\n",
       "      <td>...</td>\n",
       "      <td>...</td>\n",
       "      <td>...</td>\n",
       "      <td>...</td>\n",
       "      <td>...</td>\n",
       "      <td>...</td>\n",
       "    </tr>\n",
       "    <tr>\n",
       "      <th>3786171</th>\n",
       "      <td>Foxtrot</td>\n",
       "      <td>1988</td>\n",
       "      <td>Lilja ??risd?ttir</td>\n",
       "      <td>actress</td>\n",
       "      <td>D?ra</td>\n",
       "      <td>24.0</td>\n",
       "    </tr>\n",
       "    <tr>\n",
       "      <th>3786172</th>\n",
       "      <td>Niceland (Population. 1.000.002)</td>\n",
       "      <td>2004</td>\n",
       "      <td>Sigr??ur J?na ??risd?ttir</td>\n",
       "      <td>actress</td>\n",
       "      <td>Woman in Bus</td>\n",
       "      <td>26.0</td>\n",
       "    </tr>\n",
       "    <tr>\n",
       "      <th>3786173</th>\n",
       "      <td>Skammdegi</td>\n",
       "      <td>1985</td>\n",
       "      <td>Dalla ??r?ard?ttir</td>\n",
       "      <td>actress</td>\n",
       "      <td>Hj?krunarkona</td>\n",
       "      <td>9.0</td>\n",
       "    </tr>\n",
       "    <tr>\n",
       "      <th>3786174</th>\n",
       "      <td>U.S.S.S.S...</td>\n",
       "      <td>2003</td>\n",
       "      <td>Krist?n Andrea ??r?ard?ttir</td>\n",
       "      <td>actress</td>\n",
       "      <td>Afgr.dama ? bens?nst??</td>\n",
       "      <td>17.0</td>\n",
       "    </tr>\n",
       "    <tr>\n",
       "      <th>3786175</th>\n",
       "      <td>Bye Bye Blue Bird</td>\n",
       "      <td>1999</td>\n",
       "      <td>Rosa ? R?gvu</td>\n",
       "      <td>actress</td>\n",
       "      <td>Pensionatv?rtinde</td>\n",
       "      <td>NaN</td>\n",
       "    </tr>\n",
       "  </tbody>\n",
       "</table>\n",
       "<p>3786176 rows × 6 columns</p>\n",
       "</div>"
      ],
      "text/plain": [
       "                                    title  year                         name  \\\n",
       "0                          Closet Monster  2015                     Buffy #1   \n",
       "1                         Suuri illusioni  1985                       Homo $   \n",
       "2                     Battle of the Sexes  2017                      $hutter   \n",
       "3                    Secret in Their Eyes  2015                      $hutter   \n",
       "4                              Steve Jobs  2015                      $hutter   \n",
       "...                                   ...   ...                          ...   \n",
       "3786171                           Foxtrot  1988            Lilja ??risd?ttir   \n",
       "3786172  Niceland (Population. 1.000.002)  2004    Sigr??ur J?na ??risd?ttir   \n",
       "3786173                         Skammdegi  1985           Dalla ??r?ard?ttir   \n",
       "3786174                      U.S.S.S.S...  2003  Krist?n Andrea ??r?ard?ttir   \n",
       "3786175                 Bye Bye Blue Bird  1999                 Rosa ? R?gvu   \n",
       "\n",
       "            type                character     n  \n",
       "0          actor                  Buffy 4  31.0  \n",
       "1          actor                   Guests  22.0  \n",
       "2          actor          Bobby Riggs Fan  10.0  \n",
       "3          actor          2002 Dodger Fan   NaN  \n",
       "4          actor  1988 Opera House Patron   NaN  \n",
       "...          ...                      ...   ...  \n",
       "3786171  actress                     D?ra  24.0  \n",
       "3786172  actress             Woman in Bus  26.0  \n",
       "3786173  actress            Hj?krunarkona   9.0  \n",
       "3786174  actress   Afgr.dama ? bens?nst??  17.0  \n",
       "3786175  actress        Pensionatv?rtinde   NaN  \n",
       "\n",
       "[3786176 rows x 6 columns]"
      ]
     },
     "execution_count": 1,
     "metadata": {},
     "output_type": "execute_result"
    }
   ],
   "source": [
    "import pandas as pd\n",
    "df=pd.read_csv(\"cast.csv\")\n",
    "df"
   ]
  },
  {
   "cell_type": "markdown",
   "id": "343424a1",
   "metadata": {},
   "source": [
    "# Using groupby(), plot the number of films that have been released each decade in the history of cinema."
   ]
  },
  {
   "cell_type": "code",
   "execution_count": 5,
   "id": "cbdaec2e",
   "metadata": {},
   "outputs": [
    {
     "data": {
      "image/png": "[encoded data removed]",
      "text/plain": [
       "<Figure size 1000x600 with 1 Axes>"
      ]
     },
     "metadata": {},
     "output_type": "display_data"
    }
   ],
   "source": [
    "import pandas as pd\n",
    "import matplotlib.pyplot as plt\n",
    "\n",
    "# Assuming you have a DataFrame named 'movies' with a 'Year' column\n",
    "# Replace 'movies.csv' with your dataset file or data source\n",
    "titles = pd.read_csv('cast.csv')\n",
    "\n",
    "# Extract the release years\n",
    "release_years = titles['year']\n",
    "\n",
    "# Function to calculate the decade for a given year\n",
    "def calculate_decade(year):\n",
    "    return str(year // 10 * 10) + 's'\n",
    "\n",
    "# Create a new column for the decade\n",
    "titles['Decade'] = release_years.apply(calculate_decade)\n",
    "\n",
    "# Group the data by decade and count the number of films released in each decade\n",
    "decade_counts = titles.groupby('Decade').size()\n",
    "\n",
    "# Create a bar plot\n",
    "plt.figure(figsize=(10, 6))\n",
    "decade_counts.plot(kind='bar', color='skyblue')\n",
    "plt.xlabel('Decade')\n",
    "plt.ylabel('Number of Films Released')\n",
    "plt.title('Number of Films Released Each Decade')\n",
    "plt.xticks(rotation=45)\n",
    "plt.show()\n"
   ]
  },
  {
   "cell_type": "markdown",
   "id": "991a085e",
   "metadata": {},
   "source": [
    "# Use groupby() to plot the number of \"Hamlet\" films made each decade"
   ]
  },
  {
   "cell_type": "code",
   "execution_count": 9,
   "id": "e062b958",
   "metadata": {},
   "outputs": [
    {
     "name": "stderr",
     "output_type": "stream",
     "text": [
      "C:\\Users\\DELL\\AppData\\Local\\Temp\\ipykernel_17744\\1474846706.py:10: SettingWithCopyWarning: \n",
      "A value is trying to be set on a copy of a slice from a DataFrame.\n",
      "Try using .loc[row_indexer,col_indexer] = value instead\n",
      "\n",
      "See the caveats in the documentation: https://pandas.pydata.org/pandas-docs/stable/user_guide/indexing.html#returning-a-view-versus-a-copy\n",
      "  hamlet['Decade'] = release_years.apply(calculate_decade)\n"
     ]
    },
    {
     "data": {
      "image/png": "[encoded data removed]",
      "text/plain": [
       "<Figure size 1000x600 with 1 Axes>"
      ]
     },
     "metadata": {},
     "output_type": "display_data"
    }
   ],
   "source": [
    "hamlet = titles[titles['title'] == 'Hamlet']\n",
    "\n",
    "release_years = hamlet['year']\n",
    "\n",
    "# Function to calculate the decade for a given year\n",
    "def calculate_decade(year):\n",
    "    return str(year // 10 * 10) + 's'\n",
    "\n",
    "# Create a new column for the decade\n",
    "hamlet['Decade'] = release_years.apply(calculate_decade)\n",
    "\n",
    "# Group the data by decade and count the number of \"Hamlet\" films released in each decade\n",
    "decade_counts = hamlet.groupby('Decade').size()\n",
    "\n",
    "# Create a bar plot\n",
    "plt.figure(figsize=(10, 6))\n",
    "decade_counts.plot(kind='bar', color='skyblue')\n",
    "plt.xlabel('Decade')\n",
    "plt.ylabel('Number of \"Hamlet\" Films')\n",
    "plt.title('Number of \"Hamlet\" Films Made Each Decade')\n",
    "plt.xticks(rotation=45)\n",
    "plt.show()"
   ]
  },
  {
   "cell_type": "markdown",
   "id": "6ab3c39f",
   "metadata": {},
   "source": [
    "# How many leading (n=1) roles were available to actors, and how many to actresses, in each year of the 1950s"
   ]
  },
  {
   "cell_type": "code",
   "execution_count": 12,
   "id": "e04299ef",
   "metadata": {},
   "outputs": [
    {
     "name": "stdout",
     "output_type": "stream",
     "text": [
      "Leading (n=1) roles for actors per year in the 1950s:\n",
      "Series([], dtype: int64)\n",
      "\n",
      "Leading (n=1) roles for actresses per year in the 1950s:\n",
      "Series([], dtype: int64)\n"
     ]
    }
   ],
   "source": [
    "characters = pd.read_csv('cast.csv')\n",
    "roles_1950s = characters[(characters['year'] >= 1950) & (characters['year'] <= 1959)]\n",
    "actors_1950s = roles_1950s[roles_1950s['type'] == 'Male']\n",
    "actresses_1950s = roles_1950s[roles_1950s['type'] == 'Female']\n",
    "leading_roles_actors_per_year = actors_1950s[actors_1950s['type'] == 'Leading (n=1)'].groupby('year').size()\n",
    "leading_roles_actresses_per_year = actresses_1950s[actresses_1950s['type'] == 'Leading (n=1)'].groupby('year').size()\n",
    "print(\"Leading (n=1) roles for actors per year in the 1950s:\")\n",
    "print(leading_roles_actors_per_year)\n",
    "print(\"\\nLeading (n=1) roles for actresses per year in the 1950s:\")\n",
    "print(leading_roles_actresses_per_year)\n"
   ]
  },
  {
   "cell_type": "markdown",
   "id": "0e744baf",
   "metadata": {},
   "source": [
    "# In the 1950s decade taken as a whole, how many total roles were available to actors, and how many to actresses, for each \"n\" number 1 through 5?"
   ]
  },
  {
   "cell_type": "code",
   "execution_count": 13,
   "id": "4dae9fad",
   "metadata": {},
   "outputs": [
    {
     "name": "stdout",
     "output_type": "stream",
     "text": [
      "Total roles for actors in the 1950s:\n",
      "{1: 0, 2: 0, 3: 0, 4: 0, 5: 0}\n",
      "\n",
      "Total roles for actresses in the 1950s:\n",
      "{1: 0, 2: 0, 3: 0, 4: 0, 5: 0}\n"
     ]
    }
   ],
   "source": [
    "characters = pd.read_csv('cast.csv')\n",
    "\n",
    "# Filter the dataset to include only roles from the 1950s\n",
    "roles_1950s = characters[(characters['year'] >= 1950) & (characters['year'] <= 1959)]\n",
    "\n",
    "# Separate the dataset into actors and actresses\n",
    "actors_1950s = roles_1950s[roles_1950s['type'] == 'Male']\n",
    "actresses_1950s = roles_1950s[roles_1950s['type'] == 'Female']\n",
    "\n",
    "# Count the number of roles for each \"n\" value (1 through 5) for actors and actresses separately\n",
    "total_roles_actors = {}\n",
    "total_roles_actresses = {}\n",
    "\n",
    "for n in range(1, 6):\n",
    "    total_roles_actors[n] = len(actors_1950s[actors_1950s['type'] == f'Leading (n={n})'])\n",
    "    total_roles_actresses[n] = len(actresses_1950s[actresses_1950s['type'] == f'Leading (n={n})'])\n",
    "\n",
    "# Print or analyze the results as needed\n",
    "print(\"Total roles for actors in the 1950s:\")\n",
    "print(total_roles_actors)\n",
    "\n",
    "print(\"\\nTotal roles for actresses in the 1950s:\")\n",
    "print(total_roles_actresses)"
   ]
  },
  {
   "cell_type": "markdown",
   "id": "4fc1e30f",
   "metadata": {},
   "source": [
    "# Use groupby() to determine how many roles are listed for each of the Pink Panther movies."
   ]
  },
  {
   "cell_type": "code",
   "execution_count": 14,
   "id": "f90312f8",
   "metadata": {},
   "outputs": [
    {
     "name": "stdout",
     "output_type": "stream",
     "text": [
      "Number of roles listed for each Pink Panther movie:\n",
      "title\n",
      "Curse of the Pink Panther          67\n",
      "Revenge of the Pink Panther        68\n",
      "Son of the Pink Panther            46\n",
      "The Pink Panther                  111\n",
      "The Pink Panther 2                 84\n",
      "The Pink Panther Strikes Again     70\n",
      "The Return of the Pink Panther     30\n",
      "Trail of the Pink Panther          41\n",
      "dtype: int64\n"
     ]
    }
   ],
   "source": [
    "characters = pd.read_csv('cast.csv')\n",
    "pink_panther_roles = characters[characters['title'].str.contains('Pink Panther', case=False)]\n",
    "roles_per_movie = pink_panther_roles.groupby('title').size()\n",
    "print(\"Number of roles listed for each Pink Panther movie:\")\n",
    "print(roles_per_movie)"
   ]
  },
  {
   "cell_type": "markdown",
   "id": "9c3ddb67",
   "metadata": {},
   "source": [
    "# List, In order by year, each of the films in which Frank Oz has played more than 1 role."
   ]
  },
  {
   "cell_type": "code",
   "execution_count": 16,
   "id": "72b28e36",
   "metadata": {},
   "outputs": [
    {
     "ename": "KeyError",
     "evalue": "'year'",
     "output_type": "error",
     "traceback": [
      "\u001b[1;31m---------------------------------------------------------------------------\u001b[0m",
      "\u001b[1;31mKeyError\u001b[0m                                  Traceback (most recent call last)",
      "Cell \u001b[1;32mIn[16], line 5\u001b[0m\n\u001b[0;32m      3\u001b[0m roles_per_film \u001b[38;5;241m=\u001b[39m frank_oz_roles\u001b[38;5;241m.\u001b[39mgroupby(\u001b[38;5;124m'\u001b[39m\u001b[38;5;124mtitle\u001b[39m\u001b[38;5;124m'\u001b[39m)\u001b[38;5;241m.\u001b[39msize()\u001b[38;5;241m.\u001b[39mreset_index(name\u001b[38;5;241m=\u001b[39m\u001b[38;5;124m'\u001b[39m\u001b[38;5;124mRoleCount\u001b[39m\u001b[38;5;124m'\u001b[39m)\n\u001b[0;32m      4\u001b[0m multi_role_films \u001b[38;5;241m=\u001b[39m roles_per_film[roles_per_film[\u001b[38;5;124m'\u001b[39m\u001b[38;5;124mRoleCount\u001b[39m\u001b[38;5;124m'\u001b[39m] \u001b[38;5;241m>\u001b[39m \u001b[38;5;241m1\u001b[39m]\n\u001b[1;32m----> 5\u001b[0m sorted_multi_role_films \u001b[38;5;241m=\u001b[39m multi_role_films\u001b[38;5;241m.\u001b[39msort_values(by\u001b[38;5;241m=\u001b[39m\u001b[38;5;124m'\u001b[39m\u001b[38;5;124myear\u001b[39m\u001b[38;5;124m'\u001b[39m)\n\u001b[0;32m      6\u001b[0m \u001b[38;5;28mprint\u001b[39m(\u001b[38;5;124m\"\u001b[39m\u001b[38;5;124mFilms in which Frank Oz played more than one role (ordered by year):\u001b[39m\u001b[38;5;124m\"\u001b[39m)\n\u001b[0;32m      7\u001b[0m \u001b[38;5;28mprint\u001b[39m(sorted_multi_role_films[[\u001b[38;5;124m'\u001b[39m\u001b[38;5;124mtitle\u001b[39m\u001b[38;5;124m'\u001b[39m, \u001b[38;5;124m'\u001b[39m\u001b[38;5;124myear\u001b[39m\u001b[38;5;124m'\u001b[39m]])\n",
      "File \u001b[1;32m~\\anaconda3\\Lib\\site-packages\\pandas\\util\\_decorators.py:331\u001b[0m, in \u001b[0;36mdeprecate_nonkeyword_arguments.<locals>.decorate.<locals>.wrapper\u001b[1;34m(*args, **kwargs)\u001b[0m\n\u001b[0;32m    325\u001b[0m \u001b[38;5;28;01mif\u001b[39;00m \u001b[38;5;28mlen\u001b[39m(args) \u001b[38;5;241m>\u001b[39m num_allow_args:\n\u001b[0;32m    326\u001b[0m     warnings\u001b[38;5;241m.\u001b[39mwarn(\n\u001b[0;32m    327\u001b[0m         msg\u001b[38;5;241m.\u001b[39mformat(arguments\u001b[38;5;241m=\u001b[39m_format_argument_list(allow_args)),\n\u001b[0;32m    328\u001b[0m         \u001b[38;5;167;01mFutureWarning\u001b[39;00m,\n\u001b[0;32m    329\u001b[0m         stacklevel\u001b[38;5;241m=\u001b[39mfind_stack_level(),\n\u001b[0;32m    330\u001b[0m     )\n\u001b[1;32m--> 331\u001b[0m \u001b[38;5;28;01mreturn\u001b[39;00m func(\u001b[38;5;241m*\u001b[39margs, \u001b[38;5;241m*\u001b[39m\u001b[38;5;241m*\u001b[39mkwargs)\n",
      "File \u001b[1;32m~\\anaconda3\\Lib\\site-packages\\pandas\\core\\frame.py:6912\u001b[0m, in \u001b[0;36mDataFrame.sort_values\u001b[1;34m(self, by, axis, ascending, inplace, kind, na_position, ignore_index, key)\u001b[0m\n\u001b[0;32m   6908\u001b[0m \u001b[38;5;28;01melif\u001b[39;00m \u001b[38;5;28mlen\u001b[39m(by):\n\u001b[0;32m   6909\u001b[0m     \u001b[38;5;66;03m# len(by) == 1\u001b[39;00m\n\u001b[0;32m   6911\u001b[0m     by \u001b[38;5;241m=\u001b[39m by[\u001b[38;5;241m0\u001b[39m]\n\u001b[1;32m-> 6912\u001b[0m     k \u001b[38;5;241m=\u001b[39m \u001b[38;5;28mself\u001b[39m\u001b[38;5;241m.\u001b[39m_get_label_or_level_values(by, axis\u001b[38;5;241m=\u001b[39maxis)\n\u001b[0;32m   6914\u001b[0m     \u001b[38;5;66;03m# need to rewrap column in Series to apply key function\u001b[39;00m\n\u001b[0;32m   6915\u001b[0m     \u001b[38;5;28;01mif\u001b[39;00m key \u001b[38;5;129;01mis\u001b[39;00m \u001b[38;5;129;01mnot\u001b[39;00m \u001b[38;5;28;01mNone\u001b[39;00m:\n\u001b[0;32m   6916\u001b[0m         \u001b[38;5;66;03m# error: Incompatible types in assignment (expression has type\u001b[39;00m\n\u001b[0;32m   6917\u001b[0m         \u001b[38;5;66;03m# \"Series\", variable has type \"ndarray\")\u001b[39;00m\n",
      "File \u001b[1;32m~\\anaconda3\\Lib\\site-packages\\pandas\\core\\generic.py:1850\u001b[0m, in \u001b[0;36mNDFrame._get_label_or_level_values\u001b[1;34m(self, key, axis)\u001b[0m\n\u001b[0;32m   1844\u001b[0m     values \u001b[38;5;241m=\u001b[39m (\n\u001b[0;32m   1845\u001b[0m         \u001b[38;5;28mself\u001b[39m\u001b[38;5;241m.\u001b[39maxes[axis]\n\u001b[0;32m   1846\u001b[0m         \u001b[38;5;241m.\u001b[39mget_level_values(key)  \u001b[38;5;66;03m# type: ignore[assignment]\u001b[39;00m\n\u001b[0;32m   1847\u001b[0m         \u001b[38;5;241m.\u001b[39m_values\n\u001b[0;32m   1848\u001b[0m     )\n\u001b[0;32m   1849\u001b[0m \u001b[38;5;28;01melse\u001b[39;00m:\n\u001b[1;32m-> 1850\u001b[0m     \u001b[38;5;28;01mraise\u001b[39;00m \u001b[38;5;167;01mKeyError\u001b[39;00m(key)\n\u001b[0;32m   1852\u001b[0m \u001b[38;5;66;03m# Check for duplicates\u001b[39;00m\n\u001b[0;32m   1853\u001b[0m \u001b[38;5;28;01mif\u001b[39;00m values\u001b[38;5;241m.\u001b[39mndim \u001b[38;5;241m>\u001b[39m \u001b[38;5;241m1\u001b[39m:\n",
      "\u001b[1;31mKeyError\u001b[0m: 'year'"
     ]
    }
   ],
   "source": [
    "characters = pd.read_csv('cast.csv')\n",
    "frank_oz_roles = characters[characters['type'] == 'Frank Oz']\n",
    "roles_per_film = frank_oz_roles.groupby('title').size().reset_index(name='RoleCount')\n",
    "multi_role_films = roles_per_film[roles_per_film['RoleCount'] > 1]\n",
    "sorted_multi_role_films = multi_role_films.sort_values(by='year')\n",
    "print(\"Films in which Frank Oz played more than one role (ordered by year):\")\n",
    "print(sorted_multi_role_films[['title', 'year']])"
   ]
  },
  {
   "cell_type": "markdown",
   "id": "b574b3e9",
   "metadata": {},
   "source": [
    "# List each of the characters that Frank Oz has portrayed at least twice."
   ]
  },
  {
   "cell_type": "code",
   "execution_count": 20,
   "id": "2e373cdb",
   "metadata": {},
   "outputs": [
    {
     "name": "stdout",
     "output_type": "stream",
     "text": [
      "Characters portrayed by Frank Oz at least twice:\n",
      "Empty DataFrame\n",
      "Columns: [index, Count]\n",
      "Index: []\n"
     ]
    }
   ],
   "source": [
    "characters = pd.read_csv('cast.csv')\n",
    "\n",
    "# Filter the dataset to include only Frank Oz's roles\n",
    "frank_oz_roles = characters[characters['character'] == 'Frank Oz']\n",
    "\n",
    "# Group the data by character name and count the number of times each character has been portrayed by Frank Oz\n",
    "character_counts = frank_oz_roles['character'].value_counts().reset_index(name='Count')\n",
    "\n",
    "# Filter to include only characters portrayed at least twice\n",
    "characters_at_least_twice = character_counts[character_counts['Count'] >= 2]\n",
    "\n",
    "# Display the list of characters\n",
    "print(\"Characters portrayed by Frank Oz at least twice:\")\n",
    "print(characters_at_least_twice[['index', 'Count']])"
   ]
  },
  {
   "cell_type": "code",
   "execution_count": null,
   "id": "94f81984",
   "metadata": {},
   "outputs": [],
   "source": []
  }
 ],
 "metadata": {
  "kernelspec": {
   "display_name": "Python 3 (ipykernel)",
   "language": "python",
   "name": "python3"
  },
  "language_info": {
   "codemirror_mode": {
    "name": "ipython",
    "version": 3
   },
   "file_extension": ".py",
   "mimetype": "text/x-python",
   "name": "python",
   "nbconvert_exporter": "python",
   "pygments_lexer": "ipython3",
   "version": "3.11.4"
  }
 },
 "nbformat": 4,
 "nbformat_minor": 5
}
