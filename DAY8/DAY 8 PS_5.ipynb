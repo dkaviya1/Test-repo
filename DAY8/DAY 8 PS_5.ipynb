{
 "cells": [
  {
   "cell_type": "markdown",
   "id": "97dfdb9c",
   "metadata": {},
   "source": [
    "# 5. Write a Python program that performs merge sort on a list of numbers: a. Divide: If the given array has zero or one element, return. 1. Otherwise ii. Divide the input list in to two halves each containing half of the elements. i.e. left half and right half. b. Conquer: Recursively sort the two lists (left half and right half). a. Call the merge sort on left half.b Call the merge sort on right half.Combine: Combine the elements back in the input list by merging the two sorted lists into a sorted sequence."
   ]
  },
  {
   "cell_type": "code",
   "execution_count": 1,
   "id": "5a7c1193",
   "metadata": {},
   "outputs": [
    {
     "name": "stdout",
     "output_type": "stream",
     "text": [
      "[4, 19, 34, 34, 47, 56, 98]\n"
     ]
    }
   ],
   "source": [
    "def merge_sort(arr):\n",
    "    if len(arr) <= 1:\n",
    "        return arr\n",
    "    mid = len(arr) // 2\n",
    "    left_half = arr[:mid]\n",
    "    right_half = arr[mid:]\n",
    "    left_half = merge_sort(left_half)\n",
    "    right_half = merge_sort(right_half)\n",
    "    merged = []\n",
    "    left_index, right_index = 0, 0\n",
    "\n",
    "    while left_index < len(left_half) and right_index < len(right_half):\n",
    "        if left_half[left_index] < right_half[right_index]:\n",
    "            merged.append(left_half[left_index])\n",
    "            left_index += 1\n",
    "        else:\n",
    "            merged.append(right_half[right_index])\n",
    "            right_index += 1\n",
    "\n",
    "    merged.extend(left_half[left_index:])\n",
    "    merged.extend(right_half[right_index:])\n",
    "    return merged\n",
    "input_list = [47, 34, 98, 4, 19, 56, 34]\n",
    "sorted_list = merge_sort(input_list)\n",
    "print(sorted_list)"
   ]
  },
  {
   "cell_type": "code",
   "execution_count": null,
   "id": "22f5264c",
   "metadata": {},
   "outputs": [],
   "source": []
  }
 ],
 "metadata": {
  "kernelspec": {
   "display_name": "Python 3 (ipykernel)",
   "language": "python",
   "name": "python3"
  },
  "language_info": {
   "codemirror_mode": {
    "name": "ipython",
    "version": 3
   },
   "file_extension": ".py",
   "mimetype": "text/x-python",
   "name": "python",
   "nbconvert_exporter": "python",
   "pygments_lexer": "ipython3",
   "version": "3.11.4"
  }
 },
 "nbformat": 4,
 "nbformat_minor": 5
}
