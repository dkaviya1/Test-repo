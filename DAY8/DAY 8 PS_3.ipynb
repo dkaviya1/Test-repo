{
 "cells": [
  {
   "cell_type": "markdown",
   "id": "3da76391",
   "metadata": {},
   "source": [
    "# Write a python program for sorting a list of elements using selection sort algorithm."
   ]
  },
  {
   "cell_type": "code",
   "execution_count": 1,
   "id": "a748c256",
   "metadata": {},
   "outputs": [
    {
     "name": "stdout",
     "output_type": "stream",
     "text": [
      "Sorted list: [20, 25, 30, 35, 40, 45, 50]\n"
     ]
    }
   ],
   "source": [
    "def selection_sort(arr):\n",
    "    sorted_list = []  \n",
    "\n",
    "    while arr:\n",
    "        min_value = min(arr)\n",
    "        arr.remove(min_value)\n",
    "        sorted_list.append(min_value)\n",
    "    return sorted_list\n",
    "unsorted_list = [20, 30, 25, 35, 45, 40, 50]\n",
    "sorted_list = selection_sort(unsorted_list)\n",
    "print(\"Sorted list:\", sorted_list)"
   ]
  },
  {
   "cell_type": "code",
   "execution_count": null,
   "id": "da7aef69",
   "metadata": {},
   "outputs": [],
   "source": []
  }
 ],
 "metadata": {
  "kernelspec": {
   "display_name": "Python 3 (ipykernel)",
   "language": "python",
   "name": "python3"
  },
  "language_info": {
   "codemirror_mode": {
    "name": "ipython",
    "version": 3
   },
   "file_extension": ".py",
   "mimetype": "text/x-python",
   "name": "python",
   "nbconvert_exporter": "python",
   "pygments_lexer": "ipython3",
   "version": "3.11.4"
  }
 },
 "nbformat": 4,
 "nbformat_minor": 5
}
