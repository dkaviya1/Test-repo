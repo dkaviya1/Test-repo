{
 "cells": [
  {
   "cell_type": "markdown",
   "id": "ffd2824a",
   "metadata": {},
   "source": [
    "# Write a python program to implement the various operations for Stack ADT 1.) Push ii.) Pop iii.) Display."
   ]
  },
  {
   "cell_type": "code",
   "execution_count": 3,
   "id": "f39ccfc3",
   "metadata": {},
   "outputs": [
    {
     "name": "stdout",
     "output_type": "stream",
     "text": [
      "Stack items:\n",
      "45\n",
      "48\n",
      "39\n",
      "Popped item: 45\n",
      "Popped item: 48\n",
      "After popping:\n",
      "39\n"
     ]
    }
   ],
   "source": [
    "class Stack:\n",
    "    def __init__(self):\n",
    "        self.items = []\n",
    "\n",
    "    def is_empty(self):\n",
    "        return len(self.items) == 0\n",
    "\n",
    "    def push(self, item):\n",
    "        self.items.append(item)\n",
    "\n",
    "    def pop(self):\n",
    "        if not self.is_empty():\n",
    "            return self.items.pop()\n",
    "        else:\n",
    "            print(\"Cannot pop\")\n",
    "\n",
    "    def display(self):\n",
    "        if not self.is_empty():\n",
    "            for item in self.items[::-1]:  \n",
    "                print(item)\n",
    "        else:\n",
    "            print(\"Stack is empty.\")\n",
    "stack = Stack()\n",
    "stack.push(39)\n",
    "stack.push(48)\n",
    "stack.push(45)\n",
    "print(\"Stack items:\")\n",
    "stack.display()\n",
    "print(\"Popped item:\", stack.pop())\n",
    "print(\"Popped item:\", stack.pop())\n",
    "print(\"After popping:\")\n",
    "stack.display()\n"
   ]
  },
  {
   "cell_type": "code",
   "execution_count": null,
   "id": "624c267d",
   "metadata": {},
   "outputs": [],
   "source": []
  }
 ],
 "metadata": {
  "kernelspec": {
   "display_name": "Python 3 (ipykernel)",
   "language": "python",
   "name": "python3"
  },
  "language_info": {
   "codemirror_mode": {
    "name": "ipython",
    "version": 3
   },
   "file_extension": ".py",
   "mimetype": "text/x-python",
   "name": "python",
   "nbconvert_exporter": "python",
   "pygments_lexer": "ipython3",
   "version": "3.11.4"
  }
 },
 "nbformat": 4,
 "nbformat_minor": 5
}
