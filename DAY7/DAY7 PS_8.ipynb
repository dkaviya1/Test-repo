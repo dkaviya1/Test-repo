{
 "cells": [
  {
   "cell_type": "markdown",
   "id": "326e6b80",
   "metadata": {},
   "source": [
    "# Write a python script to implement the various operations for Queue ADT 1.) Insert ii.) Delete iii.) Display."
   ]
  },
  {
   "cell_type": "code",
   "execution_count": 1,
   "id": "d8d29681",
   "metadata": {},
   "outputs": [
    {
     "name": "stdout",
     "output_type": "stream",
     "text": [
      "Queue contents:\n",
      "5\n",
      "10\n",
      "15\n",
      "Deleted item: 5\n",
      "Deleted item: 10\n",
      "After deleting:\n",
      "15\n"
     ]
    }
   ],
   "source": [
    "class Queue:\n",
    "    def __init__(self):\n",
    "        self.items = []\n",
    "\n",
    "    def is_empty(self):\n",
    "        return len(self.items) == 0\n",
    "\n",
    "    def insert(self, item):\n",
    "        self.items.append(item)\n",
    "\n",
    "    def delete(self):\n",
    "        if not self.is_empty():\n",
    "            return self.items.pop(0)  \n",
    "        else:\n",
    "            print(\" Not to delete.\")\n",
    "\n",
    "    def display(self):\n",
    "        if not self.is_empty():\n",
    "            for item in self.items:\n",
    "                print(item)\n",
    "        else:\n",
    "            print(\"Queue is empty.\")\n",
    "queue = Queue()\n",
    "queue.insert(5)\n",
    "queue.insert(10)\n",
    "queue.insert(15)\n",
    "print(\"Queue contents:\")\n",
    "queue.display()\n",
    "print(\"Deleted item:\", queue.delete())\n",
    "print(\"Deleted item:\", queue.delete())\n",
    "print(\"After deleting:\")\n",
    "queue.display()\n"
   ]
  },
  {
   "cell_type": "code",
   "execution_count": null,
   "id": "0ea3a3d3",
   "metadata": {},
   "outputs": [],
   "source": []
  }
 ],
 "metadata": {
  "kernelspec": {
   "display_name": "Python 3 (ipykernel)",
   "language": "python",
   "name": "python3"
  },
  "language_info": {
   "codemirror_mode": {
    "name": "ipython",
    "version": 3
   },
   "file_extension": ".py",
   "mimetype": "text/x-python",
   "name": "python",
   "nbconvert_exporter": "python",
   "pygments_lexer": "ipython3",
   "version": "3.11.4"
  }
 },
 "nbformat": 4,
 "nbformat_minor": 5
}
