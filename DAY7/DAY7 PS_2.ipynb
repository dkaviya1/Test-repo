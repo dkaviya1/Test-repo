{
 "cells": [
  {
   "cell_type": "markdown",
   "id": "39ff55f1",
   "metadata": {},
   "source": [
    "# Write a Python program to implement binary search to find the target values from the list."
   ]
  },
  {
   "cell_type": "code",
   "execution_count": 7,
   "id": "cf39c0fc",
   "metadata": {},
   "outputs": [
    {
     "name": "stdout",
     "output_type": "stream",
     "text": [
      "Enter the elements:\t6\n",
      "Enter the elements 1:1\n",
      "Enter the elements 2:2\n",
      "Enter the elements 3:3\n",
      "Enter the elements 4:4\n",
      "Enter the elements 5:5\n",
      "Enter the elements 6:6\n",
      "Enter the value to be searched:\t4\n",
      "Element 4 at position 4\n",
      "[1, 2, 3, 4, 5, 6]\n"
     ]
    }
   ],
   "source": [
    "data=[]\n",
    "n=int(input('Enter the elements:\\t'))\n",
    "\n",
    "for i in range(0,n):\n",
    "    x=int(input('Enter the elements %d:'%(i+1)))\n",
    "    data.append(x)\n",
    "\n",
    "e=int(input('Enter the value to be searched:\\t'))\n",
    "\n",
    "first=0\n",
    "last=n-1\n",
    "\n",
    "found=False\n",
    "while(first<=last and not found):\n",
    "    mid=(first+last)//2\n",
    "    if data[mid]==e:\n",
    "       found=True\n",
    "    else:\n",
    "        if e<data[mid]:\n",
    "            last=mid-1\n",
    "        else:\n",
    "            first=mid+1\n",
    "if found:\n",
    "     print('Element %d at position %d'%(e,mid+1))\n",
    "else:\n",
    "     print('Element %d is not found in the list'%(e))\n",
    "print(data)\n",
    "        \n"
   ]
  },
  {
   "cell_type": "code",
   "execution_count": 9,
   "id": "8d7340f7",
   "metadata": {},
   "outputs": [
    {
     "data": {
      "text/plain": [
       "2"
      ]
     },
     "execution_count": 9,
     "metadata": {},
     "output_type": "execute_result"
    }
   ],
   "source": [
    "def binary_search(data,low,high,x):\n",
    "    if high >= low:\n",
    "        mid = (high + low) //2\n",
    "        if data[mid] == x:\n",
    "            return mid\n",
    "        elif data[mid] > x:\n",
    "            return binary_search(data, low, mid-1, x)\n",
    "        else:\n",
    "            return binary_search(data, mid + 1, high, x)\n",
    "    else:\n",
    "            return-1\n",
    "binary_search([1,2,3,4,5,6], 0, len(data)-1, 3)"
   ]
  },
  {
   "cell_type": "code",
   "execution_count": null,
   "id": "f63ba486",
   "metadata": {},
   "outputs": [],
   "source": []
  }
 ],
 "metadata": {
  "kernelspec": {
   "display_name": "Python 3 (ipykernel)",
   "language": "python",
   "name": "python3"
  },
  "language_info": {
   "codemirror_mode": {
    "name": "ipython",
    "version": 3
   },
   "file_extension": ".py",
   "mimetype": "text/x-python",
   "name": "python",
   "nbconvert_exporter": "python",
   "pygments_lexer": "ipython3",
   "version": "3.11.4"
  }
 },
 "nbformat": 4,
 "nbformat_minor": 5
}
