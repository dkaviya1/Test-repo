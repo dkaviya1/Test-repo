{
 "cells": [
  {
   "cell_type": "markdown",
   "id": "76e03603",
   "metadata": {},
   "source": [
    "# Write a python program to find a target value in a list using linear searh"
   ]
  },
  {
   "cell_type": "code",
   "execution_count": 3,
   "id": "26c30c18",
   "metadata": {},
   "outputs": [
    {
     "name": "stdout",
     "output_type": "stream",
     "text": [
      "Enter the elements:\t6\n",
      "Enter the elements 1:1\n",
      "Enter the elements 2:2\n",
      "Enter the elements 3:3\n",
      "Enter the elements 4:4\n",
      "Enter the elements 5:5\n",
      "Enter the elements 6:6\n",
      "Enter the value to be searched:\t4\n",
      "Element 4 at position 4\n",
      "[1, 2, 3, 4, 5, 6]\n"
     ]
    }
   ],
   "source": [
    "data=[]\n",
    "n=int(input('Enter the elements:\\t'))\n",
    "\n",
    "for i in range(0,n):\n",
    "    x=int(input('Enter the elements %d:'%(i+1)))\n",
    "    data.append(x)\n",
    "\n",
    "e=int(input('Enter the value to be searched:\\t'))\n",
    "\n",
    "pos=0\n",
    "\n",
    "found=False\n",
    "while pos< n and not found:\n",
    "    if data[pos]==e:\n",
    "        found=True\n",
    "    \n",
    "    else:\n",
    "        pos+=1\n",
    "if found:\n",
    "     print('Element %d at position %d'%(e,pos+1))\n",
    "else:\n",
    "     print('Element %d is not found in the list'%e)\n",
    "print(data)\n",
    "        "
   ]
  },
  {
   "cell_type": "code",
   "execution_count": null,
   "id": "a915a1b4",
   "metadata": {},
   "outputs": [],
   "source": []
  }
 ],
 "metadata": {
  "kernelspec": {
   "display_name": "Python 3 (ipykernel)",
   "language": "python",
   "name": "python3"
  },
  "language_info": {
   "codemirror_mode": {
    "name": "ipython",
    "version": 3
   },
   "file_extension": ".py",
   "mimetype": "text/x-python",
   "name": "python",
   "nbconvert_exporter": "python",
   "pygments_lexer": "ipython3",
   "version": "3.11.4"
  }
 },
 "nbformat": 4,
 "nbformat_minor": 5
}
