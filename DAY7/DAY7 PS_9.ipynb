{
 "cells": [
  {
   "cell_type": "markdown",
   "id": "e8985420",
   "metadata": {},
   "source": [
    "# Write a program in python to convert the following infix expression to its postfix form using push sod pop operations of a Stack a. A/B ^ C+ D* E- F*G b. (B^2-4*A*C)^(1/2) (100)"
   ]
  },
  {
   "cell_type": "code",
   "execution_count": 2,
   "id": "e0122201",
   "metadata": {},
   "outputs": [
    {
     "name": "stdout",
     "output_type": "stream",
     "text": [
      "Postfix Expression: B2^4A*C*-12/100^\n"
     ]
    }
   ],
   "source": [
    "def infix_to_postfix(expression):\n",
    "    precedence = {'+':1, '-':1, '*':2, '/':2, '^':3}\n",
    "    stack = []\n",
    "    postfix = []\n",
    "    \n",
    "    for char in expression:\n",
    "        if char.isalnum():\n",
    "            postfix.append(char)\n",
    "        elif char == '(':\n",
    "            stack.append(char)\n",
    "        elif char == ')':\n",
    "            while stack and stack[-1] != '(':\n",
    "                postfix.append(stack.pop())\n",
    "            stack.pop()\n",
    "        else:\n",
    "            while stack and stack[-1] != '(' and precedence[char] <= precedence.get(stack[-1], 0):\n",
    "                postfix.append(stack.pop())\n",
    "            stack.append(char)\n",
    "    \n",
    "    while stack:\n",
    "        postfix.append(stack.pop())\n",
    "    \n",
    "    return ''.join(postfix)\n",
    "\n",
    "infix_expression = \"A/B^C+D*E-F*G\"\n",
    "#infix_expression = \"(B^2-4*A*C)^(1/2)(100)\"\n",
    "postfix_expression = infix_to_postfix(infix_expression)\n",
    "print(\"Postfix Expression:\", postfix_expression)\n"
   ]
  },
  {
   "cell_type": "code",
   "execution_count": 3,
   "id": "d2ea016a",
   "metadata": {},
   "outputs": [
    {
     "name": "stdout",
     "output_type": "stream",
     "text": [
      "Postfix Expression: B2^4A*C*-12/100^\n"
     ]
    }
   ],
   "source": [
    "def infix_to_postfix(expression):\n",
    "    precedence = {'+':1, '-':1, '*':2, '/':2, '^':3}\n",
    "    stack = []\n",
    "    postfix = []\n",
    "    \n",
    "    for char in expression:\n",
    "        if char.isalnum():\n",
    "            postfix.append(char)\n",
    "        elif char == '(':\n",
    "            stack.append(char)\n",
    "        elif char == ')':\n",
    "            while stack and stack[-1] != '(':\n",
    "                postfix.append(stack.pop())\n",
    "            stack.pop()\n",
    "        else:\n",
    "            while stack and stack[-1] != '(' and precedence[char] <= precedence.get(stack[-1], 0):\n",
    "                postfix.append(stack.pop())\n",
    "            stack.append(char)\n",
    "    \n",
    "    while stack:\n",
    "        postfix.append(stack.pop())\n",
    "    \n",
    "    return ''.join(postfix)\n",
    "\n",
    "#infix_expression = \"A/B^C+D*E-F*G\"\n",
    "infix_expression = \"(B^2-4*A*C)^(1/2)(100)\"\n",
    "postfix_expression = infix_to_postfix(infix_expression)\n",
    "print(\"Postfix Expression:\", postfix_expression)"
   ]
  },
  {
   "cell_type": "code",
   "execution_count": null,
   "id": "ac26b287",
   "metadata": {},
   "outputs": [],
   "source": []
  }
 ],
 "metadata": {
  "kernelspec": {
   "display_name": "Python 3 (ipykernel)",
   "language": "python",
   "name": "python3"
  },
  "language_info": {
   "codemirror_mode": {
    "name": "ipython",
    "version": 3
   },
   "file_extension": ".py",
   "mimetype": "text/x-python",
   "name": "python",
   "nbconvert_exporter": "python",
   "pygments_lexer": "ipython3",
   "version": "3.11.4"
  }
 },
 "nbformat": 4,
 "nbformat_minor": 5
}
