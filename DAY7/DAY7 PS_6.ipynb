{
 "cells": [
  {
   "cell_type": "markdown",
   "id": "8208ea7f",
   "metadata": {},
   "source": [
    "# Write a python script to perform the following operations on a singly linked list"
   ]
  },
  {
   "cell_type": "code",
   "execution_count": 8,
   "id": "80644ad8",
   "metadata": {},
   "outputs": [
    {
     "name": "stdout",
     "output_type": "stream",
     "text": [
      "Smallest element: 1\n",
      "Elements in reverse order:\n",
      "6  5  4  3  2  1  None\n"
     ]
    }
   ],
   "source": [
    "class Node:\n",
    "    def __init__(self, data):\n",
    "        self.data = data\n",
    "        self.next = None\n",
    "\n",
    "class LinkedList:\n",
    "    def __init__(self):\n",
    "        self.head = None\n",
    "\n",
    "    def create_list(self, elements):\n",
    "        for element in elements:\n",
    "            self.insert_end(element)\n",
    "\n",
    "    def insert_end(self, data):\n",
    "        new_node = Node(data)\n",
    "        if not self.head:\n",
    "            self.head = new_node\n",
    "            return\n",
    "        current = self.head\n",
    "        while current.next:\n",
    "            current = current.next\n",
    "        current.next = new_node\n",
    "\n",
    "    def find_smallest_element(self):\n",
    "        if not self.head:\n",
    "            return None\n",
    "        current = self.head\n",
    "        smallest = current.data\n",
    "        while current:\n",
    "            if current.data < smallest:\n",
    "                smallest = current.data\n",
    "            current = current.next\n",
    "        return smallest\n",
    "\n",
    "    def insert_unique(self, data):\n",
    "        if not self.head:\n",
    "            self.head = Node(data)\n",
    "            return\n",
    "        if self.head.data == data:\n",
    "            return\n",
    "        current = self.head\n",
    "        while current.next:\n",
    "            if current.next.data == data:\n",
    "                return\n",
    "            current = current.next\n",
    "        current.next = Node(data)\n",
    "\n",
    "    def display_reverse(self):\n",
    "        stack = []\n",
    "        current = self.head\n",
    "        while current:\n",
    "            stack.append(current.data)\n",
    "            current = current.next\n",
    "        while stack:\n",
    "            print(stack.pop(), end=\"  \")\n",
    "        print(\"None\")\n",
    "linked_list = LinkedList()\n",
    "elements = [1, 2, 3, 4, 5, 6]\n",
    "linked_list.create_list(elements)\n",
    "smallest = linked_list.find_smallest_element()\n",
    "print(f\"Smallest element: {smallest}\")\n",
    "linked_list.insert_unique(4)\n",
    "print(\"Elements in reverse order:\")\n",
    "linked_list.display_reverse()\n"
   ]
  },
  {
   "cell_type": "code",
   "execution_count": null,
   "id": "fce83f76",
   "metadata": {},
   "outputs": [],
   "source": []
  }
 ],
 "metadata": {
  "kernelspec": {
   "display_name": "Python 3 (ipykernel)",
   "language": "python",
   "name": "python3"
  },
  "language_info": {
   "codemirror_mode": {
    "name": "ipython",
    "version": 3
   },
   "file_extension": ".py",
   "mimetype": "text/x-python",
   "name": "python",
   "nbconvert_exporter": "python",
   "pygments_lexer": "ipython3",
   "version": "3.11.4"
  }
 },
 "nbformat": 4,
 "nbformat_minor": 5
}
