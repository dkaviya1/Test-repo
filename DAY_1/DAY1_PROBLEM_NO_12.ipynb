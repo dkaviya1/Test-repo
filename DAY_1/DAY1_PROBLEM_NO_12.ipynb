{
  "nbformat": 4,
  "nbformat_minor": 0,
  "metadata": {
    "colab": {
      "provenance": []
    },
    "kernelspec": {
      "name": "python3",
      "display_name": "Python 3"
    },
    "language_info": {
      "name": "python"
    }
  },
  "cells": [
    {
      "cell_type": "markdown",
      "source": [
        "12.A LIST OF WORDS IS GIVEN.FIND THE WORDS FROM THE LIST THAT HAVE THEIR SECOND CHARACTER IN UPPERCASE ls=['hello','Dear','how','ARe','You']"
      ],
      "metadata": {
        "id": "zbdligjSOiHy"
      }
    },
    {
      "cell_type": "code",
      "source": [
        "ls=['hello','Dear','how','ARe','You']\n",
        "ls\n",
        "for i in ls:\n",
        "  if i[1]==i[1].upper():\n",
        "    print(i)"
      ],
      "metadata": {
        "colab": {
          "base_uri": "https://localhost:8080/"
        },
        "id": "S84p9ypKPKeR",
        "outputId": "90b63e5d-5702-4f3e-c79a-7ed945d340e2"
      },
      "execution_count": 3,
      "outputs": [
        {
          "output_type": "stream",
          "name": "stdout",
          "text": [
            "ARe\n"
          ]
        }
      ]
    }
  ]
}