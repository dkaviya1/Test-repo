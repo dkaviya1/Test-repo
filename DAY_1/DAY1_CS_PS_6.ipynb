{
  "nbformat": 4,
  "nbformat_minor": 0,
  "metadata": {
    "colab": {
      "provenance": []
    },
    "kernelspec": {
      "name": "python3",
      "display_name": "Python 3"
    },
    "language_info": {
      "name": "python"
    }
  },
  "cells": [
    {
      "cell_type": "markdown",
      "source": [
        "6.WRITE A PYTHON PROGRAM TO PRINT THE TABLE OF ANY NUMBER"
      ],
      "metadata": {
        "id": "87zW_cjIM3ai"
      }
    },
    {
      "cell_type": "code",
      "source": [
        "def table(n):\n",
        "    for i in range (1, 11):\n",
        "        print(\"%d * %d = %d\" % (n, i, n * i))\n",
        "n=4\n",
        "table(n)"
      ],
      "metadata": {
        "colab": {
          "base_uri": "https://localhost:8080/"
        },
        "id": "30HL6fMlM96A",
        "outputId": "2493673b-4b5d-4f47-e57d-77406a151938"
      },
      "execution_count": 12,
      "outputs": [
        {
          "output_type": "stream",
          "name": "stdout",
          "text": [
            "4 * 1 = 4\n",
            "4 * 2 = 8\n",
            "4 * 3 = 12\n",
            "4 * 4 = 16\n",
            "4 * 5 = 20\n",
            "4 * 6 = 24\n",
            "4 * 7 = 28\n",
            "4 * 8 = 32\n",
            "4 * 9 = 36\n",
            "4 * 10 = 40\n"
          ]
        }
      ]
    }
  ]
}