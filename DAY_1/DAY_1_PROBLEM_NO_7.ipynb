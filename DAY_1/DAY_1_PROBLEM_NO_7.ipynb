{
  "nbformat": 4,
  "nbformat_minor": 0,
  "metadata": {
    "colab": {
      "provenance": []
    },
    "kernelspec": {
      "name": "python3",
      "display_name": "Python 3"
    },
    "language_info": {
      "name": "python"
    }
  },
  "cells": [
    {
      "cell_type": "markdown",
      "source": [],
      "metadata": {
        "id": "erbx0IsM1nZs"
      }
    },
    {
      "cell_type": "markdown",
      "source": [
        "7.PYTHON PROGRAM TO INSERT A NUMBER AT ANY POSITION IN A LIST"
      ],
      "metadata": {
        "id": "Bm-Sfjek1pOb"
      }
    },
    {
      "cell_type": "code",
      "source": [
        "list=[1,2,3,4,5]\n",
        "list.insert(3,\"4\")\n",
        "list"
      ],
      "metadata": {
        "colab": {
          "base_uri": "https://localhost:8080/"
        },
        "id": "EV6FZdX314xh",
        "outputId": "7f5e745b-eb5d-4f02-b439-328a6a85c160"
      },
      "execution_count": 1,
      "outputs": [
        {
          "output_type": "execute_result",
          "data": {
            "text/plain": [
              "[1, 2, 3, '4', 4, 5]"
            ]
          },
          "metadata": {},
          "execution_count": 1
        }
      ]
    }
  ]
}