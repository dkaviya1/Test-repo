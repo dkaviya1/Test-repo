{
  "nbformat": 4,
  "nbformat_minor": 0,
  "metadata": {
    "colab": {
      "provenance": []
    },
    "kernelspec": {
      "name": "python3",
      "display_name": "Python 3"
    },
    "language_info": {
      "name": "python"
    }
  },
  "cells": [
    {
      "cell_type": "markdown",
      "source": [
        "5.WRITE A PYTHON PROGRAM:\n",
        "\n",
        "1.To calculate the length of string"
      ],
      "metadata": {
        "id": "kSsu8DZd-JyB"
      }
    },
    {
      "cell_type": "code",
      "source": [
        "str1 = \"South India\"\n",
        "len(str1)\n"
      ],
      "metadata": {
        "id": "tapZzVg_-l2F",
        "colab": {
          "base_uri": "https://localhost:8080/"
        },
        "outputId": "e6b55ecd-fe6c-4a41-ab5d-dbc77f99642e"
      },
      "execution_count": 1,
      "outputs": [
        {
          "output_type": "execute_result",
          "data": {
            "text/plain": [
              "11"
            ]
          },
          "metadata": {},
          "execution_count": 1
        }
      ]
    },
    {
      "cell_type": "markdown",
      "source": [
        "2.To reverse words in string"
      ],
      "metadata": {
        "id": "PxUK4lRqldt2"
      }
    },
    {
      "cell_type": "code",
      "source": [
        "str1 = \"South India\"\n",
        "str1[::-1]"
      ],
      "metadata": {
        "colab": {
          "base_uri": "https://localhost:8080/",
          "height": 35
        },
        "id": "iyds2XmuliA9",
        "outputId": "6e100777-6422-4097-a132-52bcce852355"
      },
      "execution_count": 6,
      "outputs": [
        {
          "output_type": "execute_result",
          "data": {
            "text/plain": [
              "'aidnI htuoS'"
            ],
            "application/vnd.google.colaboratory.intrinsic+json": {
              "type": "string"
            }
          },
          "metadata": {},
          "execution_count": 6
        }
      ]
    },
    {
      "cell_type": "markdown",
      "source": [
        "3.To display the same string multiple times"
      ],
      "metadata": {
        "id": "k6KwNeiAn6tR"
      }
    },
    {
      "cell_type": "code",
      "source": [
        "str1 = \"South India\"\n",
        "print(3*str1)"
      ],
      "metadata": {
        "colab": {
          "base_uri": "https://localhost:8080/"
        },
        "id": "bQj_zEG5o1ls",
        "outputId": "e32d5f41-19f2-4367-cf5d-0dd13766c078"
      },
      "execution_count": 11,
      "outputs": [
        {
          "output_type": "stream",
          "name": "stdout",
          "text": [
            "South IndiaSouth IndiaSouth India\n"
          ]
        }
      ]
    },
    {
      "cell_type": "markdown",
      "source": [
        "4.To concatenate two strings"
      ],
      "metadata": {
        "id": "BSWXsc8jpyGF"
      }
    },
    {
      "cell_type": "code",
      "source": [
        "str1 = \"South India\"\n",
        "str1 + 'welcome'"
      ],
      "metadata": {
        "colab": {
          "base_uri": "https://localhost:8080/",
          "height": 35
        },
        "id": "M1XTKzl6p9yd",
        "outputId": "094ab0e8-0e61-4b96-c57b-52ddbbe36786"
      },
      "execution_count": 15,
      "outputs": [
        {
          "output_type": "execute_result",
          "data": {
            "text/plain": [
              "'South Indiawelcome'"
            ],
            "application/vnd.google.colaboratory.intrinsic+json": {
              "type": "string"
            }
          },
          "metadata": {},
          "execution_count": 15
        }
      ]
    },
    {
      "cell_type": "markdown",
      "source": [
        "5.str1 = \"South India\",using string slicing to display \"india\""
      ],
      "metadata": {
        "id": "K-fNdsSdql4N"
      }
    },
    {
      "cell_type": "code",
      "source": [
        "str1 = \"South India\"\n",
        "str1 [5:]"
      ],
      "metadata": {
        "colab": {
          "base_uri": "https://localhost:8080/",
          "height": 35
        },
        "id": "BTkVDXK7q4aq",
        "outputId": "2461d2c3-29a7-4921-f20a-185c48c2a0ba"
      },
      "execution_count": 16,
      "outputs": [
        {
          "output_type": "execute_result",
          "data": {
            "text/plain": [
              "' India'"
            ],
            "application/vnd.google.colaboratory.intrinsic+json": {
              "type": "string"
            }
          },
          "metadata": {},
          "execution_count": 16
        }
      ]
    }
  ]
}