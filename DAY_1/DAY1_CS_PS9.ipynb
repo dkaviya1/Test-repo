{
  "nbformat": 4,
  "nbformat_minor": 0,
  "metadata": {
    "colab": {
      "provenance": []
    },
    "kernelspec": {
      "name": "python3",
      "display_name": "Python 3"
    },
    "language_info": {
      "name": "python"
    }
  },
  "cells": [
    {
      "cell_type": "markdown",
      "source": [
        "9.Write a python program to take the temperature in Celsius and convert it to a Fahrenheit."
      ],
      "metadata": {
        "id": "5W0KjkmZ8Y1g"
      }
    },
    {
      "cell_type": "code",
      "source": [
        "celsius = float(input(\"Enter temperature in Celsius: \"))\n",
        "\n",
        "fahrenheit = (celsius * 9/5) + 32\n",
        "\n",
        "print(f\"{celsius} degrees Celsius is equal to {fahrenheit} degrees Fahrenheit\")"
      ],
      "metadata": {
        "colab": {
          "base_uri": "https://localhost:8080/"
        },
        "id": "zn3eow2d8cEo",
        "outputId": "3f7f06e4-d02b-4abe-a47e-ef16a35e3734"
      },
      "execution_count": 1,
      "outputs": [
        {
          "output_type": "stream",
          "name": "stdout",
          "text": [
            "Enter temperature in Celsius: 23\n",
            "23.0 degrees Celsius is equal to 73.4 degrees Fahrenheit\n"
          ]
        }
      ]
    }
  ]
}