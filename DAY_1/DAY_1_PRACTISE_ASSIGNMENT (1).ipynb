{
  "nbformat": 4,
  "nbformat_minor": 0,
  "metadata": {
    "colab": {
      "provenance": []
    },
    "kernelspec": {
      "name": "python3",
      "display_name": "Python 3"
    },
    "language_info": {
      "name": "python"
    }
  },
  "cells": [
    {
      "cell_type": "code",
      "execution_count": null,
      "metadata": {
        "id": "JvO9o1M4pmG-"
      },
      "outputs": [],
      "source": []
    },
    {
      "cell_type": "markdown",
      "source": [],
      "metadata": {
        "id": "IY7SIwrqq9FI"
      }
    },
    {
      "cell_type": "markdown",
      "source": [
        "MANIPULATE USING LIST\n",
        "1.To add new elements to the end of list.\n"
      ],
      "metadata": {
        "id": "jQWwwX7qwBrP"
      }
    },
    {
      "cell_type": "code",
      "source": [
        "flower_list = [\"jasmine\",\"rose\"]\n",
        "print(f'Current Flower List{flower_list}')\n",
        "new_flower = input(\"enter a flower name :\\n\")\n",
        "flower_list.append(\"hibiscus\")\n",
        "print(f'updated flower lists{flower_list}')"
      ],
      "metadata": {
        "colab": {
          "base_uri": "https://localhost:8080/"
        },
        "id": "4aqon3ZUw76J",
        "outputId": "9eae009f-6ad3-480a-f7d4-65c987958c78"
      },
      "execution_count": 3,
      "outputs": [
        {
          "output_type": "stream",
          "name": "stdout",
          "text": [
            "Current Flower List['jasmine', 'rose']\n",
            "enter a flower name :\n",
            "hibiscus\n",
            "updated flower lists['jasmine', 'rose', 'hibiscus']\n"
          ]
        }
      ]
    },
    {
      "cell_type": "markdown",
      "source": [
        "2.To reverse elements in list"
      ],
      "metadata": {
        "id": "N6mg-Nru2GVi"
      }
    },
    {
      "cell_type": "code",
      "source": [
        "flower_list = [\"jasmine\",\"rose\"]\n",
        "flower_list.reverse()\n",
        "print(flower_list)"
      ],
      "metadata": {
        "colab": {
          "base_uri": "https://localhost:8080/"
        },
        "id": "zbXpV3Du2OuV",
        "outputId": "e9cad15f-ff07-4224-eb6c-46df65277974"
      },
      "execution_count": 5,
      "outputs": [
        {
          "output_type": "stream",
          "name": "stdout",
          "text": [
            "['rose', 'jasmine']\n"
          ]
        }
      ]
    },
    {
      "cell_type": "markdown",
      "source": [
        "3.To display the same list of elements multiple times"
      ],
      "metadata": {
        "id": "Dkuyy66a3E4m"
      }
    },
    {
      "cell_type": "code",
      "source": [
        "flower_list = [\"jasmine\",\"rose\"]\n",
        "repeat_value =3*[\"jasmine\",\"rose\"]\n",
        "print(repeat_value)"
      ],
      "metadata": {
        "colab": {
          "base_uri": "https://localhost:8080/"
        },
        "id": "SBCSgWWo3PxS",
        "outputId": "0f140f5e-cb96-49bb-81a3-3d10415bb27a"
      },
      "execution_count": 6,
      "outputs": [
        {
          "output_type": "stream",
          "name": "stdout",
          "text": [
            "['jasmine', 'rose', 'jasmine', 'rose', 'jasmine', 'rose']\n"
          ]
        }
      ]
    },
    {
      "cell_type": "markdown",
      "source": [
        "4.To concatenate two list"
      ],
      "metadata": {
        "id": "Z8DM7Tm45sDG"
      }
    },
    {
      "cell_type": "code",
      "source": [
        "flower_list = [\"jasmine\",\"rose\"]\n",
        "fruit_list  = [\"Apple\",\"Mango\"]\n",
        "list = flower_list + fruit_list\n",
        "print(list)"
      ],
      "metadata": {
        "colab": {
          "base_uri": "https://localhost:8080/"
        },
        "id": "knXFbgvK52Mx",
        "outputId": "23df6060-5079-40c0-c1b2-71ad8ea285d9"
      },
      "execution_count": 7,
      "outputs": [
        {
          "output_type": "stream",
          "name": "stdout",
          "text": [
            "['jasmine', 'rose', 'Apple', 'Mango']\n"
          ]
        }
      ]
    },
    {
      "cell_type": "markdown",
      "source": [
        "5.To sort the elements in the list in ascending order."
      ],
      "metadata": {
        "id": "Qmg9uOZW6ues"
      }
    },
    {
      "cell_type": "code",
      "source": [
        "flower_list = [\"rose\",\"jasmine\"]\n",
        "flower_list.sort()\n",
        "print(flower_list)"
      ],
      "metadata": {
        "colab": {
          "base_uri": "https://localhost:8080/"
        },
        "id": "sm6op7_q63qW",
        "outputId": "161d259a-777a-4822-a774-91d86b827c2e"
      },
      "execution_count": 9,
      "outputs": [
        {
          "output_type": "stream",
          "name": "stdout",
          "text": [
            "['jasmine', 'rose']\n"
          ]
        }
      ]
    }
  ]
}