{
  "nbformat": 4,
  "nbformat_minor": 0,
  "metadata": {
    "colab": {
      "provenance": []
    },
    "kernelspec": {
      "name": "python3",
      "display_name": "Python 3"
    },
    "language_info": {
      "name": "python"
    }
  },
  "cells": [
    {
      "cell_type": "markdown",
      "source": [
        "11.CREATE A DICTIONARY CONTAINING THREE LAMBDA SQUARE,CUBE,SQUARE ROOT"
      ],
      "metadata": {
        "id": "scI2KDMWDZ0c"
      }
    },
    {
      "cell_type": "code",
      "source": [
        "dict={'square':lambda a :a**2,\n",
        "'cube':lambda a :a**3,\n",
        "'squareroot':lambda a :a**0.5}\n",
        "a=int(input(\"Enter value of a: \"))\n",
        "square_result =dict['square'](a)\n",
        "cube_result = dict['cube'](a)\n",
        "squareroot_result=dict['squareroot'](a)\n",
        "adding = square_result + cube_result + squareroot_result\n",
        "print(adding)\n",
        "\n",
        "\n"
      ],
      "metadata": {
        "colab": {
          "base_uri": "https://localhost:8080/"
        },
        "id": "qkQOTrCiDrSn",
        "outputId": "ded9f515-ddf4-46d3-9701-acd45e76a12f"
      },
      "execution_count": 11,
      "outputs": [
        {
          "output_type": "stream",
          "name": "stdout",
          "text": [
            "Enter value of a: 25\n",
            "16255.0\n"
          ]
        }
      ]
    }
  ]
}