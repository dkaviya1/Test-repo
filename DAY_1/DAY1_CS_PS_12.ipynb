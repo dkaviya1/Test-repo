{
  "nbformat": 4,
  "nbformat_minor": 0,
  "metadata": {
    "colab": {
      "provenance": []
    },
    "kernelspec": {
      "name": "python3",
      "display_name": "Python 3"
    },
    "language_info": {
      "name": "python"
    }
  },
  "cells": [
    {
      "cell_type": "markdown",
      "source": [
        "12.Write a program in python to print out the number of seconds in a year."
      ],
      "metadata": {
        "id": "svbf82TfAi5s"
      }
    },
    {
      "cell_type": "code",
      "source": [
        "days_per_year = 365\n",
        "hours_per_day = 24\n",
        "minutes_per_hour = 60\n",
        "seconds_per_minute = 60\n",
        "\n",
        "total_seconds = days_per_year * hours_per_day * minutes_per_hour * seconds_per_minute\n",
        "\n",
        "print(f\"The number of seconds in a year is: {total_seconds} seconds\")"
      ],
      "metadata": {
        "colab": {
          "base_uri": "https://localhost:8080/"
        },
        "id": "lrEwPpTAAsfo",
        "outputId": "74ff18ce-607f-4733-faf5-defdc6a7f829"
      },
      "execution_count": 2,
      "outputs": [
        {
          "output_type": "stream",
          "name": "stdout",
          "text": [
            "The number of seconds in a year is: 31536000 seconds\n"
          ]
        }
      ]
    }
  ]
}