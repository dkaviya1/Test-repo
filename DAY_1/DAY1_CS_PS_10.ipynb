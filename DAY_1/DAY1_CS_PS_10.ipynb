{
  "nbformat": 4,
  "nbformat_minor": 0,
  "metadata": {
    "colab": {
      "provenance": []
    },
    "kernelspec": {
      "name": "python3",
      "display_name": "Python 3"
    },
    "language_info": {
      "name": "python"
    }
  },
  "cells": [
    {
      "cell_type": "markdown",
      "source": [
        "10.Write a python program to find a maximum and minimum number in a list without using an inbuilt function."
      ],
      "metadata": {
        "id": "WPK7QkCG8_lb"
      }
    },
    {
      "cell_type": "code",
      "source": [
        "def find_max_min(numbers):\n",
        "    if not numbers:\n",
        "\n",
        "              maximum = minimum = numbers[0]\n",
        "             for number in numbers:\n",
        "        if number >=maximum:\n",
        "            maximum = number\n",
        "        if number < minimum:\n",
        "              minimum = number\n",
        "\n",
        "    return (maximum, minimum)"
      ],
      "metadata": {
        "colab": {
          "base_uri": "https://localhost:8080/",
          "height": 140
        },
        "id": "6_F2KWud9HHQ",
        "outputId": "c683ce2e-ae5e-4c59-be7d-b4209515aba8"
      },
      "execution_count": 12,
      "outputs": [
        {
          "output_type": "error",
          "ename": "IndentationError",
          "evalue": "ignored",
          "traceback": [
            "\u001b[0;36m  File \u001b[0;32m\"<tokenize>\"\u001b[0;36m, line \u001b[0;32m5\u001b[0m\n\u001b[0;31m    for number in numbers:\u001b[0m\n\u001b[0m    ^\u001b[0m\n\u001b[0;31mIndentationError\u001b[0m\u001b[0;31m:\u001b[0m unindent does not match any outer indentation level\n"
          ]
        }
      ]
    }
  ]
}