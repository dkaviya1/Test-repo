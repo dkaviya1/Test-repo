{
  "nbformat": 4,
  "nbformat_minor": 0,
  "metadata": {
    "colab": {
      "provenance": []
    },
    "kernelspec": {
      "name": "python3",
      "display_name": "Python 3"
    },
    "language_info": {
      "name": "python"
    }
  },
  "cells": [
    {
      "cell_type": "markdown",
      "source": [
        "1.WRITE A PYTHON PROGRAM TO FIND FIRST N PRIME NUMBERS"
      ],
      "metadata": {
        "id": "Y9gTK2MOn35m"
      }
    },
    {
      "cell_type": "code",
      "source": [
        "a = int(input(\"Enter the start of range: \"))\n",
        "b= int(input(\"Enter the end of range: \"))\n",
        "\n",
        "for num in range(a, b+ 1):\n",
        "   if num> 1:\n",
        "       for i in range(2, int(num**0.5) + 1):\n",
        "           if (num % i) == 0:\n",
        "               break\n",
        "       else:\n",
        "           print(num)"
      ],
      "metadata": {
        "colab": {
          "base_uri": "https://localhost:8080/"
        },
        "id": "Z4wH0OQVoClc",
        "outputId": "e0b08c63-1286-426f-c5c1-178d39512301"
      },
      "execution_count": 7,
      "outputs": [
        {
          "output_type": "stream",
          "name": "stdout",
          "text": [
            "Enter the start of range: 1\n",
            "Enter the end of range: 50\n",
            "2\n",
            "3\n",
            "5\n",
            "7\n",
            "11\n",
            "13\n",
            "17\n",
            "19\n",
            "23\n",
            "29\n",
            "31\n",
            "37\n",
            "41\n",
            "43\n",
            "47\n"
          ]
        }
      ]
    }
  ]
}