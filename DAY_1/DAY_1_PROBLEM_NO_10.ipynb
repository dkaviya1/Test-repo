{
  "nbformat": 4,
  "nbformat_minor": 0,
  "metadata": {
    "colab": {
      "provenance": []
    },
    "kernelspec": {
      "name": "python3",
      "display_name": "Python 3"
    },
    "language_info": {
      "name": "python"
    }
  },
  "cells": [
    {
      "cell_type": "markdown",
      "source": [
        "10.WRITE A PYTHON PROGRAM TO FIND THE SUM OF ALL ITEMS IN A TUPLE"
      ],
      "metadata": {
        "id": "15tEln1E9pxC"
      }
    },
    {
      "cell_type": "code",
      "source": [
        "tuple1=[1,2,3,4,5]\n",
        "for i in tuple1:\n",
        "  count=0\n",
        "count += i\n",
        "print(sum(tuple1))"
      ],
      "metadata": {
        "colab": {
          "base_uri": "https://localhost:8080/"
        },
        "id": "iPm4VL8w923K",
        "outputId": "bfa898c5-c16f-4592-e8ab-fa480454b569"
      },
      "execution_count": 5,
      "outputs": [
        {
          "output_type": "stream",
          "name": "stdout",
          "text": [
            "15\n"
          ]
        }
      ]
    }
  ]
}