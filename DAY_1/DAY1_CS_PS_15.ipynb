{
  "nbformat": 4,
  "nbformat_minor": 0,
  "metadata": {
    "colab": {
      "provenance": []
    },
    "kernelspec": {
      "name": "python3",
      "display_name": "Python 3"
    },
    "language_info": {
      "name": "python"
    }
  },
  "cells": [
    {
      "cell_type": "markdown",
      "source": [
        "15.If the age of Ram,Sam and Khan are input through the keyboard,write a python program to determine the eldest and youngest of the three."
      ],
      "metadata": {
        "id": "Iw03C6NfDwwI"
      }
    },
    {
      "cell_type": "code",
      "source": [
        "ram_age = int(input(\"Enter Ram's age: \"))\n",
        "sam_age = int(input(\"Enter Sam's age: \"))\n",
        "khan_age = int(input(\"Enter Khan's age: \"))\n",
        "if ram_age >= sam_age and ram_age >= khan_age:\n",
        "    eldest = \"Ram\"\n",
        "    if sam_age <= khan_age:\n",
        "        youngest = \"Sam\"\n",
        "    else:\n",
        "        youngest = \"Khan\"\n",
        "elif sam_age >= ram_age and sam_age >= khan_age:\n",
        "    eldest = \"Sam\"\n",
        "    if ram_age <= khan_age:\n",
        "        youngest = \"Ram\"\n",
        "    else:\n",
        "        youngest = \"Khan\"\n",
        "else:\n",
        "    eldest = \"Khan\"\n",
        "    if ram_age <= sam_age:\n",
        "        youngest = \"Ram\"\n",
        "    else:\n",
        "        youngest = \"Sam\"\n",
        "print(f\"The eldest among Ram, Sam, and Khan is: {eldest}\")\n",
        "print(f\"The youngest among Ram, Sam, and Khan is: {youngest}\")"
      ],
      "metadata": {
        "colab": {
          "base_uri": "https://localhost:8080/"
        },
        "id": "fO_VL2p4D5qe",
        "outputId": "cb7d2668-491c-479d-f908-0a8b12fc6420"
      },
      "execution_count": 1,
      "outputs": [
        {
          "output_type": "stream",
          "name": "stdout",
          "text": [
            "Enter Ram's age: 50\n",
            "Enter Sam's age: 26\n",
            "Enter Khan's age: 30\n",
            "The eldest among Ram, Sam, and Khan is: Ram\n",
            "The youngest among Ram, Sam, and Khan is: Sam\n"
          ]
        }
      ]
    }
  ]
}