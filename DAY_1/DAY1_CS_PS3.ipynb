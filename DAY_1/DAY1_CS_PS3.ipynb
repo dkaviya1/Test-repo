{
  "nbformat": 4,
  "nbformat_minor": 0,
  "metadata": {
    "colab": {
      "provenance": []
    },
    "kernelspec": {
      "name": "python3",
      "display_name": "Python 3"
    },
    "language_info": {
      "name": "python"
    }
  },
  "cells": [
    {
      "cell_type": "markdown",
      "source": [
        "3.TO SEARCH FOR A STRING IN THE GIVEN LIST"
      ],
      "metadata": {
        "id": "YTRCwFyFJLZO"
      }
    },
    {
      "cell_type": "code",
      "source": [
        "list = [1, 2, 'a', 'cap', 'Good', 'day']\n",
        "if \"Good\" in list:\n",
        "    print(\"Good is present in the list\")\n",
        "else:\n",
        "    print(\"Good is not present in the list\")"
      ],
      "metadata": {
        "colab": {
          "base_uri": "https://localhost:8080/"
        },
        "id": "2pRUFBHsJtgK",
        "outputId": "ddeefe1e-40b5-4f6f-b36a-7248b0d0aef9"
      },
      "execution_count": 6,
      "outputs": [
        {
          "output_type": "stream",
          "name": "stdout",
          "text": [
            "Good is present in the list\n"
          ]
        }
      ]
    }
  ]
}