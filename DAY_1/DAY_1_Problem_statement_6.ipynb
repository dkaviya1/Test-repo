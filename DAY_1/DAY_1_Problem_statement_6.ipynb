{
  "nbformat": 4,
  "nbformat_minor": 0,
  "metadata": {
    "colab": {
      "provenance": []
    },
    "kernelspec": {
      "name": "python3",
      "display_name": "Python 3"
    },
    "language_info": {
      "name": "python"
    }
  },
  "cells": [
    {
      "cell_type": "markdown",
      "source": [
        "6.PERFORM THE FOLLOWING\n",
        "\n",
        "1.Create the dictionary"
      ],
      "metadata": {
        "id": "O0Nul_sqrjTi"
      }
    },
    {
      "cell_type": "code",
      "source": [
        "person={'f_name' : 'john',\n",
        "        'l_name': 'foderer',\n",
        "        'age' : 30}\n",
        "person\n",
        "\n",
        ""
      ],
      "metadata": {
        "colab": {
          "base_uri": "https://localhost:8080/"
        },
        "id": "-9mgcXtQr868",
        "outputId": "582f0b73-7f79-48d9-a8e2-63dec4fa5d3a"
      },
      "execution_count": 7,
      "outputs": [
        {
          "output_type": "execute_result",
          "data": {
            "text/plain": [
              "{'f_name': 'john', 'l_name': 'foderer', 'age': 30}"
            ]
          },
          "metadata": {},
          "execution_count": 7
        }
      ]
    },
    {
      "cell_type": "markdown",
      "source": [
        "2.Accessing values and keys in dictionary"
      ],
      "metadata": {
        "id": "YzAS730kvD6Z"
      }
    },
    {
      "cell_type": "code",
      "source": [
        "person={'f_name' : 'john',\n",
        "        'l_name': 'foderer',\n",
        "        'age' : 30}\n",
        "x=person.keys()\n",
        "print(x)\n",
        "y=person.get(\"age\")\n",
        "print(y)\n",
        "\n"
      ],
      "metadata": {
        "colab": {
          "base_uri": "https://localhost:8080/"
        },
        "id": "9pD4QSGFvuFh",
        "outputId": "f01e2ad2-a2a3-4708-d8ef-55e7ab821ac8"
      },
      "execution_count": 16,
      "outputs": [
        {
          "output_type": "stream",
          "name": "stdout",
          "text": [
            "dict_keys(['f_name', 'l_name', 'age'])\n",
            "30\n"
          ]
        }
      ]
    },
    {
      "cell_type": "markdown",
      "source": [
        "3.Updating the dictionary using function"
      ],
      "metadata": {
        "id": "zMNA-d2KyT9_"
      }
    },
    {
      "cell_type": "code",
      "source": [
        "person={'f_name' : 'john',\n",
        "        'l_name': 'foderer',\n",
        "        'age' : 30}\n",
        "person.update({\"age\":45})\n",
        "person"
      ],
      "metadata": {
        "colab": {
          "base_uri": "https://localhost:8080/"
        },
        "id": "8Sm9KUXIya19",
        "outputId": "d89b0784-f646-4cfe-c770-f851a5161d8f"
      },
      "execution_count": 19,
      "outputs": [
        {
          "output_type": "execute_result",
          "data": {
            "text/plain": [
              "{'f_name': 'john', 'l_name': 'foderer', 'age': 45}"
            ]
          },
          "metadata": {},
          "execution_count": 19
        }
      ]
    },
    {
      "cell_type": "markdown",
      "source": [
        "4.Clear and delete the dictonary values"
      ],
      "metadata": {
        "id": "fNc1Y_E0zUrC"
      }
    },
    {
      "cell_type": "code",
      "source": [
        "person={'f_name' : 'john',\n",
        "        'l_name': 'foderer',\n",
        "        'age' : 30}\n",
        "person.clear()\n",
        "print(person)\n"
      ],
      "metadata": {
        "colab": {
          "base_uri": "https://localhost:8080/"
        },
        "id": "OvNi_tgVzZUx",
        "outputId": "27d991f8-d876-479e-cc7a-a455fab8ff8c"
      },
      "execution_count": 26,
      "outputs": [
        {
          "output_type": "stream",
          "name": "stdout",
          "text": [
            "{}\n"
          ]
        }
      ]
    }
  ]
}