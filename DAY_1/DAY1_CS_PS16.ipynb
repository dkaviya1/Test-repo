{
  "nbformat": 4,
  "nbformat_minor": 0,
  "metadata": {
    "colab": {
      "provenance": []
    },
    "kernelspec": {
      "name": "python3",
      "display_name": "Python 3"
    },
    "language_info": {
      "name": "python"
    }
  },
  "cells": [
    {
      "cell_type": "markdown",
      "source": [
        "16.Write a python program to rotate a list by right in times with and without slicing technique."
      ],
      "metadata": {
        "id": "TQZO866QEosg"
      }
    },
    {
      "cell_type": "code",
      "source": [
        "def rotate_list_using_slicing(input_list, n):\n",
        "    if len(input_list) == 0:\n",
        "        return input_list\n",
        "\n",
        "    n %= len(input_list)\n",
        "    rotated_list = input_list[-n:] + input_list[:-n]\n",
        "    return rotated_list\n",
        "my_list = [1, 2, 3, 4, 5]\n",
        "n = int(input(\"Enter the number of times in right: \"))\n",
        "\n",
        "rotated_list = rotate_list_using_slicing(my_list, n)\n",
        "print(\"Rotated list using slicing:\", rotated_list)\n",
        "\n",
        "def rotate_list_without_slicing(input_list, n):\n",
        "    if len(input_list) == 0:\n",
        "        return input_list\n",
        "\n",
        "    n %= len(input_list)\n",
        "    for _ in range(n):\n",
        "        temp = input_list.pop()\n",
        "        input_list.insert(0, temp)\n",
        "    return input_list\n",
        "my_list = [1, 2, 3, 4, 5]\n",
        "n = int(input(\"Enter the number of times in right: \"))\n",
        "\n",
        "rotated_list = rotate_list_without_slicing(my_list, n)\n",
        "print(\"Rotated list without slicing:\", rotated_list)"
      ],
      "metadata": {
        "colab": {
          "base_uri": "https://localhost:8080/"
        },
        "id": "KkL2lbFxEuxc",
        "outputId": "4719b470-f333-46e4-e378-74f26b409534"
      },
      "execution_count": 2,
      "outputs": [
        {
          "output_type": "stream",
          "name": "stdout",
          "text": [
            "Enter the number of times in right: 5\n",
            "Rotated list using slicing: [1, 2, 3, 4, 5]\n",
            "Enter the number of times in right: 8\n",
            "Rotated list without slicing: [3, 4, 5, 1, 2]\n"
          ]
        }
      ]
    }
  ]
}