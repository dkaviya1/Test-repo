{
  "nbformat": 4,
  "nbformat_minor": 0,
  "metadata": {
    "colab": {
      "provenance": []
    },
    "kernelspec": {
      "name": "python3",
      "display_name": "Python 3"
    },
    "language_info": {
      "name": "python"
    }
  },
  "cells": [
    {
      "cell_type": "markdown",
      "source": [
        "5.DISPLAY THE SUM OF ODD NUMBERS AND EVEN NUMBERS FROM 12 TO 37"
      ],
      "metadata": {
        "id": "olsuwEoCBfRD"
      }
    },
    {
      "cell_type": "code",
      "source": [
        "a = int(input(\" Please Enter the Minimum Value : \"))\n",
        "b= int(input(\" Please Enter the Maximum Value : \"))\n",
        "\n",
        "even_total = 0\n",
        "odd_total = 0\n",
        "\n",
        "for number in range(a, b + 1):\n",
        "    if(number % 2 == 0):\n",
        "        even_total = even_total + number\n",
        "    else:\n",
        "        odd_total = odd_total + number\n",
        "\n",
        "print(\"The Sum of Even Numbers from 1 to {0} = {1}\".format(number, even_total))\n",
        "print(\"The Sum of Odd Numbers from 1 to {0} = {1}\".format(number, odd_total))"
      ],
      "metadata": {
        "colab": {
          "base_uri": "https://localhost:8080/"
        },
        "id": "MZz-O6VWBrjM",
        "outputId": "52537be5-e1be-413e-f2ea-dc6643040dcc"
      },
      "execution_count": 1,
      "outputs": [
        {
          "output_type": "stream",
          "name": "stdout",
          "text": [
            " Please Enter the Minimum Value : 12\n",
            " Please Enter the Maximum Value : 37\n",
            "The Sum of Even Numbers from 1 to 37 = 312\n",
            "The Sum of Odd Numbers from 1 to 37 = 325\n"
          ]
        }
      ]
    }
  ]
}