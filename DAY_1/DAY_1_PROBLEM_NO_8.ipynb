{
  "nbformat": 4,
  "nbformat_minor": 0,
  "metadata": {
    "colab": {
      "provenance": []
    },
    "kernelspec": {
      "name": "python3",
      "display_name": "Python 3"
    },
    "language_info": {
      "name": "python"
    }
  },
  "cells": [
    {
      "cell_type": "markdown",
      "source": [
        "8.PYTHON PROGRAM TO DELETE AN ELEMENT FROM A LIST BY INDEX"
      ],
      "metadata": {
        "id": "HjaL-yuJ2lAx"
      }
    },
    {
      "cell_type": "code",
      "source": [
        "list=[1,2,3,4,5]\n",
        "index= 2\n",
        "del list[index]\n",
        "print(list)"
      ],
      "metadata": {
        "colab": {
          "base_uri": "https://localhost:8080/"
        },
        "id": "yDz9tkwo205P",
        "outputId": "7ddb9af5-ddee-4592-e2b0-d2ba99010f23"
      },
      "execution_count": 1,
      "outputs": [
        {
          "output_type": "stream",
          "name": "stdout",
          "text": [
            "[1, 2, 4, 5]\n"
          ]
        }
      ]
    }
  ]
}