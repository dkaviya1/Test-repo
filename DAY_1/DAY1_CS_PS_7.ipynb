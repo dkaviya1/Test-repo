{
  "nbformat": 4,
  "nbformat_minor": 0,
  "metadata": {
    "colab": {
      "provenance": []
    },
    "kernelspec": {
      "name": "python3",
      "display_name": "Python 3"
    },
    "language_info": {
      "name": "python"
    }
  },
  "cells": [
    {
      "cell_type": "markdown",
      "source": [
        "7.WRITE A PYTHON PROGRAM TO SUM THE FIRST 10 PRIME NUMBERS"
      ],
      "metadata": {
        "id": "bmC5b5kzSwnu"
      }
    },
    {
      "cell_type": "code",
      "source": [
        "r=40\n",
        "for a in range(2,r+1):\n",
        "    c=0\n",
        "    for i in range(2,a):\n",
        "        if(a%i==0):\n",
        "         c=c+1\n",
        "    if(c<=0):\n",
        "        print(a,end=\" \")"
      ],
      "metadata": {
        "colab": {
          "base_uri": "https://localhost:8080/"
        },
        "id": "5qlJeChdS4nF",
        "outputId": "7fc2731f-cc23-4e74-83ad-01a6dc4de312"
      },
      "execution_count": 6,
      "outputs": [
        {
          "output_type": "stream",
          "name": "stdout",
          "text": [
            "2 3 5 7 11 13 17 19 23 29 31 37 "
          ]
        }
      ]
    }
  ]
}