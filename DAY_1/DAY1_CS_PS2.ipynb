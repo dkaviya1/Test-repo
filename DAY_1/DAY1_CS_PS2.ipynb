{
  "nbformat": 4,
  "nbformat_minor": 0,
  "metadata": {
    "colab": {
      "provenance": []
    },
    "kernelspec": {
      "name": "python3",
      "display_name": "Python 3"
    },
    "language_info": {
      "name": "python"
    }
  },
  "cells": [
    {
      "cell_type": "markdown",
      "source": [
        "2.CALCULATE THE SALARY OF AN EMPLOYEE"
      ],
      "metadata": {
        "id": "RF9rtlgmD82p"
      }
    },
    {
      "cell_type": "code",
      "source": [
        "basic_salary=int(input(\"Enter the basic salary:\"))\n",
        "da=0.4*basic_salary\n",
        "hra=0.2*basic_salary\n",
        "ta=7.50*basic_salary\n",
        "gross_salary=basic_salary+da+hra+ta\n",
        "tax=0.1*gross_salary\n",
        "net_salary=gross_salary-tax\n",
        "print(\"Gross Salary = \",gross_salary)\n",
        "print(\"Net_salary = \",net_salary)"
      ],
      "metadata": {
        "colab": {
          "base_uri": "https://localhost:8080/"
        },
        "id": "WsnutadQED_F",
        "outputId": "abba2836-3cd6-4ecd-ac6f-5fefc588bbb6"
      },
      "execution_count": 7,
      "outputs": [
        {
          "output_type": "stream",
          "name": "stdout",
          "text": [
            "Enter the basic salary:20000\n",
            "Gross Salary =  182000.0\n",
            "Net_salary =  163800.0\n"
          ]
        }
      ]
    }
  ]
}