{
  "nbformat": 4,
  "nbformat_minor": 0,
  "metadata": {
    "colab": {
      "provenance": []
    },
    "kernelspec": {
      "name": "python3",
      "display_name": "Python 3"
    },
    "language_info": {
      "name": "python"
    }
  },
  "cells": [
    {
      "cell_type": "markdown",
      "source": [
        "11.Write a program in python to print out the number of seconds in 30-day month 30 days, 24 hours in a day, 60 minutes per day, 60 seconds in a minute."
      ],
      "metadata": {
        "id": "Fu5WvFpiAGy0"
      }
    },
    {
      "cell_type": "code",
      "source": [
        "days_in_month = 30\n",
        "hours_in_day = 24\n",
        "minutes_in_hour = 60\n",
        "seconds_in_minute = 60\n",
        "\n",
        "seconds_in_30_days = days_in_month * hours_in_day * minutes_in_hour * seconds_in_minute\n",
        "\n",
        "print(f\"There are {seconds_in_30_days} seconds in a 30-day month.\")"
      ],
      "metadata": {
        "colab": {
          "base_uri": "https://localhost:8080/"
        },
        "id": "QYv8_ZRTAI4o",
        "outputId": "580d6a84-e17c-4dec-ec45-393010b5f018"
      },
      "execution_count": 1,
      "outputs": [
        {
          "output_type": "stream",
          "name": "stdout",
          "text": [
            "There are 2592000 seconds in a 30-day month.\n"
          ]
        }
      ]
    }
  ]
}