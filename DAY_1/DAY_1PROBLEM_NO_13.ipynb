{
  "nbformat": 4,
  "nbformat_minor": 0,
  "metadata": {
    "colab": {
      "provenance": []
    },
    "kernelspec": {
      "name": "python3",
      "display_name": "Python 3"
    },
    "language_info": {
      "name": "python"
    }
  },
  "cells": [
    {
      "cell_type": "markdown",
      "source": [
        "13.PROBLEMS ON WEIGHT ON THE MOON\n"
      ],
      "metadata": {
        "id": "MWO6wzIZSbZ-"
      }
    },
    {
      "cell_type": "code",
      "source": [
        "WeightOnEarth = {'John':45,'Shelly':65,'Marry':35}\n",
        "GMoon=1.622\n",
        "GEarth=9.81\n",
        "WeightOnEarth1 =45\n",
        "WeightOnEarth2 =65\n",
        "WeightOnEarth3 =35\n",
        "(lambda WeightOnEarth1:(WeightOnEarth1 *GMoon)/GEarth)(45)\n",
        "#(lambda WMoon:(WeightOnEarth2 *GMoon)/GEarth)(65)\n",
        "\n",
        "\n",
        "\n"
      ],
      "metadata": {
        "colab": {
          "base_uri": "https://localhost:8080/"
        },
        "id": "eOM-slogSqV3",
        "outputId": "02a2856e-e2d0-4edd-f0ce-024ea525f264"
      },
      "execution_count": 12,
      "outputs": [
        {
          "output_type": "execute_result",
          "data": {
            "text/plain": [
              "7.440366972477065"
            ]
          },
          "metadata": {},
          "execution_count": 12
        }
      ]
    },
    {
      "cell_type": "code",
      "source": [
        "(lambda WeightOnEarth2:(WeightOnEarth2 *GMoon)/GEarth)(65)"
      ],
      "metadata": {
        "colab": {
          "base_uri": "https://localhost:8080/"
        },
        "id": "RvlY0oPTiU3B",
        "outputId": "2546eb91-3929-4950-d658-3daa6934172e"
      },
      "execution_count": 13,
      "outputs": [
        {
          "output_type": "execute_result",
          "data": {
            "text/plain": [
              "10.747196738022426"
            ]
          },
          "metadata": {},
          "execution_count": 13
        }
      ]
    },
    {
      "cell_type": "code",
      "source": [
        "(lambda WeightOnEarth3:(WeightOnEarth3 *GMoon)/GEarth)(35)"
      ],
      "metadata": {
        "colab": {
          "base_uri": "https://localhost:8080/"
        },
        "id": "Or1bdDLiicnn",
        "outputId": "51e3f1a2-b3d1-4e0e-b612-93edd9e38b99"
      },
      "execution_count": 15,
      "outputs": [
        {
          "output_type": "execute_result",
          "data": {
            "text/plain": [
              "5.786952089704383"
            ]
          },
          "metadata": {},
          "execution_count": 15
        }
      ]
    }
  ]
}