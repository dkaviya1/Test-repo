{
  "nbformat": 4,
  "nbformat_minor": 0,
  "metadata": {
    "colab": {
      "provenance": []
    },
    "kernelspec": {
      "name": "python3",
      "display_name": "Python 3"
    },
    "language_info": {
      "name": "python"
    }
  },
  "cells": [
    {
      "cell_type": "markdown",
      "source": [
        "8.WRITE A PROGRAM TO IMPLEMENT ARITHMETIC OPERATOR USING NESTED IF STATEMENT"
      ],
      "metadata": {
        "id": "x3JtQilhVTaZ"
      }
    },
    {
      "cell_type": "code",
      "source": [
        "def perform_arithmetic_operation(num1, num2, operator):\n",
        "    if operator  == '+':\n",
        "        result = num1 +num2\n",
        "    elif operator == '-':\n",
        "             result =num1 - num2\n",
        "    elif operator == '*':\n",
        "      result =num1 * num2\n",
        "    elif operator == '/':\n",
        "        if num2 != 0:\n",
        "               result =num1 / num2\n",
        "        else:\n",
        "               return \"Division by zero is not allowed\"\n",
        "    else:\n",
        "      return \"Invalid operator\"\n",
        "    return result\n",
        "num1 = float(input(\"Enter the first number: \"))\n",
        "num2 = float(input(\"Enter the second number: \"))\n",
        "operator = input(\"Enter the operator(+, -, *, /):\")\n",
        "result = perform_arithmetic_operation(num1, num2, operator)\n",
        "print(f\"Result: {result}\")\n",
        "\n",
        "\n"
      ],
      "metadata": {
        "colab": {
          "base_uri": "https://localhost:8080/"
        },
        "id": "Q3UnGtJqVcmJ",
        "outputId": "e6fc1b9a-0548-433a-cd7c-526ef8f0bf0e"
      },
      "execution_count": 12,
      "outputs": [
        {
          "output_type": "stream",
          "name": "stdout",
          "text": [
            "Enter the first number: 100\n",
            "Enter the second number: 200\n",
            "Enter the operator(+, -, *, /):+\n",
            "Result: 300.0\n"
          ]
        }
      ]
    }
  ]
}