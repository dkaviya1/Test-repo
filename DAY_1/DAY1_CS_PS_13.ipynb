{
  "nbformat": 4,
  "nbformat_minor": 0,
  "metadata": {
    "colab": {
      "provenance": []
    },
    "kernelspec": {
      "name": "python3",
      "display_name": "Python 3"
    },
    "language_info": {
      "name": "python"
    }
  },
  "cells": [
    {
      "cell_type": "markdown",
      "source": [
        "13.The number of seconds in a year (assuming 365 days) is: 31536000 seconds\n",
        "A high-speed train can travel at an average speed of 150 mph, how long will it take a train travelling at this speed to travel from London to Glasgow which is 414 miles away?"
      ],
      "metadata": {
        "id": "TDJOVtuPBMIw"
      }
    },
    {
      "cell_type": "code",
      "source": [
        "distance = 414\n",
        "speed = 150\n",
        "time_hours = distance / speed\n",
        "\n",
        "hours = int(time_hours)\n",
        "minutes = (time_hours - hours) * 60\n",
        "\n",
        "print(f\"It will take approximately {hours} hours and {minutes:.2f} minutes to travel from London to Glasgow.\")"
      ],
      "metadata": {
        "colab": {
          "base_uri": "https://localhost:8080/"
        },
        "id": "Ot3YmGWUBOv7",
        "outputId": "391e4fbb-55ae-4f2f-b4bf-30fd88e88dc8"
      },
      "execution_count": 1,
      "outputs": [
        {
          "output_type": "stream",
          "name": "stdout",
          "text": [
            "It will take approximately 2 hours and 45.60 minutes to travel from London to Glasgow.\n"
          ]
        }
      ]
    }
  ]
}