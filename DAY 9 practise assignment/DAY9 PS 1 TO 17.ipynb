{
 "cells": [
  {
   "cell_type": "markdown",
   "id": "e99030fe",
   "metadata": {},
   "source": [
    "# 1.CREATE A 3X3X3 ARRAY WITH RANDOM VALUES"
   ]
  },
  {
   "cell_type": "code",
   "execution_count": 3,
   "id": "34eebea1",
   "metadata": {},
   "outputs": [
    {
     "name": "stdout",
     "output_type": "stream",
     "text": [
      "[[[0.16672849 0.05123141 0.4198135 ]\n",
      "  [0.59871352 0.70144825 0.67232378]\n",
      "  [0.10652629 0.75869116 0.0981197 ]]\n",
      "\n",
      " [[0.74376035 0.83287754 0.77740719]\n",
      "  [0.3230267  0.58845093 0.74022141]\n",
      "  [0.79072568 0.10652282 0.82841676]]\n",
      "\n",
      " [[0.06257719 0.95215153 0.28819355]\n",
      "  [0.413721   0.51024539 0.76094649]\n",
      "  [0.41373383 0.09677851 0.20382307]]]\n"
     ]
    }
   ],
   "source": [
    "import numpy as np\n",
    "random_array = np.random.rand(3, 3, 3)\n",
    "print(random_array)"
   ]
  },
  {
   "cell_type": "markdown",
   "id": "d48954ca",
   "metadata": {},
   "source": [
    "# 2. Create a 5x5 matrix with values 1, 2, 3, and 4 just below the diagonal "
   ]
  },
  {
   "cell_type": "code",
   "execution_count": 4,
   "id": "305efb6b",
   "metadata": {},
   "outputs": [
    {
     "name": "stdout",
     "output_type": "stream",
     "text": [
      "[[0. 0. 0. 0. 0.]\n",
      " [1. 0. 0. 0. 0.]\n",
      " [0. 2. 0. 0. 0.]\n",
      " [0. 0. 3. 0. 0.]\n",
      " [0. 0. 0. 4. 0.]]\n"
     ]
    }
   ],
   "source": [
    "import numpy as np\n",
    "matrix = np.zeros((5, 5))\n",
    "for i in range(1, 5):\n",
    "    matrix[i, i - 1] = i\n",
    "print(matrix)"
   ]
  },
  {
   "cell_type": "markdown",
   "id": "8f883fdd",
   "metadata": {},
   "source": [
    "# 3.Create a 8x8 matrix and fill it with a checkerboard pattern"
   ]
  },
  {
   "cell_type": "code",
   "execution_count": 7,
   "id": "2499c51b",
   "metadata": {},
   "outputs": [
    {
     "name": "stdout",
     "output_type": "stream",
     "text": [
      "[[0 1 0 1 0 1 0 1]\n",
      " [1 0 1 0 1 0 1 0]\n",
      " [0 1 0 1 0 1 0 1]\n",
      " [1 0 1 0 1 0 1 0]\n",
      " [0 1 0 1 0 1 0 1]\n",
      " [1 0 1 0 1 0 1 0]\n",
      " [0 1 0 1 0 1 0 1]\n",
      " [1 0 1 0 1 0 1 0]]\n"
     ]
    }
   ],
   "source": [
    "import numpy as np\n",
    "matrix = np.zeros((8, 8), dtype=int)\n",
    "matrix[1::2, ::2] = 1\n",
    "matrix[::2, 1::2] = 1\n",
    "print(matrix)"
   ]
  },
  {
   "cell_type": "markdown",
   "id": "71dc99c8",
   "metadata": {},
   "source": [
    "# 4.NORMALIZE A 5X5 RANDOM MATRIX"
   ]
  },
  {
   "cell_type": "code",
   "execution_count": 9,
   "id": "6868f255",
   "metadata": {},
   "outputs": [
    {
     "name": "stdout",
     "output_type": "stream",
     "text": [
      "Matrix:\n",
      "[[0.43157923 0.01360807 0.66625248 0.52881288 0.26045061]\n",
      " [0.1904973  0.78333082 0.68080375 0.24504745 0.13490413]\n",
      " [0.16184969 0.29905703 0.58514808 0.30346081 0.56609485]\n",
      " [0.08811413 0.16363084 0.24357945 0.04993267 0.00262067]\n",
      " [0.56746205 0.56669722 0.82726032 0.22131739 0.6031054 ]]\n",
      "\n",
      "Normalized matrix:\n",
      "[[0.52017697 0.01332387 0.8047537  0.63808744 0.3126577 ]\n",
      " [0.22782876 0.94672885 0.8223993  0.29397905 0.16041364]\n",
      " [0.19308921 0.35947381 0.70640237 0.36481406 0.68329745]\n",
      " [0.10367371 0.19524911 0.29219887 0.05737293 0.        ]\n",
      " [0.68495539 0.68402792 1.         0.26520277 0.72817833]]\n"
     ]
    }
   ],
   "source": [
    "import numpy as np\n",
    "matrix = np.random.rand(5, 5)\n",
    "normalized_matrix = (matrix - np.min(matrix)) / (np.max(matrix) - np.min(matrix))\n",
    "print(\"Matrix:\")\n",
    "print(matrix)\n",
    "print(\"\\nNormalized matrix:\")\n",
    "print(normalized_matrix)"
   ]
  },
  {
   "cell_type": "markdown",
   "id": "05a437d8",
   "metadata": {},
   "source": [
    "# 5.HOW TO FIND COMMON VALUES BETWEN TWO ARRAYS."
   ]
  },
  {
   "cell_type": "code",
   "execution_count": 11,
   "id": "9cbc4258",
   "metadata": {},
   "outputs": [
    {
     "name": "stdout",
     "output_type": "stream",
     "text": [
      "[5]\n"
     ]
    }
   ],
   "source": [
    "import numpy as np\n",
    "array1 = np.array([1, 2, 3, 4, 5])\n",
    "array2 = np.array([31, 10, 5, 6, 7])\n",
    "common_values = np.intersect1d(array1, array2)\n",
    "print(common_values)"
   ]
  },
  {
   "cell_type": "markdown",
   "id": "42b324ab",
   "metadata": {},
   "source": [
    "# 6.HOW TO GET THE DATES OF YESTERDAY,TODAY AND TOMORROW"
   ]
  },
  {
   "cell_type": "code",
   "execution_count": 12,
   "id": "36e4fefc",
   "metadata": {},
   "outputs": [
    {
     "name": "stdout",
     "output_type": "stream",
     "text": [
      "Yesterday: 2023-09-20\n",
      "Today: 2023-09-21\n",
      "Tomorrow: 2023-09-22\n"
     ]
    }
   ],
   "source": [
    "import datetime\n",
    "import numpy as np\n",
    "today = datetime.date.today()\n",
    "yesterday = today - datetime.timedelta(days=1)\n",
    "tomorrow = today + datetime.timedelta(days=1)\n",
    "date_array = np.array([yesterday, today, tomorrow])\n",
    "print(\"Yesterday:\", date_array[0])\n",
    "print(\"Today:\", date_array[1])\n",
    "print(\"Tomorrow:\", date_array[2])\n"
   ]
  },
  {
   "cell_type": "markdown",
   "id": "e5cbf0d5",
   "metadata": {},
   "source": [
    "# 7.CONSIDER TWO RANDOM ARRAY A AND B ,CHECK IF THEY ARE EQUAL."
   ]
  },
  {
   "cell_type": "code",
   "execution_count": 13,
   "id": "d4cb213b",
   "metadata": {},
   "outputs": [
    {
     "name": "stdout",
     "output_type": "stream",
     "text": [
      "Arrays A and B are not equal.\n"
     ]
    }
   ],
   "source": [
    "import numpy as np\n",
    "A = np.random.rand(5)\n",
    "B = np.random.rand(5)\n",
    "equal = np.array_equal(A, B)\n",
    "\n",
    "if equal:\n",
    "    print(\"Arrays A and B are equal.\")\n",
    "else:\n",
    "    print(\"Arrays A and B are not equal.\")"
   ]
  },
  {
   "cell_type": "markdown",
   "id": "895bf98d",
   "metadata": {},
   "source": [
    "# 8.CREATE A RANDOM VECTOR OF SIZE 10 AND REPLACE THE MAXIMUM VALUE BY 0"
   ]
  },
  {
   "cell_type": "code",
   "execution_count": 15,
   "id": "cb568d56",
   "metadata": {},
   "outputs": [
    {
     "name": "stdout",
     "output_type": "stream",
     "text": [
      "[0.07022799 0.15847512 0.7861317  0.         0.00728065 0.20232745\n",
      " 0.32302416 0.03726536 0.04704048 0.48679614]\n"
     ]
    }
   ],
   "source": [
    "import numpy as np\n",
    "random_vector = np.random.rand(10)\n",
    "max_index = np.argmax(random_vector)\n",
    "random_vector[max_index] = 0\n",
    "print(random_vector)"
   ]
  },
  {
   "cell_type": "markdown",
   "id": "4c4c68d6",
   "metadata": {},
   "source": [
    "# 9.HOW TO PRINT ALL THE VALUES OF AN ARRAY?"
   ]
  },
  {
   "cell_type": "code",
   "execution_count": 17,
   "id": "f7674c77",
   "metadata": {},
   "outputs": [
    {
     "name": "stdout",
     "output_type": "stream",
     "text": [
      "[11 22 33 44 55]\n"
     ]
    }
   ],
   "source": [
    "import numpy as np\n",
    "my_array = np.array([11, 22, 33, 44, 55])\n",
    "np.set_printoptions(threshold=np.inf)\n",
    "print(my_array)\n"
   ]
  },
  {
   "cell_type": "markdown",
   "id": "37e658f7",
   "metadata": {},
   "source": [
    "# 10.SUBTRACT THE MEAN OF EACH ROW OF A MATRIX"
   ]
  },
  {
   "cell_type": "code",
   "execution_count": 18,
   "id": "9b575b2c",
   "metadata": {},
   "outputs": [
    {
     "name": "stdout",
     "output_type": "stream",
     "text": [
      "[[-1.  0.  1.]\n",
      " [-1.  0.  1.]\n",
      " [-1.  0.  1.]]\n"
     ]
    }
   ],
   "source": [
    "import numpy as np\n",
    "matrix = np.array([[1, 2, 3],\n",
    "                   [4, 5, 6],\n",
    "                   [7, 8, 9]])\n",
    "row_means = np.mean(matrix, axis=1, keepdims=True)\n",
    "result_matrix = matrix - row_means\n",
    "print(result_matrix)"
   ]
  },
  {
   "cell_type": "markdown",
   "id": "bafd1c56",
   "metadata": {},
   "source": [
    "# 11.Consider a given vector, how to add 1 to each element indexed by a second vector ?"
   ]
  },
  {
   "cell_type": "code",
   "execution_count": 39,
   "id": "060c3a22",
   "metadata": {},
   "outputs": [
    {
     "name": "stdout",
     "output_type": "stream",
     "text": [
      "[1 3 4 5 6]\n"
     ]
    }
   ],
   "source": [
    "import numpy as np\n",
    "given_vector = np.array([1, 2, 3, 4, 5])\n",
    "index_vector = np.array([1, 3, 2, 1, 4, 3])\n",
    "unique_indices = np.unique(index_vector)\n",
    "a = np.isin(np.arange(len(given_vector)), unique_indices)\n",
    "given_vector[a] += 1\n",
    "print(given_vector)\n",
    "\n"
   ]
  },
  {
   "cell_type": "markdown",
   "id": "b99007d2",
   "metadata": {},
   "source": [
    "# 12.HOW TO GET THE DIAGONAL OF DOT PRODUCT"
   ]
  },
  {
   "cell_type": "code",
   "execution_count": 20,
   "id": "f6e29b3c",
   "metadata": {},
   "outputs": [
    {
     "name": "stdout",
     "output_type": "stream",
     "text": [
      "[ 30  81 150]\n"
     ]
    }
   ],
   "source": [
    "import numpy as np\n",
    "matrix_A = np.array([[1, 2, 3],\n",
    "                     [4, 5, 6],\n",
    "                     [7, 8, 9]])\n",
    "\n",
    "matrix_B = np.array([[1, 2, 3],\n",
    "                     [4, 5, 6],\n",
    "                     [7, 8, 9]])\n",
    "result = np.dot(matrix_A, matrix_B)\n",
    "diagonal_elements = np.diag(result)\n",
    "print(diagonal_elements)\n",
    "\n"
   ]
  },
  {
   "cell_type": "markdown",
   "id": "d3b3da28",
   "metadata": {},
   "source": [
    "# 13.HOW TO FIND THE MOST FREQUENT VALUE IN AN ARRAY."
   ]
  },
  {
   "cell_type": "code",
   "execution_count": 21,
   "id": "77e30b22",
   "metadata": {},
   "outputs": [
    {
     "data": {
      "text/plain": [
       "array([6, 6, 5, 7, 1, 0, 0, 6, 9, 3, 4, 9, 9, 6, 3, 6, 8, 4, 6, 3, 6, 2,\n",
       "       1, 5, 4, 5, 6, 2, 3, 4, 6, 3, 7, 5, 1, 3, 6, 9, 0, 7, 1, 3, 1, 1,\n",
       "       8, 6, 8, 6, 3, 2])"
      ]
     },
     "execution_count": 21,
     "metadata": {},
     "output_type": "execute_result"
    }
   ],
   "source": [
    "x = np.random.randint(0,10,50)\n",
    "x"
   ]
  },
  {
   "cell_type": "code",
   "execution_count": 25,
   "id": "ff9149e2",
   "metadata": {},
   "outputs": [
    {
     "name": "stdout",
     "output_type": "stream",
     "text": [
      "most frequent value: 6\n"
     ]
    }
   ],
   "source": [
    "import numpy as np\n",
    "counts = np.bincount(x)\n",
    "most_frequent_value = np.argmax(counts)\n",
    "print(\"most frequent value:\",most_frequent_value)"
   ]
  },
  {
   "cell_type": "markdown",
   "id": "5b2412cd",
   "metadata": {},
   "source": [
    "# 14.HOW TO GET N LARGEST VALUES OF AN ARRAY"
   ]
  },
  {
   "cell_type": "code",
   "execution_count": 28,
   "id": "465d90f8",
   "metadata": {},
   "outputs": [
    {
     "name": "stdout",
     "output_type": "stream",
     "text": [
      "The 3 largest values: [4 5 6]\n"
     ]
    }
   ],
   "source": [
    "import numpy as np\n",
    "arr = np.array([1, 2, 3, 4, 5, 6])\n",
    "n_largest = 3\n",
    "n_largest_values = np.partition(arr, n_largest)[n_largest:]\n",
    "print(\"The\", n_largest, \"largest values:\", n_largest_values)\n"
   ]
  },
  {
   "cell_type": "markdown",
   "id": "ebbcea20",
   "metadata": {},
   "source": [
    "# 15.HOW TO CREATE A RECORD OF ARRAY FROM A REGULAR ARRAY?"
   ]
  },
  {
   "cell_type": "code",
   "execution_count": 7,
   "id": "a73cf40d",
   "metadata": {},
   "outputs": [
    {
     "name": "stdout",
     "output_type": "stream",
     "text": [
      "record array:\n",
      "[(1,) (2,) (3,)]\n",
      "my_column: [1 2 3]\n"
     ]
    }
   ],
   "source": [
    "import numpy as np\n",
    "regular_array = np.array([1,2,3])\n",
    "record_array = np.rec.array(regular_array,dtype=[('my_column',int)])\n",
    "print(\"record array:\")\n",
    "print(record_array)\n",
    "print(\"my_column:\",record_array.my_column)"
   ]
  },
  {
   "cell_type": "markdown",
   "id": "80dfc30a",
   "metadata": {},
   "source": [
    "# 16.HOW TO SWAP TWO ROWS OF AN ARRAY?"
   ]
  },
  {
   "cell_type": "code",
   "execution_count": 32,
   "id": "4135aad9",
   "metadata": {},
   "outputs": [
    {
     "name": "stdout",
     "output_type": "stream",
     "text": [
      "[[1 2 3]\n",
      " [4 5 6]\n",
      " [4 5 6]]\n"
     ]
    }
   ],
   "source": [
    "import numpy as np\n",
    "array = np.array([[1, 2, 3],\n",
    "                  [4, 5, 6],\n",
    "                  [7, 8, 9]])\n",
    "array[2], array[1] = array[1], array[2]\n",
    "print(array)\n"
   ]
  },
  {
   "cell_type": "markdown",
   "id": "25443327",
   "metadata": {},
   "source": [
    "# 17. WRITE A PYTHON CODE TO RESHAPE THE NEXT DIMENSION OF NUMPY ARRAY ."
   ]
  },
  {
   "cell_type": "code",
   "execution_count": 34,
   "id": "67443e37",
   "metadata": {},
   "outputs": [
    {
     "data": {
      "text/plain": [
       "array([[ 23,  34, 121],\n",
       "       [ 23,  22,  67],\n",
       "       [686, 434, 123]])"
      ]
     },
     "execution_count": 34,
     "metadata": {},
     "output_type": "execute_result"
    }
   ],
   "source": [
    "x = np.array([[23, 34, 121],[23, 22, 67],[686, 434, 123]])\n",
    "x"
   ]
  },
  {
   "cell_type": "code",
   "execution_count": 35,
   "id": "55a4b6db",
   "metadata": {},
   "outputs": [
    {
     "name": "stdout",
     "output_type": "stream",
     "text": [
      "[[ 23  34 121]\n",
      " [ 23  22  67]\n",
      " [686 434 123]]\n"
     ]
    }
   ],
   "source": [
    "reshape_array=np.reshape(x,(3,3))\n",
    "print(reshape_array)"
   ]
  },
  {
   "cell_type": "code",
   "execution_count": null,
   "id": "f99faf3f",
   "metadata": {},
   "outputs": [],
   "source": []
  }
 ],
 "metadata": {
  "kernelspec": {
   "display_name": "Python 3 (ipykernel)",
   "language": "python",
   "name": "python3"
  },
  "language_info": {
   "codemirror_mode": {
    "name": "ipython",
    "version": 3
   },
   "file_extension": ".py",
   "mimetype": "text/x-python",
   "name": "python",
   "nbconvert_exporter": "python",
   "pygments_lexer": "ipython3",
   "version": "3.11.4"
  }
 },
 "nbformat": 4,
 "nbformat_minor": 5
}
